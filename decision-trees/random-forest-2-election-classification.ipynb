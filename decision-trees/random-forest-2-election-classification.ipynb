{
 "cells": [
  {
   "cell_type": "markdown",
   "metadata": {},
   "source": [
    "# Random Forests: Presidential Contributions\n",
    "\n",
    "Let's look at a random forests models for the presidential dataset.\n",
    "\n",
    "This dataset defines all presidential contribution amounts from publicly available information.\n",
    "\n",
    "**The purpose here is to try to classify the candidate to whom the contributor likely to contribute.**  \n",
    "\n",
    "Here are the feature columns we will use:\n",
    "1. State \n",
    "2. Employer\n",
    "3. Occupation\n",
    "\n",
    "### Notes\n",
    "\n",
    "This is going to be a very difficult dataset to get high accuracy, because we don't have any features that are highly correlated with the outcome. Part of our analysis is to see which features prove to be the most useful. \n",
    "\n",
    "One might suspect that information like State, might be very predictive -- because presumably New Yorkers might contribute to Hillary Clinton and Texans might contribute to Donald Trump. However, it turns out that State is pretty weakly correlated to the outcome.  \n",
    "\n",
    "One nice thing about random forests is that since we \"bag\" featues in differnet trees, we can empirically see which variables have hte most predictive power.  This is helpful for analytical reasons.\n",
    "\n"
   ]
  },
  {
   "cell_type": "code",
   "execution_count": 1,
   "metadata": {},
   "outputs": [
    {
     "name": "stdout",
     "output_type": "stream",
     "text": [
      "Initializing Spark...\n",
      "Spark found in :  /Users/sujee/spark\n",
      "Spark config:\n",
      "\t spark.app.name=TestApp\n",
      "\tspark.master=local[*]\n",
      "\texecutor.memory=2g\n",
      "\tspark.sql.warehouse.dir=/var/folders/lp/qm_skljd2hl4xtps5vw0tdgm0000gn/T/tmphyk5403s\n",
      "\tsome_property=some_value\n",
      "Spark UI running on port 4040\n"
     ]
    },
    {
     "data": {
      "text/html": [
       "\n",
       "            <div>\n",
       "                <p><b>SparkSession - in-memory</b></p>\n",
       "                \n",
       "        <div>\n",
       "            <p><b>SparkContext</b></p>\n",
       "\n",
       "            <p><a href=\"http://sujee-mbp-2.lan:4040\">Spark UI</a></p>\n",
       "\n",
       "            <dl>\n",
       "              <dt>Version</dt>\n",
       "                <dd><code>v2.3.0</code></dd>\n",
       "              <dt>Master</dt>\n",
       "                <dd><code>local[*]</code></dd>\n",
       "              <dt>AppName</dt>\n",
       "                <dd><code>TestApp</code></dd>\n",
       "            </dl>\n",
       "        </div>\n",
       "        \n",
       "            </div>\n",
       "        "
      ],
      "text/plain": [
       "<pyspark.sql.session.SparkSession at 0x11eac5128>"
      ]
     },
     "execution_count": 1,
     "metadata": {},
     "output_type": "execute_result"
    }
   ],
   "source": [
    "# initialize Spark Session\n",
    "import os\n",
    "import sys\n",
    "top_dir = os.path.abspath(os.path.join(os.getcwd(), \"../\"))\n",
    "if top_dir not in sys.path:\n",
    "    sys.path.append(top_dir)\n",
    "\n",
    "from init_spark import init_spark\n",
    "spark = init_spark()\n",
    "spark"
   ]
  },
  {
   "cell_type": "markdown",
   "metadata": {},
   "source": [
    "## Step 1: Load the data"
   ]
  },
  {
   "cell_type": "code",
   "execution_count": 2,
   "metadata": {},
   "outputs": [
    {
     "name": "stdout",
     "output_type": "stream",
     "text": [
      "CPU times: user 1.95 ms, sys: 1.3 ms, total: 3.24 ms\n",
      "Wall time: 3.38 s\n"
     ]
    }
   ],
   "source": [
    "%%time\n",
    "\n",
    "# 100k samples\n",
    "data_file = '/data/presidential_election_contribs/2016/2016-100k.csv.gz'\n",
    "\n",
    "\n",
    "data = spark.read.csv(data_file, \\\n",
    "                         header=True, inferSchema=True)"
   ]
  },
  {
   "cell_type": "code",
   "execution_count": 3,
   "metadata": {},
   "outputs": [
    {
     "name": "stdout",
     "output_type": "stream",
     "text": [
      "read 100,000 records\n"
     ]
    }
   ],
   "source": [
    "print(\"read {:,} records\".format(data.count()))"
   ]
  },
  {
   "cell_type": "code",
   "execution_count": 4,
   "metadata": {},
   "outputs": [
    {
     "name": "stdout",
     "output_type": "stream",
     "text": [
      "root\n",
      " |-- CMTE_ID: string (nullable = true)\n",
      " |-- CAND_ID: string (nullable = true)\n",
      " |-- CAND_NM: string (nullable = true)\n",
      " |-- CONTBR_NM: string (nullable = true)\n",
      " |-- CONTBR_CITY: string (nullable = true)\n",
      " |-- CONTBR_ST: string (nullable = true)\n",
      " |-- CONTBR_ZIP: string (nullable = true)\n",
      " |-- CONTBR_EMPLOYER: string (nullable = true)\n",
      " |-- CONTBR_OCCUPATION: string (nullable = true)\n",
      " |-- CONTB_RECEIPT_AMT: double (nullable = true)\n",
      " |-- CONTB_RECEIPT_DT: string (nullable = true)\n",
      " |-- RECEIPT_DESC: string (nullable = true)\n",
      " |-- MEMO_CD: string (nullable = true)\n",
      " |-- MEMO_TEXT: string (nullable = true)\n",
      " |-- FORM_TP: string (nullable = true)\n",
      " |-- FILE_NUM: integer (nullable = true)\n",
      " |-- TRAN_ID: string (nullable = true)\n",
      " |-- ELECTION_TP: string (nullable = true)\n",
      "\n"
     ]
    }
   ],
   "source": [
    "data.printSchema()\n"
   ]
  },
  {
   "cell_type": "code",
   "execution_count": 5,
   "metadata": {},
   "outputs": [
    {
     "data": {
      "text/html": [
       "<div>\n",
       "<style scoped>\n",
       "    .dataframe tbody tr th:only-of-type {\n",
       "        vertical-align: middle;\n",
       "    }\n",
       "\n",
       "    .dataframe tbody tr th {\n",
       "        vertical-align: top;\n",
       "    }\n",
       "\n",
       "    .dataframe thead th {\n",
       "        text-align: right;\n",
       "    }\n",
       "</style>\n",
       "<table border=\"1\" class=\"dataframe\">\n",
       "  <thead>\n",
       "    <tr style=\"text-align: right;\">\n",
       "      <th></th>\n",
       "      <th>0</th>\n",
       "      <th>1</th>\n",
       "      <th>2</th>\n",
       "    </tr>\n",
       "  </thead>\n",
       "  <tbody>\n",
       "    <tr>\n",
       "      <th>CMTE_ID</th>\n",
       "      <td>C00605568</td>\n",
       "      <td>C00574624</td>\n",
       "      <td>C00580100</td>\n",
       "    </tr>\n",
       "    <tr>\n",
       "      <th>CAND_ID</th>\n",
       "      <td>P20002671</td>\n",
       "      <td>P60006111</td>\n",
       "      <td>P80001571</td>\n",
       "    </tr>\n",
       "    <tr>\n",
       "      <th>CAND_NM</th>\n",
       "      <td>Johnson, Gary</td>\n",
       "      <td>Cruz, Rafael Edward 'Ted'</td>\n",
       "      <td>Trump, Donald J.</td>\n",
       "    </tr>\n",
       "    <tr>\n",
       "      <th>CONTBR_NM</th>\n",
       "      <td>SMITH, PAUL</td>\n",
       "      <td>BROWNE, THOMAS JOHN</td>\n",
       "      <td>RISENHOOVER, LINDSEY</td>\n",
       "    </tr>\n",
       "    <tr>\n",
       "      <th>CONTBR_CITY</th>\n",
       "      <td>SAN DIEGO</td>\n",
       "      <td>WHITESBORO</td>\n",
       "      <td>TULSA</td>\n",
       "    </tr>\n",
       "    <tr>\n",
       "      <th>CONTBR_ST</th>\n",
       "      <td>CA</td>\n",
       "      <td>NY</td>\n",
       "      <td>OK</td>\n",
       "    </tr>\n",
       "    <tr>\n",
       "      <th>CONTBR_ZIP</th>\n",
       "      <td>92117</td>\n",
       "      <td>134921106</td>\n",
       "      <td>74133</td>\n",
       "    </tr>\n",
       "    <tr>\n",
       "      <th>CONTBR_EMPLOYER</th>\n",
       "      <td>SELF</td>\n",
       "      <td>RETIRED</td>\n",
       "      <td>INFORMATION REQUESTED</td>\n",
       "    </tr>\n",
       "    <tr>\n",
       "      <th>CONTBR_OCCUPATION</th>\n",
       "      <td>RETIRED</td>\n",
       "      <td>RETIRED</td>\n",
       "      <td>INFORMATION REQUESTED</td>\n",
       "    </tr>\n",
       "    <tr>\n",
       "      <th>CONTB_RECEIPT_AMT</th>\n",
       "      <td>150</td>\n",
       "      <td>35</td>\n",
       "      <td>73.59</td>\n",
       "    </tr>\n",
       "    <tr>\n",
       "      <th>CONTB_RECEIPT_DT</th>\n",
       "      <td>16-SEP-16</td>\n",
       "      <td>30-APR-15</td>\n",
       "      <td>09-NOV-16</td>\n",
       "    </tr>\n",
       "    <tr>\n",
       "      <th>RECEIPT_DESC</th>\n",
       "      <td>None</td>\n",
       "      <td>None</td>\n",
       "      <td>None</td>\n",
       "    </tr>\n",
       "    <tr>\n",
       "      <th>MEMO_CD</th>\n",
       "      <td>None</td>\n",
       "      <td>None</td>\n",
       "      <td>X</td>\n",
       "    </tr>\n",
       "    <tr>\n",
       "      <th>MEMO_TEXT</th>\n",
       "      <td>None</td>\n",
       "      <td>None</td>\n",
       "      <td>None</td>\n",
       "    </tr>\n",
       "    <tr>\n",
       "      <th>FORM_TP</th>\n",
       "      <td>SA17A</td>\n",
       "      <td>SA17A</td>\n",
       "      <td>SA18</td>\n",
       "    </tr>\n",
       "    <tr>\n",
       "      <th>FILE_NUM</th>\n",
       "      <td>1112281</td>\n",
       "      <td>1024046</td>\n",
       "      <td>1146165</td>\n",
       "    </tr>\n",
       "    <tr>\n",
       "      <th>TRAN_ID</th>\n",
       "      <td>SA17A.66792</td>\n",
       "      <td>SA17.279055</td>\n",
       "      <td>SA18.136964</td>\n",
       "    </tr>\n",
       "    <tr>\n",
       "      <th>ELECTION_TP</th>\n",
       "      <td>G2016</td>\n",
       "      <td>P2016</td>\n",
       "      <td>G2016</td>\n",
       "    </tr>\n",
       "  </tbody>\n",
       "</table>\n",
       "</div>"
      ],
      "text/plain": [
       "                               0                          1  \\\n",
       "CMTE_ID                C00605568                  C00574624   \n",
       "CAND_ID                P20002671                  P60006111   \n",
       "CAND_NM            Johnson, Gary  Cruz, Rafael Edward 'Ted'   \n",
       "CONTBR_NM            SMITH, PAUL        BROWNE, THOMAS JOHN   \n",
       "CONTBR_CITY            SAN DIEGO                 WHITESBORO   \n",
       "CONTBR_ST                     CA                         NY   \n",
       "CONTBR_ZIP                 92117                  134921106   \n",
       "CONTBR_EMPLOYER             SELF                    RETIRED   \n",
       "CONTBR_OCCUPATION        RETIRED                    RETIRED   \n",
       "CONTB_RECEIPT_AMT            150                         35   \n",
       "CONTB_RECEIPT_DT       16-SEP-16                  30-APR-15   \n",
       "RECEIPT_DESC                None                       None   \n",
       "MEMO_CD                     None                       None   \n",
       "MEMO_TEXT                   None                       None   \n",
       "FORM_TP                    SA17A                      SA17A   \n",
       "FILE_NUM                 1112281                    1024046   \n",
       "TRAN_ID              SA17A.66792                SA17.279055   \n",
       "ELECTION_TP                G2016                      P2016   \n",
       "\n",
       "                                       2  \n",
       "CMTE_ID                        C00580100  \n",
       "CAND_ID                        P80001571  \n",
       "CAND_NM                 Trump, Donald J.  \n",
       "CONTBR_NM           RISENHOOVER, LINDSEY  \n",
       "CONTBR_CITY                        TULSA  \n",
       "CONTBR_ST                             OK  \n",
       "CONTBR_ZIP                         74133  \n",
       "CONTBR_EMPLOYER    INFORMATION REQUESTED  \n",
       "CONTBR_OCCUPATION  INFORMATION REQUESTED  \n",
       "CONTB_RECEIPT_AMT                  73.59  \n",
       "CONTB_RECEIPT_DT               09-NOV-16  \n",
       "RECEIPT_DESC                        None  \n",
       "MEMO_CD                                X  \n",
       "MEMO_TEXT                           None  \n",
       "FORM_TP                             SA18  \n",
       "FILE_NUM                         1146165  \n",
       "TRAN_ID                      SA18.136964  \n",
       "ELECTION_TP                        G2016  "
      ]
     },
     "execution_count": 5,
     "metadata": {},
     "output_type": "execute_result"
    }
   ],
   "source": [
    "## data.show() is hard to read\n",
    "## use Pandas to pretty print\n",
    "\n",
    "## vertical\n",
    "data.limit(3).toPandas().T\n",
    "\n",
    "# horizontal\n",
    "# data.limit(5).toPandas()"
   ]
  },
  {
   "cell_type": "markdown",
   "metadata": {},
   "source": [
    "### 1.5 - Sample Data\n",
    "Start with a small sample of data. Once the algorithm is working procss the full dataset.\n"
   ]
  },
  {
   "cell_type": "code",
   "execution_count": 6,
   "metadata": {},
   "outputs": [
    {
     "name": "stdout",
     "output_type": "stream",
     "text": [
      "sample size 9,909 records\n"
     ]
    }
   ],
   "source": [
    "# sample size :  10% --> 0.1,   100%  -> 1.0\n",
    "\n",
    "sample_size = 0.1\n",
    "\n",
    "data = data.sample(withReplacement=False, fraction=sample_size)\n",
    "print(\"sample size {:,} records\".format(data.count()))"
   ]
  },
  {
   "cell_type": "markdown",
   "metadata": {},
   "source": [
    "## Step 2 : Clean Data"
   ]
  },
  {
   "cell_type": "markdown",
   "metadata": {},
   "source": [
    "### 2.1 - extract only a few columns"
   ]
  },
  {
   "cell_type": "code",
   "execution_count": 7,
   "metadata": {},
   "outputs": [],
   "source": [
    "columns = ['CAND_NM', 'CONTBR_ST', 'CONTBR_EMPLOYER', 'CONTBR_OCCUPATION', 'CONTB_RECEIPT_AMT']"
   ]
  },
  {
   "cell_type": "code",
   "execution_count": 8,
   "metadata": {},
   "outputs": [
    {
     "name": "stdout",
     "output_type": "stream",
     "text": [
      "root\n",
      " |-- CAND_NM: string (nullable = true)\n",
      " |-- CONTBR_ST: string (nullable = true)\n",
      " |-- CONTBR_EMPLOYER: string (nullable = true)\n",
      " |-- CONTBR_OCCUPATION: string (nullable = true)\n",
      " |-- CONTB_RECEIPT_AMT: double (nullable = true)\n",
      "\n"
     ]
    },
    {
     "data": {
      "text/html": [
       "<div>\n",
       "<style scoped>\n",
       "    .dataframe tbody tr th:only-of-type {\n",
       "        vertical-align: middle;\n",
       "    }\n",
       "\n",
       "    .dataframe tbody tr th {\n",
       "        vertical-align: top;\n",
       "    }\n",
       "\n",
       "    .dataframe thead th {\n",
       "        text-align: right;\n",
       "    }\n",
       "</style>\n",
       "<table border=\"1\" class=\"dataframe\">\n",
       "  <thead>\n",
       "    <tr style=\"text-align: right;\">\n",
       "      <th></th>\n",
       "      <th>CAND_NM</th>\n",
       "      <th>CONTBR_ST</th>\n",
       "      <th>CONTBR_EMPLOYER</th>\n",
       "      <th>CONTBR_OCCUPATION</th>\n",
       "      <th>CONTB_RECEIPT_AMT</th>\n",
       "    </tr>\n",
       "  </thead>\n",
       "  <tbody>\n",
       "    <tr>\n",
       "      <th>0</th>\n",
       "      <td>Trump, Donald J.</td>\n",
       "      <td>OK</td>\n",
       "      <td>INFORMATION REQUESTED</td>\n",
       "      <td>INFORMATION REQUESTED</td>\n",
       "      <td>73.59</td>\n",
       "    </tr>\n",
       "    <tr>\n",
       "      <th>1</th>\n",
       "      <td>Sanders, Bernard</td>\n",
       "      <td>NE</td>\n",
       "      <td>NONE</td>\n",
       "      <td>NOT EMPLOYED</td>\n",
       "      <td>50.00</td>\n",
       "    </tr>\n",
       "    <tr>\n",
       "      <th>2</th>\n",
       "      <td>Clinton, Hillary Rodham</td>\n",
       "      <td>WA</td>\n",
       "      <td>AXON</td>\n",
       "      <td>SOFTWARE ENGINEER</td>\n",
       "      <td>100.00</td>\n",
       "    </tr>\n",
       "    <tr>\n",
       "      <th>3</th>\n",
       "      <td>Sanders, Bernard</td>\n",
       "      <td>FL</td>\n",
       "      <td>BROWN DAVIS</td>\n",
       "      <td>SELF</td>\n",
       "      <td>27.00</td>\n",
       "    </tr>\n",
       "    <tr>\n",
       "      <th>4</th>\n",
       "      <td>Sanders, Bernard</td>\n",
       "      <td>WI</td>\n",
       "      <td>SOUTHWEST WISCONSIN TECHNICAL COLLEGE</td>\n",
       "      <td>PROFESSOR</td>\n",
       "      <td>25.00</td>\n",
       "    </tr>\n",
       "  </tbody>\n",
       "</table>\n",
       "</div>"
      ],
      "text/plain": [
       "                   CAND_NM CONTBR_ST                        CONTBR_EMPLOYER  \\\n",
       "0         Trump, Donald J.        OK                  INFORMATION REQUESTED   \n",
       "1         Sanders, Bernard        NE                                   NONE   \n",
       "2  Clinton, Hillary Rodham        WA                                   AXON   \n",
       "3         Sanders, Bernard        FL                            BROWN DAVIS   \n",
       "4         Sanders, Bernard        WI  SOUTHWEST WISCONSIN TECHNICAL COLLEGE   \n",
       "\n",
       "       CONTBR_OCCUPATION  CONTB_RECEIPT_AMT  \n",
       "0  INFORMATION REQUESTED              73.59  \n",
       "1           NOT EMPLOYED              50.00  \n",
       "2      SOFTWARE ENGINEER             100.00  \n",
       "3                   SELF              27.00  \n",
       "4              PROFESSOR              25.00  "
      ]
     },
     "execution_count": 8,
     "metadata": {},
     "output_type": "execute_result"
    }
   ],
   "source": [
    "data2 = data.select(columns)\n",
    "data2.printSchema()\n",
    "data2.limit(5).toPandas()"
   ]
  },
  {
   "cell_type": "markdown",
   "metadata": {},
   "source": [
    "### 2.2 - Clean data (drop null values)"
   ]
  },
  {
   "cell_type": "code",
   "execution_count": 9,
   "metadata": {},
   "outputs": [
    {
     "name": "stdout",
     "output_type": "stream",
     "text": [
      "original data size = 9,909\n",
      "clean data size = 9,831\n",
      "droped records = 78\n"
     ]
    }
   ],
   "source": [
    "data_clean = data2.na.drop()\n",
    "\n",
    "print(\"original data size = {:,}\".format(data2.count()) )\n",
    "print(\"clean data size = {:,}\".format(data_clean.count()) )\n",
    "print(\"droped records = {:,}\".format(data2.count() - data_clean.count()) )"
   ]
  },
  {
   "cell_type": "markdown",
   "metadata": {},
   "source": [
    "## Step 2 : Basic Exploration"
   ]
  },
  {
   "cell_type": "markdown",
   "metadata": {},
   "source": [
    "### 2.1 - Print out a contribution count broken down by candidate?\n",
    "\n",
    "**=> Which candidates got the most donations? (in terms of number of donors)**"
   ]
  },
  {
   "cell_type": "code",
   "execution_count": 10,
   "metadata": {},
   "outputs": [
    {
     "name": "stdout",
     "output_type": "stream",
     "text": [
      "+-------------------------+-----+\n",
      "|CAND_NM                  |count|\n",
      "+-------------------------+-----+\n",
      "|Clinton, Hillary Rodham  |4610 |\n",
      "|Sanders, Bernard         |2732 |\n",
      "|Trump, Donald J.         |1039 |\n",
      "|Cruz, Rafael Edward 'Ted'|749  |\n",
      "|Carson, Benjamin S.      |350  |\n",
      "|Rubio, Marco             |106  |\n",
      "|Fiorina, Carly           |45   |\n",
      "|Paul, Rand               |41   |\n",
      "|Kasich, John R.          |36   |\n",
      "|Bush, Jeb                |35   |\n",
      "|Stein, Jill              |17   |\n",
      "|Johnson, Gary            |15   |\n",
      "|Christie, Christopher J. |11   |\n",
      "|Walker, Scott            |10   |\n",
      "|O'Malley, Martin Joseph  |10   |\n",
      "|Huckabee, Mike           |9    |\n",
      "|Graham, Lindsey O.       |4    |\n",
      "|McMullin, Evan           |4    |\n",
      "|Jindal, Bobby            |3    |\n",
      "|Perry, James R. (Rick)   |2    |\n",
      "+-------------------------+-----+\n",
      "only showing top 20 rows\n",
      "\n"
     ]
    }
   ],
   "source": [
    "## TODO : print out per candidate breakdown\n",
    "data_clean.groupBy('CAND_NM').count().orderBy('count', ascending=False).show(20, False)"
   ]
  },
  {
   "cell_type": "markdown",
   "metadata": {},
   "source": [
    "### 2.2 - find min/max/average contribution per candidate"
   ]
  },
  {
   "cell_type": "code",
   "execution_count": 11,
   "metadata": {},
   "outputs": [
    {
     "name": "stdout",
     "output_type": "stream",
     "text": [
      "+-------------------------+----------------------+----------------------+----------------------+\n",
      "|CAND_NM                  |min(CONTB_RECEIPT_AMT)|avg(CONTB_RECEIPT_AMT)|max(CONTB_RECEIPT_AMT)|\n",
      "+-------------------------+----------------------+----------------------+----------------------+\n",
      "|Bush, Jeb                |-350.0                |937.1142857142858     |5000.0                |\n",
      "|Carson, Benjamin S.      |-2300.0               |84.16982857142857     |1000.0                |\n",
      "|Christie, Christopher J. |25.0                  |1756.8181818181818    |2700.0                |\n",
      "|Clinton, Hillary Rodham  |-450.0                |129.25781344902384    |2700.0                |\n",
      "|Cruz, Rafael Edward 'Ted'|-2700.0               |81.89006675567424     |5400.0                |\n",
      "|Fiorina, Carly           |3.0                   |368.24444444444447    |3000.0                |\n",
      "|Graham, Lindsey O.       |-2700.0               |-312.5                |1000.0                |\n",
      "|Huckabee, Mike           |25.0                  |83.33333333333333     |250.0                 |\n",
      "|Jindal, Bobby            |50.0                  |950.0                 |2700.0                |\n",
      "|Johnson, Gary            |15.0                  |476.5466666666667     |2700.0                |\n",
      "|Kasich, John R.          |25.0                  |741.6666666666666     |2700.0                |\n",
      "|Lessig, Lawrence         |200.15                |200.15                |200.15                |\n",
      "|McMullin, Evan           |25.0                  |200.0                 |500.0                 |\n",
      "|O'Malley, Martin Joseph  |100.0                 |1477.5                |5400.0                |\n",
      "|Paul, Rand               |10.0                  |157.2439024390244     |1000.0                |\n",
      "|Perry, James R. (Rick)   |250.0                 |1475.0                |2700.0                |\n",
      "|Rubio, Marco             |-2500.0               |407.72641509433964    |5260.0                |\n",
      "|Sanders, Bernard         |1.0                   |42.59155563689605     |1000.0                |\n",
      "|Santorum, Richard J.     |200.0                 |220.0                 |240.0                 |\n",
      "|Stein, Jill              |22.0                  |326.70588235294116    |2700.0                |\n",
      "|Trump, Donald J.         |-1000.0               |158.9083541867179     |2700.0                |\n",
      "|Walker, Scott            |-1000.0               |402.5                 |2700.0                |\n",
      "+-------------------------+----------------------+----------------------+----------------------+\n",
      "\n"
     ]
    }
   ],
   "source": [
    "from pyspark.sql.functions import min,max,mean\n",
    "\n",
    "data_clean.groupBy('CAND_NM').\\\n",
    "        agg(min('CONTB_RECEIPT_AMT'), mean('CONTB_RECEIPT_AMT'), max('CONTB_RECEIPT_AMT')).\\\n",
    "        orderBy('CAND_NM').\\\n",
    "        show(40, False)"
   ]
  },
  {
   "cell_type": "markdown",
   "metadata": {},
   "source": [
    "### 2.3 - Whoah!  Negative Contributions!\n",
    "We see some negative contributions!   \n",
    "\n",
    "**Q==> Can you guys figure out why?**\n"
   ]
  },
  {
   "cell_type": "code",
   "execution_count": 12,
   "metadata": {},
   "outputs": [
    {
     "name": "stdout",
     "output_type": "stream",
     "text": [
      "original data size = 9,831\n",
      "positive contributions data size = 9,763\n"
     ]
    }
   ],
   "source": [
    "## TODO Filter out only positive contribs\n",
    "pos_contribs = data_clean.filter(\"CONTB_RECEIPT_AMT > 0\")\n",
    "\n",
    "print(\"original data size = {:,}\".format(data_clean.count()) )\n",
    "print(\"positive contributions data size = {:,}\".format(pos_contribs.count()) )"
   ]
  },
  {
   "cell_type": "markdown",
   "metadata": {},
   "source": [
    "### 2.4 - now find min/max/median in positive contributions"
   ]
  },
  {
   "cell_type": "code",
   "execution_count": 13,
   "metadata": {},
   "outputs": [
    {
     "name": "stdout",
     "output_type": "stream",
     "text": [
      "sorted by CAND_NM\n",
      "+-------------------------+----------------------+----------------------+----------------------+\n",
      "|CAND_NM                  |min(CONTB_RECEIPT_AMT)|avg(CONTB_RECEIPT_AMT)|max(CONTB_RECEIPT_AMT)|\n",
      "+-------------------------+----------------------+----------------------+----------------------+\n",
      "|Bush, Jeb                |5.0                   |974.9705882352941     |5000.0                |\n",
      "|Carson, Benjamin S.      |2.0                   |94.55170028818445     |1000.0                |\n",
      "|Christie, Christopher J. |25.0                  |1756.8181818181818    |2700.0                |\n",
      "|Clinton, Hillary Rodham  |1.0                   |129.6677389226759     |2700.0                |\n",
      "|Cruz, Rafael Edward 'Ted'|1.0                   |104.65925             |5400.0                |\n",
      "|Fiorina, Carly           |3.0                   |368.24444444444447    |3000.0                |\n",
      "|Graham, Lindsey O.       |200.0                 |483.3333333333333     |1000.0                |\n",
      "|Huckabee, Mike           |25.0                  |83.33333333333333     |250.0                 |\n",
      "|Jindal, Bobby            |50.0                  |950.0                 |2700.0                |\n",
      "|Johnson, Gary            |15.0                  |476.5466666666667     |2700.0                |\n",
      "|Kasich, John R.          |25.0                  |741.6666666666666     |2700.0                |\n",
      "|Lessig, Lawrence         |200.15                |200.15                |200.15                |\n",
      "|McMullin, Evan           |25.0                  |200.0                 |500.0                 |\n",
      "|O'Malley, Martin Joseph  |100.0                 |1477.5                |5400.0                |\n",
      "|Paul, Rand               |10.0                  |157.2439024390244     |1000.0                |\n",
      "|Perry, James R. (Rick)   |250.0                 |1475.0                |2700.0                |\n",
      "|Rubio, Marco             |7.0                   |461.3495145631068     |5260.0                |\n",
      "|Sanders, Bernard         |1.0                   |42.59155563689605     |1000.0                |\n",
      "|Santorum, Richard J.     |200.0                 |220.0                 |240.0                 |\n",
      "|Stein, Jill              |22.0                  |326.70588235294116    |2700.0                |\n",
      "|Trump, Donald J.         |0.8                   |165.1627980295566     |2700.0                |\n",
      "|Walker, Scott            |25.0                  |558.3333333333334     |2700.0                |\n",
      "+-------------------------+----------------------+----------------------+----------------------+\n",
      "\n"
     ]
    }
   ],
   "source": [
    "from pyspark.sql.functions import min,max,mean\n",
    "\n",
    "print (\"sorted by CAND_NM\")\n",
    "\n",
    "pos_contribs.groupBy('CAND_NM').\\\n",
    "        agg(min('CONTB_RECEIPT_AMT'), mean('CONTB_RECEIPT_AMT'), max('CONTB_RECEIPT_AMT')).\\\n",
    "        orderBy('CAND_NM').\\\n",
    "        show(40, False)"
   ]
  },
  {
   "cell_type": "code",
   "execution_count": 14,
   "metadata": {},
   "outputs": [
    {
     "name": "stdout",
     "output_type": "stream",
     "text": [
      "sorted by AVG contribution\n",
      "+-------------------------+----------------------+----------------------+----------------------+\n",
      "|CAND_NM                  |min(CONTB_RECEIPT_AMT)|avg(CONTB_RECEIPT_AMT)|max(CONTB_RECEIPT_AMT)|\n",
      "+-------------------------+----------------------+----------------------+----------------------+\n",
      "|Christie, Christopher J. |25.0                  |1756.8181818181818    |2700.0                |\n",
      "|O'Malley, Martin Joseph  |100.0                 |1477.5                |5400.0                |\n",
      "|Perry, James R. (Rick)   |250.0                 |1475.0                |2700.0                |\n",
      "|Bush, Jeb                |5.0                   |974.9705882352941     |5000.0                |\n",
      "|Jindal, Bobby            |50.0                  |950.0                 |2700.0                |\n",
      "|Kasich, John R.          |25.0                  |741.6666666666666     |2700.0                |\n",
      "|Walker, Scott            |25.0                  |558.3333333333334     |2700.0                |\n",
      "|Graham, Lindsey O.       |200.0                 |483.3333333333333     |1000.0                |\n",
      "|Johnson, Gary            |15.0                  |476.5466666666667     |2700.0                |\n",
      "|Rubio, Marco             |7.0                   |461.3495145631068     |5260.0                |\n",
      "|Fiorina, Carly           |3.0                   |368.24444444444447    |3000.0                |\n",
      "|Stein, Jill              |22.0                  |326.70588235294116    |2700.0                |\n",
      "|Santorum, Richard J.     |200.0                 |220.0                 |240.0                 |\n",
      "|Lessig, Lawrence         |200.15                |200.15                |200.15                |\n",
      "|McMullin, Evan           |25.0                  |200.0                 |500.0                 |\n",
      "|Trump, Donald J.         |0.8                   |165.1627980295566     |2700.0                |\n",
      "|Paul, Rand               |10.0                  |157.2439024390244     |1000.0                |\n",
      "|Clinton, Hillary Rodham  |1.0                   |129.6677389226759     |2700.0                |\n",
      "|Cruz, Rafael Edward 'Ted'|1.0                   |104.65925             |5400.0                |\n",
      "|Carson, Benjamin S.      |2.0                   |94.55170028818445     |1000.0                |\n",
      "|Huckabee, Mike           |25.0                  |83.33333333333333     |250.0                 |\n",
      "|Sanders, Bernard         |1.0                   |42.59155563689605     |1000.0                |\n",
      "+-------------------------+----------------------+----------------------+----------------------+\n",
      "\n"
     ]
    }
   ],
   "source": [
    "from pyspark.sql.functions import min,max,mean\n",
    "\n",
    "print(\"sorted by AVG contribution\")\n",
    "\n",
    "pos_contribs.groupBy('CAND_NM').\\\n",
    "        agg(min('CONTB_RECEIPT_AMT'), mean('CONTB_RECEIPT_AMT'), max('CONTB_RECEIPT_AMT')).\\\n",
    "        orderBy('avg(CONTB_RECEIPT_AMT)', ascending=False).\\\n",
    "        show(40, False)"
   ]
  },
  {
   "cell_type": "markdown",
   "metadata": {},
   "source": [
    "### 2.5 -- Find total contribution amount per candidate"
   ]
  },
  {
   "cell_type": "code",
   "execution_count": 15,
   "metadata": {},
   "outputs": [
    {
     "name": "stdout",
     "output_type": "stream",
     "text": [
      "sorted by total contribution\n",
      "+-------------------------+----------------------+\n",
      "|CAND_NM                  |sum(CONTB_RECEIPT_AMT)|\n",
      "+-------------------------+----------------------+\n",
      "|Clinton, Hillary Rodham  |596990.2699999999     |\n",
      "|Trump, Donald J.         |167640.23999999993    |\n",
      "|Sanders, Bernard         |116360.12999999999    |\n",
      "|Cruz, Rafael Edward 'Ted'|75354.66              |\n",
      "|Rubio, Marco             |47519.0               |\n",
      "|Bush, Jeb                |33149.0               |\n",
      "|Carson, Benjamin S.      |32809.44              |\n",
      "|Kasich, John R.          |26700.0               |\n",
      "|Christie, Christopher J. |19325.0               |\n",
      "|Fiorina, Carly           |16571.0               |\n",
      "|O'Malley, Martin Joseph  |14775.0               |\n",
      "|Johnson, Gary            |7148.2                |\n",
      "|Paul, Rand               |6447.0                |\n",
      "|Stein, Jill              |5554.0                |\n",
      "|Walker, Scott            |5025.0                |\n",
      "|Perry, James R. (Rick)   |2950.0                |\n",
      "|Jindal, Bobby            |2850.0                |\n",
      "|Graham, Lindsey O.       |1450.0                |\n",
      "|McMullin, Evan           |800.0                 |\n",
      "|Huckabee, Mike           |750.0                 |\n",
      "|Santorum, Richard J.     |440.0                 |\n",
      "|Lessig, Lawrence         |200.15                |\n",
      "+-------------------------+----------------------+\n",
      "\n"
     ]
    }
   ],
   "source": [
    "from pyspark.sql.functions import min,max,mean\n",
    "\n",
    "print(\"sorted by total contribution\")\n",
    "\n",
    "pos_contribs.groupBy('CAND_NM').\\\n",
    "        sum('CONTB_RECEIPT_AMT').\\\n",
    "        orderBy('sum(CONTB_RECEIPT_AMT)', ascending=False).\\\n",
    "        show(40, False)"
   ]
  },
  {
   "cell_type": "markdown",
   "metadata": {},
   "source": [
    "## Step 3: Build Indexers"
   ]
  },
  {
   "cell_type": "code",
   "execution_count": 16,
   "metadata": {},
   "outputs": [],
   "source": [
    "from pyspark.ml.feature import StringIndexer\n",
    "\n",
    "indexer1 = StringIndexer(inputCol='CAND_NM', outputCol = \"CAND_NM_index\", handleInvalid=\"keep\")\n",
    "indexer2 = StringIndexer(inputCol='CONTBR_ST', outputCol = \"CONTBR_ST_index\", handleInvalid=\"keep\")\n",
    "indexer3 = StringIndexer(inputCol='CONTBR_EMPLOYER', outputCol = \"CONTBR_EMPLOYER_index\", handleInvalid=\"keep\")\n",
    "indexer4 = StringIndexer(inputCol='CONTBR_OCCUPATION', outputCol = \"CONTBR_OCCUPATION_index\", handleInvalid=\"keep\")\n",
    "# indexed_data = indexer1.fit(pos_contribs).transform(pos_contribs)\n",
    "# indexed_data.show()\n"
   ]
  },
  {
   "cell_type": "code",
   "execution_count": 17,
   "metadata": {},
   "outputs": [
    {
     "name": "stdout",
     "output_type": "stream",
     "text": [
      "Pipeline_46c99bf9ca311da8f399\n"
     ]
    }
   ],
   "source": [
    "## Stash indexers into \n",
    "from pyspark.ml import Pipeline\n",
    "\n",
    "pipeline = Pipeline(stages=[indexer1, indexer2, indexer3, indexer4])\n",
    "print(pipeline)"
   ]
  },
  {
   "cell_type": "code",
   "execution_count": 18,
   "metadata": {},
   "outputs": [
    {
     "name": "stdout",
     "output_type": "stream",
     "text": [
      "CPU times: user 25 ms, sys: 5.89 ms, total: 30.9 ms\n",
      "Wall time: 3.76 s\n"
     ]
    }
   ],
   "source": [
    "%%time\n",
    "indexed_data = pipeline.fit(pos_contribs).transform(pos_contribs)"
   ]
  },
  {
   "cell_type": "code",
   "execution_count": 19,
   "metadata": {},
   "outputs": [
    {
     "name": "stdout",
     "output_type": "stream",
     "text": [
      "root\n",
      " |-- CAND_NM: string (nullable = true)\n",
      " |-- CONTBR_ST: string (nullable = true)\n",
      " |-- CONTBR_EMPLOYER: string (nullable = true)\n",
      " |-- CONTBR_OCCUPATION: string (nullable = true)\n",
      " |-- CONTB_RECEIPT_AMT: double (nullable = true)\n",
      " |-- CAND_NM_index: double (nullable = false)\n",
      " |-- CONTBR_ST_index: double (nullable = false)\n",
      " |-- CONTBR_EMPLOYER_index: double (nullable = false)\n",
      " |-- CONTBR_OCCUPATION_index: double (nullable = false)\n",
      "\n"
     ]
    }
   ],
   "source": [
    "indexed_data.printSchema()\n",
    "# indexed_data.show()"
   ]
  },
  {
   "cell_type": "markdown",
   "metadata": {},
   "source": [
    "### 3.1  Understand indexed values"
   ]
  },
  {
   "cell_type": "code",
   "execution_count": 20,
   "metadata": {},
   "outputs": [
    {
     "name": "stdout",
     "output_type": "stream",
     "text": [
      "+---------+---------------+-----+\n",
      "|CONTBR_ST|CONTBR_ST_index|count|\n",
      "+---------+---------------+-----+\n",
      "|       VI|           57.0|    1|\n",
      "|       AA|           56.0|    1|\n",
      "|       EN|           55.0|    1|\n",
      "|       AE|           54.0|    2|\n",
      "|       ON|           53.0|    2|\n",
      "|       PR|           52.0|    7|\n",
      "|       ZZ|           51.0|    9|\n",
      "|       SD|           50.0|   13|\n",
      "|       ND|           49.0|   14|\n",
      "|       DE|           48.0|   17|\n",
      "|       WY|           47.0|   18|\n",
      "|       RI|           46.0|   21|\n",
      "|       MS|           45.0|   33|\n",
      "|       AK|           44.0|   36|\n",
      "|       WV|           43.0|   37|\n",
      "|       NE|           42.0|   38|\n",
      "|       MT|           41.0|   39|\n",
      "|       ID|           40.0|   44|\n",
      "|       HI|           39.0|   45|\n",
      "|       UT|           38.0|   50|\n",
      "+---------+---------------+-----+\n",
      "only showing top 20 rows\n",
      "\n"
     ]
    }
   ],
   "source": [
    "# state\n",
    "indexed_data.groupBy(['CONTBR_ST', 'CONTBR_ST_index']).count()\\\n",
    "            .orderBy('CONTBR_ST_index', ascending=False).show()"
   ]
  },
  {
   "cell_type": "code",
   "execution_count": 21,
   "metadata": {},
   "outputs": [
    {
     "name": "stdout",
     "output_type": "stream",
     "text": [
      "+--------------------+---------------------+-----+\n",
      "|     CONTBR_EMPLOYER|CONTBR_EMPLOYER_index|count|\n",
      "+--------------------+---------------------+-----+\n",
      "|        BEEZY'S CAFE|               4135.0|    1|\n",
      "|       FEDEX EXPRESS|               4134.0|    1|\n",
      "|UNIVERSITY OF NOR...|               4133.0|    1|\n",
      "|WIKIMEDIA FOUNDATION|               4132.0|    1|\n",
      "|                TSFL|               4131.0|    1|\n",
      "|EAST BAY LEADERSH...|               4130.0|    1|\n",
      "| GREEN THUMB FLORIST|               4129.0|    1|\n",
      "|           ACT, INC.|               4128.0|    1|\n",
      "|PLANED INTERNATIO...|               4127.0|    1|\n",
      "|PUEBLO HOMEOWNERS...|               4126.0|    1|\n",
      "|  WISE HEALTH SYSTEM|               4125.0|    1|\n",
      "| TIME EQUITIES, INC.|               4124.0|    1|\n",
      "|     SUNSET PHARMACY|               4123.0|    1|\n",
      "|CHRIST THE SERVAN...|               4122.0|    1|\n",
      "|   L. DEAN WEAVER CO|               4121.0|    1|\n",
      "|ARNALL GOLDEN GRE...|               4120.0|    1|\n",
      "|DARTMOUTH HITCHCO...|               4119.0|    1|\n",
      "|                  MS|               4118.0|    1|\n",
      "|             TX DARS|               4117.0|    1|\n",
      "|     AUSTIN ELECTRIC|               4116.0|    1|\n",
      "+--------------------+---------------------+-----+\n",
      "only showing top 20 rows\n",
      "\n"
     ]
    }
   ],
   "source": [
    "# employer\n",
    "indexed_data.groupBy(['CONTBR_EMPLOYER', 'CONTBR_EMPLOYER_index']).count()\\\n",
    "            .orderBy('CONTBR_EMPLOYER_index', ascending=False).show()"
   ]
  },
  {
   "cell_type": "code",
   "execution_count": 22,
   "metadata": {},
   "outputs": [
    {
     "name": "stdout",
     "output_type": "stream",
     "text": [
      "+--------------------------------------+-----------------------+-----+\n",
      "|CONTBR_OCCUPATION                     |CONTBR_OCCUPATION_index|count|\n",
      "+--------------------------------------+-----------------------+-----+\n",
      "|IT PROGRAM MANAGER  MANAGEMENT ANALYS |2512.0                 |1    |\n",
      "|LAWYER, GOVERNMENT RELATIONS DIRECTOR |2511.0                 |1    |\n",
      "|PROFESSOR, LEGAL STUDIES              |2510.0                 |1    |\n",
      "|NON-PROFIT EXECUTIVE DIRECTOR AND ARTI|2509.0                 |1    |\n",
      "|PARLIAMENTARIAN/MEETING CONSULTANT    |2508.0                 |1    |\n",
      "|FULL TIM GRANDPA                      |2507.0                 |1    |\n",
      "|DOG WALKER SUPERVISOR                 |2506.0                 |1    |\n",
      "|EXECUTIVE PRODUCER                    |2505.0                 |1    |\n",
      "|VP OF FINANCE                         |2504.0                 |1    |\n",
      "|MS                                    |2503.0                 |1    |\n",
      "+--------------------------------------+-----------------------+-----+\n",
      "only showing top 10 rows\n",
      "\n"
     ]
    }
   ],
   "source": [
    "# occupation\n",
    "indexed_data.groupBy(['CONTBR_OCCUPATION', 'CONTBR_OCCUPATION_index']).count()\\\n",
    "            .orderBy('CONTBR_OCCUPATION_index', ascending=False).show(10, False)"
   ]
  },
  {
   "cell_type": "markdown",
   "metadata": {},
   "source": [
    "## Step 4 -  Feature Vectors"
   ]
  },
  {
   "cell_type": "code",
   "execution_count": 23,
   "metadata": {},
   "outputs": [
    {
     "name": "stdout",
     "output_type": "stream",
     "text": [
      "root\n",
      " |-- CAND_NM: string (nullable = true)\n",
      " |-- CONTBR_ST: string (nullable = true)\n",
      " |-- CONTBR_EMPLOYER: string (nullable = true)\n",
      " |-- CONTBR_OCCUPATION: string (nullable = true)\n",
      " |-- CONTB_RECEIPT_AMT: double (nullable = true)\n",
      " |-- CAND_NM_index: double (nullable = false)\n",
      " |-- CONTBR_ST_index: double (nullable = false)\n",
      " |-- CONTBR_EMPLOYER_index: double (nullable = false)\n",
      " |-- CONTBR_OCCUPATION_index: double (nullable = false)\n",
      " |-- features: vector (nullable = true)\n",
      "\n"
     ]
    }
   ],
   "source": [
    "from pyspark.ml.feature import VectorAssembler\n",
    "\n",
    "feature_columns = ['CONTBR_ST_index', 'CONTBR_EMPLOYER_index', 'CONTBR_OCCUPATION_index' ]\n",
    "\n",
    "assembler = VectorAssembler(inputCols= feature_columns,  outputCol=\"features\")\n",
    "feature_vector = assembler.transform(indexed_data)\n",
    "feature_vector.printSchema()\n",
    "# feature_vector.show()"
   ]
  },
  {
   "cell_type": "markdown",
   "metadata": {},
   "source": [
    "## Step 5: Split data into training and test\n"
   ]
  },
  {
   "cell_type": "code",
   "execution_count": 24,
   "metadata": {},
   "outputs": [
    {
     "name": "stdout",
     "output_type": "stream",
     "text": [
      "training set =  6801\n",
      "testing set =  2962\n"
     ]
    }
   ],
   "source": [
    "# Split the data into training and test sets (30% held out for testing)\n",
    "(training, test) = feature_vector.randomSplit([.7,.3]) # do a random split 70%/30%\n",
    "\n",
    "print(\"training set = \" , training.count())\n",
    "print(\"testing set = \" , test.count())"
   ]
  },
  {
   "cell_type": "markdown",
   "metadata": {},
   "source": [
    "## Step 6: Create Random Forest Model"
   ]
  },
  {
   "cell_type": "code",
   "execution_count": 25,
   "metadata": {},
   "outputs": [],
   "source": [
    "from pyspark.ml.classification import RandomForestClassifier\n",
    "\n",
    "# Train a RandomForest model.\n",
    "rf = RandomForestClassifier(labelCol=\"CAND_NM_index\", featuresCol=\"features\", numTrees=20, maxBins=50000)\n"
   ]
  },
  {
   "cell_type": "markdown",
   "metadata": {},
   "source": [
    "## 7 -  Train"
   ]
  },
  {
   "cell_type": "code",
   "execution_count": 26,
   "metadata": {},
   "outputs": [
    {
     "name": "stdout",
     "output_type": "stream",
     "text": [
      "training starting...\n",
      "training done\n",
      "RandomForestClassificationModel (uid=RandomForestClassifier_423d98adc43a8c0376a9) with 20 trees\n",
      "CPU times: user 16.3 ms, sys: 5.71 ms, total: 22 ms\n",
      "Wall time: 42.1 s\n"
     ]
    }
   ],
   "source": [
    "%%time\n",
    "print(\"training starting...\")\n",
    "model = rf.fit(training)\n",
    "print(\"training done\")\n",
    "print (model)"
   ]
  },
  {
   "cell_type": "code",
   "execution_count": 27,
   "metadata": {},
   "outputs": [
    {
     "name": "stdout",
     "output_type": "stream",
     "text": [
      "trained on 6,801 records\n"
     ]
    }
   ],
   "source": [
    "print(\"trained on {:,} records\".format(training.count()))"
   ]
  },
  {
   "cell_type": "markdown",
   "metadata": {},
   "source": [
    "## 8 - Prediction"
   ]
  },
  {
   "cell_type": "code",
   "execution_count": 28,
   "metadata": {},
   "outputs": [
    {
     "name": "stdout",
     "output_type": "stream",
     "text": [
      "CPU times: user 8.41 ms, sys: 2.92 ms, total: 11.3 ms\n",
      "Wall time: 66.8 ms\n"
     ]
    }
   ],
   "source": [
    "%%time\n",
    "predictions = model.transform(test)"
   ]
  },
  {
   "cell_type": "code",
   "execution_count": 29,
   "metadata": {},
   "outputs": [
    {
     "name": "stdout",
     "output_type": "stream",
     "text": [
      "predicted on 2,962 records\n"
     ]
    }
   ],
   "source": [
    "print(\"predicted on {:,} records\".format(test.count()))"
   ]
  },
  {
   "cell_type": "code",
   "execution_count": 30,
   "metadata": {},
   "outputs": [
    {
     "name": "stdout",
     "output_type": "stream",
     "text": [
      "+----------+-------------+--------------------+\n",
      "|prediction|CAND_NM_index|             CAND_NM|\n",
      "+----------+-------------+--------------------+\n",
      "|       2.0|          4.0| Carson, Benjamin S.|\n",
      "|       2.0|          4.0| Carson, Benjamin S.|\n",
      "|       2.0|          4.0| Carson, Benjamin S.|\n",
      "|       0.0|          4.0| Carson, Benjamin S.|\n",
      "|       2.0|          4.0| Carson, Benjamin S.|\n",
      "|       2.0|          4.0| Carson, Benjamin S.|\n",
      "|       2.0|          4.0| Carson, Benjamin S.|\n",
      "|       3.0|          4.0| Carson, Benjamin S.|\n",
      "|       2.0|          4.0| Carson, Benjamin S.|\n",
      "|       2.0|          4.0| Carson, Benjamin S.|\n",
      "|       2.0|          4.0| Carson, Benjamin S.|\n",
      "|       2.0|          4.0| Carson, Benjamin S.|\n",
      "|       2.0|          4.0| Carson, Benjamin S.|\n",
      "|       2.0|          4.0| Carson, Benjamin S.|\n",
      "|       4.0|          4.0| Carson, Benjamin S.|\n",
      "|       3.0|          4.0| Carson, Benjamin S.|\n",
      "|       4.0|          4.0| Carson, Benjamin S.|\n",
      "|       2.0|          4.0| Carson, Benjamin S.|\n",
      "|       0.0|          0.0|Clinton, Hillary ...|\n",
      "|       0.0|          0.0|Clinton, Hillary ...|\n",
      "+----------+-------------+--------------------+\n",
      "only showing top 20 rows\n",
      "\n"
     ]
    }
   ],
   "source": [
    "# Select example rows to display.\n",
    "predictions.sample(False, 0.1).select(\"prediction\", 'CAND_NM_index', \"CAND_NM\").show()"
   ]
  },
  {
   "cell_type": "markdown",
   "metadata": {},
   "source": [
    "## 9 - Evaluate"
   ]
  },
  {
   "cell_type": "code",
   "execution_count": 31,
   "metadata": {},
   "outputs": [],
   "source": [
    "predictions_test = model.transform(test)\n",
    "predictions_train = model.transform(training)"
   ]
  },
  {
   "cell_type": "markdown",
   "metadata": {},
   "source": [
    "### 9.1 - Acuracy\n",
    "**=> TODO: Think about the test error here?  Does it seem high?  What does that say about our model?**\n",
    "\n",
    "**=> How do we define model success?**"
   ]
  },
  {
   "cell_type": "code",
   "execution_count": 32,
   "metadata": {},
   "outputs": [
    {
     "name": "stdout",
     "output_type": "stream",
     "text": [
      "Training set accuracy =  0.6475518306131451\n",
      "Test set accuracy =  0.5182309250506415\n"
     ]
    }
   ],
   "source": [
    "from pyspark.ml.evaluation import MulticlassClassificationEvaluator\n",
    "\n",
    "evaluator = MulticlassClassificationEvaluator(labelCol=\"CAND_NM_index\", predictionCol=\"prediction\",\n",
    "                                              metricName=\"accuracy\")\n",
    "\n",
    "print(\"Training set accuracy = \" , evaluator.evaluate(predictions_train))\n",
    "print(\"Test set accuracy = \" , evaluator.evaluate(predictions_test))"
   ]
  },
  {
   "cell_type": "markdown",
   "metadata": {},
   "source": [
    "### 9.2 - Confusion Matrix"
   ]
  },
  {
   "cell_type": "markdown",
   "metadata": {},
   "source": [
    "####  Figure Out Candidate Mapping"
   ]
  },
  {
   "cell_type": "code",
   "execution_count": 33,
   "metadata": {},
   "outputs": [
    {
     "name": "stdout",
     "output_type": "stream",
     "text": [
      "+--------------------+-------------+-----+\n",
      "|             CAND_NM|CAND_NM_index|count|\n",
      "+--------------------+-------------+-----+\n",
      "|Clinton, Hillary ...|          0.0| 4604|\n",
      "|    Sanders, Bernard|          1.0| 2732|\n",
      "|    Trump, Donald J.|          2.0| 1015|\n",
      "|Cruz, Rafael Edwa...|          3.0|  720|\n",
      "| Carson, Benjamin S.|          4.0|  347|\n",
      "|        Rubio, Marco|          5.0|  103|\n",
      "|      Fiorina, Carly|          6.0|   45|\n",
      "|          Paul, Rand|          7.0|   41|\n",
      "|     Kasich, John R.|          8.0|   36|\n",
      "|           Bush, Jeb|          9.0|   34|\n",
      "|         Stein, Jill|         10.0|   17|\n",
      "|       Johnson, Gary|         11.0|   15|\n",
      "|Christie, Christo...|         12.0|   11|\n",
      "|O'Malley, Martin ...|         13.0|   10|\n",
      "|       Walker, Scott|         14.0|    9|\n",
      "|      Huckabee, Mike|         15.0|    9|\n",
      "|      McMullin, Evan|         16.0|    4|\n",
      "|       Jindal, Bobby|         17.0|    3|\n",
      "|  Graham, Lindsey O.|         18.0|    3|\n",
      "|Perry, James R. (...|         19.0|    2|\n",
      "+--------------------+-------------+-----+\n",
      "only showing top 20 rows\n",
      "\n"
     ]
    }
   ],
   "source": [
    "## Candidate Mapping\n",
    "candidate_mapping = indexed_data.groupBy(['CAND_NM', 'CAND_NM_index']).count()\n",
    "# candidate_mapping.orderBy('CAND_NM').show()\n",
    "candidate_mapping.orderBy('CAND_NM_index').show()"
   ]
  },
  {
   "cell_type": "markdown",
   "metadata": {},
   "source": [
    "#### Confusion Matrix\n",
    "\n",
    "**=>What can you conclude from the confusion matrix?**\n",
    "\n",
    "Use the list above to interpret the label.  \n",
    "\n",
    "Is our model better at predicting candidates with many donations (Clinton, Sanders), or few donations?\n",
    "\n",
    "What can you say about our model perfromance."
   ]
  },
  {
   "cell_type": "code",
   "execution_count": 34,
   "metadata": {
    "scrolled": true
   },
   "outputs": [
    {
     "data": {
      "text/html": [
       "<div>\n",
       "<style scoped>\n",
       "    .dataframe tbody tr th:only-of-type {\n",
       "        vertical-align: middle;\n",
       "    }\n",
       "\n",
       "    .dataframe tbody tr th {\n",
       "        vertical-align: top;\n",
       "    }\n",
       "\n",
       "    .dataframe thead th {\n",
       "        text-align: right;\n",
       "    }\n",
       "</style>\n",
       "<table border=\"1\" class=\"dataframe\">\n",
       "  <thead>\n",
       "    <tr style=\"text-align: right;\">\n",
       "      <th></th>\n",
       "      <th>CAND_NM</th>\n",
       "      <th>0</th>\n",
       "      <th>1</th>\n",
       "      <th>2</th>\n",
       "      <th>3</th>\n",
       "      <th>4</th>\n",
       "      <th>5</th>\n",
       "      <th>6</th>\n",
       "      <th>7</th>\n",
       "      <th>8</th>\n",
       "      <th>...</th>\n",
       "      <th>12</th>\n",
       "      <th>13</th>\n",
       "      <th>14</th>\n",
       "      <th>15</th>\n",
       "      <th>16</th>\n",
       "      <th>17</th>\n",
       "      <th>18</th>\n",
       "      <th>19</th>\n",
       "      <th>20</th>\n",
       "      <th>21</th>\n",
       "    </tr>\n",
       "  </thead>\n",
       "  <tbody>\n",
       "    <tr>\n",
       "      <th>0</th>\n",
       "      <td>Bush, Jeb</td>\n",
       "      <td>0</td>\n",
       "      <td>0</td>\n",
       "      <td>8</td>\n",
       "      <td>0</td>\n",
       "      <td>0</td>\n",
       "      <td>0</td>\n",
       "      <td>0</td>\n",
       "      <td>0</td>\n",
       "      <td>0</td>\n",
       "      <td>...</td>\n",
       "      <td>0</td>\n",
       "      <td>0</td>\n",
       "      <td>0</td>\n",
       "      <td>0</td>\n",
       "      <td>0</td>\n",
       "      <td>0</td>\n",
       "      <td>0</td>\n",
       "      <td>0</td>\n",
       "      <td>0</td>\n",
       "      <td>0</td>\n",
       "    </tr>\n",
       "    <tr>\n",
       "      <th>1</th>\n",
       "      <td>Carson, Benjamin S.</td>\n",
       "      <td>8</td>\n",
       "      <td>9</td>\n",
       "      <td>65</td>\n",
       "      <td>10</td>\n",
       "      <td>13</td>\n",
       "      <td>0</td>\n",
       "      <td>0</td>\n",
       "      <td>0</td>\n",
       "      <td>0</td>\n",
       "      <td>...</td>\n",
       "      <td>0</td>\n",
       "      <td>0</td>\n",
       "      <td>0</td>\n",
       "      <td>0</td>\n",
       "      <td>0</td>\n",
       "      <td>0</td>\n",
       "      <td>0</td>\n",
       "      <td>0</td>\n",
       "      <td>0</td>\n",
       "      <td>0</td>\n",
       "    </tr>\n",
       "    <tr>\n",
       "      <th>2</th>\n",
       "      <td>Christie, Christopher J.</td>\n",
       "      <td>1</td>\n",
       "      <td>0</td>\n",
       "      <td>2</td>\n",
       "      <td>0</td>\n",
       "      <td>0</td>\n",
       "      <td>0</td>\n",
       "      <td>0</td>\n",
       "      <td>0</td>\n",
       "      <td>0</td>\n",
       "      <td>...</td>\n",
       "      <td>0</td>\n",
       "      <td>0</td>\n",
       "      <td>0</td>\n",
       "      <td>0</td>\n",
       "      <td>0</td>\n",
       "      <td>0</td>\n",
       "      <td>0</td>\n",
       "      <td>0</td>\n",
       "      <td>0</td>\n",
       "      <td>0</td>\n",
       "    </tr>\n",
       "    <tr>\n",
       "      <th>3</th>\n",
       "      <td>Clinton, Hillary Rodham</td>\n",
       "      <td>790</td>\n",
       "      <td>168</td>\n",
       "      <td>371</td>\n",
       "      <td>98</td>\n",
       "      <td>0</td>\n",
       "      <td>0</td>\n",
       "      <td>0</td>\n",
       "      <td>0</td>\n",
       "      <td>0</td>\n",
       "      <td>...</td>\n",
       "      <td>0</td>\n",
       "      <td>0</td>\n",
       "      <td>0</td>\n",
       "      <td>0</td>\n",
       "      <td>0</td>\n",
       "      <td>0</td>\n",
       "      <td>0</td>\n",
       "      <td>0</td>\n",
       "      <td>0</td>\n",
       "      <td>0</td>\n",
       "    </tr>\n",
       "    <tr>\n",
       "      <th>4</th>\n",
       "      <td>Cruz, Rafael Edward 'Ted'</td>\n",
       "      <td>15</td>\n",
       "      <td>35</td>\n",
       "      <td>122</td>\n",
       "      <td>29</td>\n",
       "      <td>3</td>\n",
       "      <td>0</td>\n",
       "      <td>0</td>\n",
       "      <td>0</td>\n",
       "      <td>0</td>\n",
       "      <td>...</td>\n",
       "      <td>0</td>\n",
       "      <td>0</td>\n",
       "      <td>0</td>\n",
       "      <td>0</td>\n",
       "      <td>0</td>\n",
       "      <td>0</td>\n",
       "      <td>0</td>\n",
       "      <td>0</td>\n",
       "      <td>0</td>\n",
       "      <td>0</td>\n",
       "    </tr>\n",
       "    <tr>\n",
       "      <th>5</th>\n",
       "      <td>Fiorina, Carly</td>\n",
       "      <td>3</td>\n",
       "      <td>4</td>\n",
       "      <td>2</td>\n",
       "      <td>0</td>\n",
       "      <td>0</td>\n",
       "      <td>0</td>\n",
       "      <td>0</td>\n",
       "      <td>0</td>\n",
       "      <td>0</td>\n",
       "      <td>...</td>\n",
       "      <td>0</td>\n",
       "      <td>0</td>\n",
       "      <td>0</td>\n",
       "      <td>0</td>\n",
       "      <td>0</td>\n",
       "      <td>0</td>\n",
       "      <td>0</td>\n",
       "      <td>0</td>\n",
       "      <td>0</td>\n",
       "      <td>0</td>\n",
       "    </tr>\n",
       "    <tr>\n",
       "      <th>6</th>\n",
       "      <td>Graham, Lindsey O.</td>\n",
       "      <td>2</td>\n",
       "      <td>0</td>\n",
       "      <td>0</td>\n",
       "      <td>0</td>\n",
       "      <td>0</td>\n",
       "      <td>0</td>\n",
       "      <td>0</td>\n",
       "      <td>0</td>\n",
       "      <td>0</td>\n",
       "      <td>...</td>\n",
       "      <td>0</td>\n",
       "      <td>0</td>\n",
       "      <td>0</td>\n",
       "      <td>0</td>\n",
       "      <td>0</td>\n",
       "      <td>0</td>\n",
       "      <td>0</td>\n",
       "      <td>0</td>\n",
       "      <td>0</td>\n",
       "      <td>0</td>\n",
       "    </tr>\n",
       "    <tr>\n",
       "      <th>7</th>\n",
       "      <td>Huckabee, Mike</td>\n",
       "      <td>0</td>\n",
       "      <td>0</td>\n",
       "      <td>3</td>\n",
       "      <td>0</td>\n",
       "      <td>0</td>\n",
       "      <td>0</td>\n",
       "      <td>0</td>\n",
       "      <td>0</td>\n",
       "      <td>0</td>\n",
       "      <td>...</td>\n",
       "      <td>0</td>\n",
       "      <td>0</td>\n",
       "      <td>0</td>\n",
       "      <td>0</td>\n",
       "      <td>0</td>\n",
       "      <td>0</td>\n",
       "      <td>0</td>\n",
       "      <td>0</td>\n",
       "      <td>0</td>\n",
       "      <td>0</td>\n",
       "    </tr>\n",
       "    <tr>\n",
       "      <th>8</th>\n",
       "      <td>Jindal, Bobby</td>\n",
       "      <td>0</td>\n",
       "      <td>0</td>\n",
       "      <td>1</td>\n",
       "      <td>0</td>\n",
       "      <td>0</td>\n",
       "      <td>0</td>\n",
       "      <td>0</td>\n",
       "      <td>0</td>\n",
       "      <td>0</td>\n",
       "      <td>...</td>\n",
       "      <td>0</td>\n",
       "      <td>0</td>\n",
       "      <td>0</td>\n",
       "      <td>0</td>\n",
       "      <td>0</td>\n",
       "      <td>0</td>\n",
       "      <td>0</td>\n",
       "      <td>0</td>\n",
       "      <td>0</td>\n",
       "      <td>0</td>\n",
       "    </tr>\n",
       "    <tr>\n",
       "      <th>9</th>\n",
       "      <td>Johnson, Gary</td>\n",
       "      <td>1</td>\n",
       "      <td>0</td>\n",
       "      <td>4</td>\n",
       "      <td>1</td>\n",
       "      <td>0</td>\n",
       "      <td>0</td>\n",
       "      <td>0</td>\n",
       "      <td>0</td>\n",
       "      <td>0</td>\n",
       "      <td>...</td>\n",
       "      <td>0</td>\n",
       "      <td>0</td>\n",
       "      <td>0</td>\n",
       "      <td>0</td>\n",
       "      <td>0</td>\n",
       "      <td>0</td>\n",
       "      <td>0</td>\n",
       "      <td>0</td>\n",
       "      <td>0</td>\n",
       "      <td>0</td>\n",
       "    </tr>\n",
       "    <tr>\n",
       "      <th>10</th>\n",
       "      <td>Kasich, John R.</td>\n",
       "      <td>0</td>\n",
       "      <td>2</td>\n",
       "      <td>11</td>\n",
       "      <td>1</td>\n",
       "      <td>0</td>\n",
       "      <td>0</td>\n",
       "      <td>0</td>\n",
       "      <td>0</td>\n",
       "      <td>0</td>\n",
       "      <td>...</td>\n",
       "      <td>0</td>\n",
       "      <td>0</td>\n",
       "      <td>0</td>\n",
       "      <td>0</td>\n",
       "      <td>0</td>\n",
       "      <td>0</td>\n",
       "      <td>0</td>\n",
       "      <td>0</td>\n",
       "      <td>0</td>\n",
       "      <td>0</td>\n",
       "    </tr>\n",
       "    <tr>\n",
       "      <th>11</th>\n",
       "      <td>McMullin, Evan</td>\n",
       "      <td>0</td>\n",
       "      <td>0</td>\n",
       "      <td>1</td>\n",
       "      <td>0</td>\n",
       "      <td>0</td>\n",
       "      <td>0</td>\n",
       "      <td>0</td>\n",
       "      <td>0</td>\n",
       "      <td>0</td>\n",
       "      <td>...</td>\n",
       "      <td>0</td>\n",
       "      <td>0</td>\n",
       "      <td>0</td>\n",
       "      <td>0</td>\n",
       "      <td>0</td>\n",
       "      <td>0</td>\n",
       "      <td>0</td>\n",
       "      <td>0</td>\n",
       "      <td>0</td>\n",
       "      <td>0</td>\n",
       "    </tr>\n",
       "    <tr>\n",
       "      <th>12</th>\n",
       "      <td>O'Malley, Martin Joseph</td>\n",
       "      <td>0</td>\n",
       "      <td>1</td>\n",
       "      <td>2</td>\n",
       "      <td>0</td>\n",
       "      <td>0</td>\n",
       "      <td>0</td>\n",
       "      <td>0</td>\n",
       "      <td>0</td>\n",
       "      <td>0</td>\n",
       "      <td>...</td>\n",
       "      <td>0</td>\n",
       "      <td>0</td>\n",
       "      <td>0</td>\n",
       "      <td>0</td>\n",
       "      <td>0</td>\n",
       "      <td>0</td>\n",
       "      <td>0</td>\n",
       "      <td>0</td>\n",
       "      <td>0</td>\n",
       "      <td>0</td>\n",
       "    </tr>\n",
       "    <tr>\n",
       "      <th>13</th>\n",
       "      <td>Paul, Rand</td>\n",
       "      <td>2</td>\n",
       "      <td>2</td>\n",
       "      <td>4</td>\n",
       "      <td>3</td>\n",
       "      <td>0</td>\n",
       "      <td>0</td>\n",
       "      <td>0</td>\n",
       "      <td>0</td>\n",
       "      <td>0</td>\n",
       "      <td>...</td>\n",
       "      <td>0</td>\n",
       "      <td>0</td>\n",
       "      <td>0</td>\n",
       "      <td>0</td>\n",
       "      <td>0</td>\n",
       "      <td>0</td>\n",
       "      <td>0</td>\n",
       "      <td>0</td>\n",
       "      <td>0</td>\n",
       "      <td>0</td>\n",
       "    </tr>\n",
       "    <tr>\n",
       "      <th>14</th>\n",
       "      <td>Perry, James R. (Rick)</td>\n",
       "      <td>0</td>\n",
       "      <td>0</td>\n",
       "      <td>1</td>\n",
       "      <td>0</td>\n",
       "      <td>0</td>\n",
       "      <td>0</td>\n",
       "      <td>0</td>\n",
       "      <td>0</td>\n",
       "      <td>0</td>\n",
       "      <td>...</td>\n",
       "      <td>0</td>\n",
       "      <td>0</td>\n",
       "      <td>0</td>\n",
       "      <td>0</td>\n",
       "      <td>0</td>\n",
       "      <td>0</td>\n",
       "      <td>0</td>\n",
       "      <td>0</td>\n",
       "      <td>0</td>\n",
       "      <td>0</td>\n",
       "    </tr>\n",
       "    <tr>\n",
       "      <th>15</th>\n",
       "      <td>Rubio, Marco</td>\n",
       "      <td>6</td>\n",
       "      <td>3</td>\n",
       "      <td>21</td>\n",
       "      <td>4</td>\n",
       "      <td>2</td>\n",
       "      <td>0</td>\n",
       "      <td>0</td>\n",
       "      <td>0</td>\n",
       "      <td>0</td>\n",
       "      <td>...</td>\n",
       "      <td>0</td>\n",
       "      <td>0</td>\n",
       "      <td>0</td>\n",
       "      <td>0</td>\n",
       "      <td>0</td>\n",
       "      <td>0</td>\n",
       "      <td>0</td>\n",
       "      <td>0</td>\n",
       "      <td>0</td>\n",
       "      <td>0</td>\n",
       "    </tr>\n",
       "    <tr>\n",
       "      <th>16</th>\n",
       "      <td>Sanders, Bernard</td>\n",
       "      <td>65</td>\n",
       "      <td>449</td>\n",
       "      <td>201</td>\n",
       "      <td>81</td>\n",
       "      <td>0</td>\n",
       "      <td>0</td>\n",
       "      <td>0</td>\n",
       "      <td>0</td>\n",
       "      <td>0</td>\n",
       "      <td>...</td>\n",
       "      <td>0</td>\n",
       "      <td>0</td>\n",
       "      <td>0</td>\n",
       "      <td>0</td>\n",
       "      <td>0</td>\n",
       "      <td>0</td>\n",
       "      <td>0</td>\n",
       "      <td>0</td>\n",
       "      <td>0</td>\n",
       "      <td>0</td>\n",
       "    </tr>\n",
       "    <tr>\n",
       "      <th>17</th>\n",
       "      <td>Stein, Jill</td>\n",
       "      <td>1</td>\n",
       "      <td>1</td>\n",
       "      <td>1</td>\n",
       "      <td>0</td>\n",
       "      <td>0</td>\n",
       "      <td>0</td>\n",
       "      <td>0</td>\n",
       "      <td>0</td>\n",
       "      <td>0</td>\n",
       "      <td>...</td>\n",
       "      <td>0</td>\n",
       "      <td>0</td>\n",
       "      <td>0</td>\n",
       "      <td>0</td>\n",
       "      <td>0</td>\n",
       "      <td>0</td>\n",
       "      <td>0</td>\n",
       "      <td>0</td>\n",
       "      <td>0</td>\n",
       "      <td>0</td>\n",
       "    </tr>\n",
       "    <tr>\n",
       "      <th>18</th>\n",
       "      <td>Trump, Donald J.</td>\n",
       "      <td>36</td>\n",
       "      <td>18</td>\n",
       "      <td>254</td>\n",
       "      <td>19</td>\n",
       "      <td>0</td>\n",
       "      <td>0</td>\n",
       "      <td>0</td>\n",
       "      <td>0</td>\n",
       "      <td>0</td>\n",
       "      <td>...</td>\n",
       "      <td>0</td>\n",
       "      <td>0</td>\n",
       "      <td>0</td>\n",
       "      <td>0</td>\n",
       "      <td>0</td>\n",
       "      <td>0</td>\n",
       "      <td>0</td>\n",
       "      <td>0</td>\n",
       "      <td>0</td>\n",
       "      <td>0</td>\n",
       "    </tr>\n",
       "    <tr>\n",
       "      <th>19</th>\n",
       "      <td>Walker, Scott</td>\n",
       "      <td>0</td>\n",
       "      <td>0</td>\n",
       "      <td>2</td>\n",
       "      <td>0</td>\n",
       "      <td>0</td>\n",
       "      <td>0</td>\n",
       "      <td>0</td>\n",
       "      <td>0</td>\n",
       "      <td>0</td>\n",
       "      <td>...</td>\n",
       "      <td>0</td>\n",
       "      <td>0</td>\n",
       "      <td>0</td>\n",
       "      <td>0</td>\n",
       "      <td>0</td>\n",
       "      <td>0</td>\n",
       "      <td>0</td>\n",
       "      <td>0</td>\n",
       "      <td>0</td>\n",
       "      <td>0</td>\n",
       "    </tr>\n",
       "  </tbody>\n",
       "</table>\n",
       "<p>20 rows × 23 columns</p>\n",
       "</div>"
      ],
      "text/plain": [
       "                      CAND_NM    0    1    2   3   4  5  6  7  8 ...  12  13  \\\n",
       "0                   Bush, Jeb    0    0    8   0   0  0  0  0  0 ...   0   0   \n",
       "1         Carson, Benjamin S.    8    9   65  10  13  0  0  0  0 ...   0   0   \n",
       "2    Christie, Christopher J.    1    0    2   0   0  0  0  0  0 ...   0   0   \n",
       "3     Clinton, Hillary Rodham  790  168  371  98   0  0  0  0  0 ...   0   0   \n",
       "4   Cruz, Rafael Edward 'Ted'   15   35  122  29   3  0  0  0  0 ...   0   0   \n",
       "5              Fiorina, Carly    3    4    2   0   0  0  0  0  0 ...   0   0   \n",
       "6          Graham, Lindsey O.    2    0    0   0   0  0  0  0  0 ...   0   0   \n",
       "7              Huckabee, Mike    0    0    3   0   0  0  0  0  0 ...   0   0   \n",
       "8               Jindal, Bobby    0    0    1   0   0  0  0  0  0 ...   0   0   \n",
       "9               Johnson, Gary    1    0    4   1   0  0  0  0  0 ...   0   0   \n",
       "10            Kasich, John R.    0    2   11   1   0  0  0  0  0 ...   0   0   \n",
       "11             McMullin, Evan    0    0    1   0   0  0  0  0  0 ...   0   0   \n",
       "12    O'Malley, Martin Joseph    0    1    2   0   0  0  0  0  0 ...   0   0   \n",
       "13                 Paul, Rand    2    2    4   3   0  0  0  0  0 ...   0   0   \n",
       "14     Perry, James R. (Rick)    0    0    1   0   0  0  0  0  0 ...   0   0   \n",
       "15               Rubio, Marco    6    3   21   4   2  0  0  0  0 ...   0   0   \n",
       "16           Sanders, Bernard   65  449  201  81   0  0  0  0  0 ...   0   0   \n",
       "17                Stein, Jill    1    1    1   0   0  0  0  0  0 ...   0   0   \n",
       "18           Trump, Donald J.   36   18  254  19   0  0  0  0  0 ...   0   0   \n",
       "19              Walker, Scott    0    0    2   0   0  0  0  0  0 ...   0   0   \n",
       "\n",
       "    14  15  16  17  18  19  20  21  \n",
       "0    0   0   0   0   0   0   0   0  \n",
       "1    0   0   0   0   0   0   0   0  \n",
       "2    0   0   0   0   0   0   0   0  \n",
       "3    0   0   0   0   0   0   0   0  \n",
       "4    0   0   0   0   0   0   0   0  \n",
       "5    0   0   0   0   0   0   0   0  \n",
       "6    0   0   0   0   0   0   0   0  \n",
       "7    0   0   0   0   0   0   0   0  \n",
       "8    0   0   0   0   0   0   0   0  \n",
       "9    0   0   0   0   0   0   0   0  \n",
       "10   0   0   0   0   0   0   0   0  \n",
       "11   0   0   0   0   0   0   0   0  \n",
       "12   0   0   0   0   0   0   0   0  \n",
       "13   0   0   0   0   0   0   0   0  \n",
       "14   0   0   0   0   0   0   0   0  \n",
       "15   0   0   0   0   0   0   0   0  \n",
       "16   0   0   0   0   0   0   0   0  \n",
       "17   0   0   0   0   0   0   0   0  \n",
       "18   0   0   0   0   0   0   0   0  \n",
       "19   0   0   0   0   0   0   0   0  \n",
       "\n",
       "[20 rows x 23 columns]"
      ]
     },
     "execution_count": 34,
     "metadata": {},
     "output_type": "execute_result"
    }
   ],
   "source": [
    "cm = predictions.groupBy('CAND_NM').pivot('prediction', range(0,22)).count().na.fill(0).orderBy('CAND_NM')\n",
    "cm.toPandas()"
   ]
  },
  {
   "cell_type": "markdown",
   "metadata": {},
   "source": [
    "## Step 10 -  Print the feature importanes\n",
    "\n",
    "**=> TODO Compare the relative weight of the feature importances?**"
   ]
  },
  {
   "cell_type": "code",
   "execution_count": 35,
   "metadata": {},
   "outputs": [
    {
     "name": "stdout",
     "output_type": "stream",
     "text": [
      "[0.04677645 0.67797629 0.27524726]\n",
      "                      cols  importance\n",
      "0          CONTBR_ST_index    0.046776\n",
      "1    CONTBR_EMPLOYER_index    0.677976\n",
      "2  CONTBR_OCCUPATION_index    0.275247\n"
     ]
    },
    {
     "data": {
      "text/html": [
       "<div>\n",
       "<style scoped>\n",
       "    .dataframe tbody tr th:only-of-type {\n",
       "        vertical-align: middle;\n",
       "    }\n",
       "\n",
       "    .dataframe tbody tr th {\n",
       "        vertical-align: top;\n",
       "    }\n",
       "\n",
       "    .dataframe thead th {\n",
       "        text-align: right;\n",
       "    }\n",
       "</style>\n",
       "<table border=\"1\" class=\"dataframe\">\n",
       "  <thead>\n",
       "    <tr style=\"text-align: right;\">\n",
       "      <th></th>\n",
       "      <th>cols</th>\n",
       "      <th>importance</th>\n",
       "    </tr>\n",
       "  </thead>\n",
       "  <tbody>\n",
       "    <tr>\n",
       "      <th>1</th>\n",
       "      <td>CONTBR_EMPLOYER_index</td>\n",
       "      <td>0.677976</td>\n",
       "    </tr>\n",
       "    <tr>\n",
       "      <th>2</th>\n",
       "      <td>CONTBR_OCCUPATION_index</td>\n",
       "      <td>0.275247</td>\n",
       "    </tr>\n",
       "    <tr>\n",
       "      <th>0</th>\n",
       "      <td>CONTBR_ST_index</td>\n",
       "      <td>0.046776</td>\n",
       "    </tr>\n",
       "  </tbody>\n",
       "</table>\n",
       "</div>"
      ],
      "text/plain": [
       "                      cols  importance\n",
       "1    CONTBR_EMPLOYER_index    0.677976\n",
       "2  CONTBR_OCCUPATION_index    0.275247\n",
       "0          CONTBR_ST_index    0.046776"
      ]
     },
     "execution_count": 35,
     "metadata": {},
     "output_type": "execute_result"
    }
   ],
   "source": [
    "import pandas as pd\n",
    "\n",
    "imp = model.featureImportances.toArray()\n",
    "print(imp)\n",
    "df = pd.DataFrame({'cols': feature_columns, 'importance':imp})\n",
    "print(df)\n",
    "df.sort_values(by=['importance'], ascending=False)"
   ]
  },
  {
   "cell_type": "markdown",
   "metadata": {},
   "source": [
    "## Conclusion: Most important Fields\n",
    "\n",
    "1. Employer\n",
    "2. Occupation\n",
    "3. State\n",
    "\n",
    "Other fields not significant\n",
    "\n",
    "**=> TODO Compare the relative weight of the feature importances?**\n",
    "\n",
    "**=> BONUS: Do a Pearson Correlation Matrix of the variables to the outcome, to see correlation**\n",
    "\n"
   ]
  },
  {
   "cell_type": "markdown",
   "metadata": {},
   "source": [
    "## BONUS : Running on full dataset\n",
    "\n",
    "**Use the dowload script**\n",
    "\n",
    "```bash\n",
    "$ cd   ~/data/presidential_election_contribs\n",
    "$ ./download-data.sh\n",
    "```\n",
    "\n",
    "This will download full dataset.\n",
    "\n",
    "As we run on larger dataset, the execution will take longer and Jupyter notebook might time out.  So let's run this in command line / script mode\n",
    "\n",
    "Download the Jupyter notebook as Python file (File --> Download as --> Python)\n",
    "\n",
    "```bash\n",
    "# run the downloaded python script as follows\n",
    "$    time  ~/spark/bin/spark-submit    --master local[*]  random-forest-2-election-classification.py 2> logs\n",
    "\n",
    "```\n",
    "\n",
    "Watch the output\n"
   ]
  },
  {
   "cell_type": "code",
   "execution_count": null,
   "metadata": {},
   "outputs": [],
   "source": []
  }
 ],
 "metadata": {
  "anaconda-cloud": {},
  "kernelspec": {
   "display_name": "Python 3",
   "language": "python",
   "name": "python3"
  },
  "language_info": {
   "codemirror_mode": {
    "name": "ipython",
    "version": 3
   },
   "file_extension": ".py",
   "mimetype": "text/x-python",
   "name": "python",
   "nbconvert_exporter": "python",
   "pygments_lexer": "ipython3",
   "version": "3.6.6"
  }
 },
 "nbformat": 4,
 "nbformat_minor": 2
}
