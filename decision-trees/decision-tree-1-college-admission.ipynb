{
 "cells": [
  {
   "cell_type": "markdown",
   "metadata": {},
   "source": [
    "# Decision Tree Learning: College Admission\n",
    "\n",
    "A decision tree a learned set of rules that allows us to make decisions on data.\n",
    "\n",
    "We are going to look at the prosper loan dataset.  This dataset shows a history of loans made by Prosper."
   ]
  },
  {
   "cell_type": "code",
   "execution_count": 1,
   "metadata": {
    "collapsed": true
   },
   "outputs": [
    {
     "name": "stdout",
     "output_type": "stream",
     "text": [
      "Initializing Spark...\n",
      "Spark found in :  /Users/sujee/spark\n",
      "Spark config:\n",
      "\t spark.app.name=TestApp\n",
      "\tspark.master=local[*]\n",
      "\texecutor.memory=2g\n",
      "\tspark.sql.warehouse.dir=/var/folders/lp/qm_skljd2hl4xtps5vw0tdgm0000gn/T/tmpxh4161ot\n",
      "\tsome_property=some_value\n",
      "Spark UI running on port 4040\n"
     ]
    },
    {
     "data": {
      "text/html": [
       "\n",
       "            <div>\n",
       "                <p><b>SparkSession - in-memory</b></p>\n",
       "                \n",
       "        <div>\n",
       "            <p><b>SparkContext</b></p>\n",
       "\n",
       "            <p><a href=\"http://sujee-mbp-2.lan:4040\">Spark UI</a></p>\n",
       "\n",
       "            <dl>\n",
       "              <dt>Version</dt>\n",
       "                <dd><code>v2.3.0</code></dd>\n",
       "              <dt>Master</dt>\n",
       "                <dd><code>local[*]</code></dd>\n",
       "              <dt>AppName</dt>\n",
       "                <dd><code>TestApp</code></dd>\n",
       "            </dl>\n",
       "        </div>\n",
       "        \n",
       "            </div>\n",
       "        "
      ],
      "text/plain": [
       "<pyspark.sql.session.SparkSession at 0x110809128>"
      ]
     },
     "execution_count": 1,
     "metadata": {},
     "output_type": "execute_result"
    }
   ],
   "source": [
    "# initialize Spark Session\n",
    "import os\n",
    "import sys\n",
    "top_dir = os.path.abspath(os.path.join(os.getcwd(), \"../\"))\n",
    "if top_dir not in sys.path:\n",
    "    sys.path.append(top_dir)\n",
    "\n",
    "from init_spark import init_spark\n",
    "spark = init_spark()\n",
    "spark"
   ]
  },
  {
   "cell_type": "markdown",
   "metadata": {},
   "source": [
    "## Step 1: Load the Data"
   ]
  },
  {
   "cell_type": "code",
   "execution_count": 2,
   "metadata": {
    "collapsed": true
   },
   "outputs": [
    {
     "name": "stdout",
     "output_type": "stream",
     "text": [
      "root\n",
      " |-- admit: integer (nullable = true)\n",
      " |-- gre: integer (nullable = true)\n",
      " |-- gpa: double (nullable = true)\n",
      " |-- rank: integer (nullable = true)\n",
      "\n",
      "+-----+---+----+----+\n",
      "|admit|gre| gpa|rank|\n",
      "+-----+---+----+----+\n",
      "|    0|380|3.61|   3|\n",
      "|    1|660|3.67|   3|\n",
      "|    1|800| 4.0|   1|\n",
      "|    0|640|3.19|   4|\n",
      "|    0|520|2.93|   4|\n",
      "|    1|760| 3.0|   2|\n",
      "|    0|560|2.98|   1|\n",
      "|    0|400|3.08|   2|\n",
      "|    0|540|3.39|   3|\n",
      "|    1|700|3.92|   2|\n",
      "|    1|800| 4.0|   4|\n",
      "|    0|440|3.22|   1|\n",
      "|    1|760| 4.0|   1|\n",
      "|    1|700|3.08|   2|\n",
      "|    1|700| 4.0|   1|\n",
      "|    0|480|3.44|   3|\n",
      "|    1|780|3.87|   4|\n",
      "|    0|360|2.56|   3|\n",
      "|    1|800|3.75|   2|\n",
      "|    0|540|3.81|   1|\n",
      "+-----+---+----+----+\n",
      "only showing top 20 rows\n",
      "\n"
     ]
    }
   ],
   "source": [
    "dataset = spark.read.csv(\"/data/college-admissions/admission-data.csv\", \n",
    "                         header=True, inferSchema=True)\n",
    "## clean \n",
    "dataset = dataset.na.drop()\n",
    "\n",
    "dataset.printSchema()\n",
    "dataset.show(20)"
   ]
  },
  {
   "cell_type": "markdown",
   "metadata": {},
   "source": [
    "## Step 2 : Basic Analysis"
   ]
  },
  {
   "cell_type": "markdown",
   "metadata": {},
   "source": [
    "### 2.1 Look at data split by 'admit' colunm\n",
    "Looks like a resaonble distribution"
   ]
  },
  {
   "cell_type": "code",
   "execution_count": 3,
   "metadata": {
    "collapsed": true
   },
   "outputs": [
    {
     "name": "stdout",
     "output_type": "stream",
     "text": [
      "+-----+-----+\n",
      "|admit|count|\n",
      "+-----+-----+\n",
      "|    1|   43|\n",
      "|    0|   57|\n",
      "+-----+-----+\n",
      "\n"
     ]
    }
   ],
   "source": [
    "## TODO : group by 'admit' column\n",
    "dataset.groupBy('admit').count().show()"
   ]
  },
  {
   "cell_type": "markdown",
   "metadata": {},
   "source": [
    "### 2.2 Summary of data\n",
    "use 'describe' function"
   ]
  },
  {
   "cell_type": "code",
   "execution_count": 4,
   "metadata": {
    "collapsed": true
   },
   "outputs": [
    {
     "name": "stdout",
     "output_type": "stream",
     "text": [
      "+-------+-------------------+------------------+------------------+-----------------+\n",
      "|summary|              admit|               gre|               gpa|             rank|\n",
      "+-------+-------------------+------------------+------------------+-----------------+\n",
      "|  count|                100|               100|               100|              100|\n",
      "|   mean|               0.43|             600.0| 3.390699999999998|             2.52|\n",
      "| stddev|0.49756985195624304|124.46248065545332|0.3971877275408833|1.019803902718557|\n",
      "|    min|                  0|               300|              2.42|                1|\n",
      "|    max|                  1|               800|               4.0|                4|\n",
      "+-------+-------------------+------------------+------------------+-----------------+\n",
      "\n"
     ]
    }
   ],
   "source": [
    "dataset.describe().show()"
   ]
  },
  {
   "cell_type": "markdown",
   "metadata": {},
   "source": [
    "## Step 3: Build feature vectors using VectorAssembler."
   ]
  },
  {
   "cell_type": "code",
   "execution_count": 5,
   "metadata": {
    "collapsed": true
   },
   "outputs": [
    {
     "name": "stdout",
     "output_type": "stream",
     "text": [
      "+-----+---+----+----+----------------+-----+\n",
      "|admit|gre| gpa|rank|        features|label|\n",
      "+-----+---+----+----+----------------+-----+\n",
      "|    0|380|3.61|   3|[3.61,380.0,3.0]|    0|\n",
      "|    1|660|3.67|   3|[3.67,660.0,3.0]|    1|\n",
      "|    1|800| 4.0|   1| [4.0,800.0,1.0]|    1|\n",
      "|    0|640|3.19|   4|[3.19,640.0,4.0]|    0|\n",
      "|    0|520|2.93|   4|[2.93,520.0,4.0]|    0|\n",
      "|    1|760| 3.0|   2| [3.0,760.0,2.0]|    1|\n",
      "|    0|560|2.98|   1|[2.98,560.0,1.0]|    0|\n",
      "|    0|400|3.08|   2|[3.08,400.0,2.0]|    0|\n",
      "|    0|540|3.39|   3|[3.39,540.0,3.0]|    0|\n",
      "|    1|700|3.92|   2|[3.92,700.0,2.0]|    1|\n",
      "|    1|800| 4.0|   4| [4.0,800.0,4.0]|    1|\n",
      "|    0|440|3.22|   1|[3.22,440.0,1.0]|    0|\n",
      "|    1|760| 4.0|   1| [4.0,760.0,1.0]|    1|\n",
      "|    1|700|3.08|   2|[3.08,700.0,2.0]|    1|\n",
      "|    1|700| 4.0|   1| [4.0,700.0,1.0]|    1|\n",
      "|    0|480|3.44|   3|[3.44,480.0,3.0]|    0|\n",
      "|    1|780|3.87|   4|[3.87,780.0,4.0]|    1|\n",
      "|    0|360|2.56|   3|[2.56,360.0,3.0]|    0|\n",
      "|    1|800|3.75|   2|[3.75,800.0,2.0]|    1|\n",
      "|    0|540|3.81|   1|[3.81,540.0,1.0]|    0|\n",
      "+-----+---+----+----+----------------+-----+\n",
      "only showing top 20 rows\n",
      "\n"
     ]
    }
   ],
   "source": [
    "from pyspark.ml.feature import VectorAssembler\n",
    "\n",
    "## TODO : create a feature vector using the following attributes\n",
    "## Hint :   'gpa' ,   'gre',   'rank'\n",
    "assembler = VectorAssembler(inputCols=['gpa', 'gre', 'rank'], outputCol=\"features\")\n",
    "feature_vector = assembler.transform(dataset)\n",
    "\n",
    "## TODO : set 'admit' as 'label' column\n",
    "feature_vector = feature_vector.withColumn(\"label\", feature_vector[\"admit\"])\n",
    "feature_vector.show()"
   ]
  },
  {
   "cell_type": "markdown",
   "metadata": {},
   "source": [
    "## Step 4: Split Data into training and test.\n",
    "\n",
    "We will split our the data up into training and test.  (You know the drill by now).\n",
    "\n",
    "**=> TODO: Split dataset into 80% training, 20% validation**\n"
   ]
  },
  {
   "cell_type": "code",
   "execution_count": 6,
   "metadata": {
    "collapsed": true
   },
   "outputs": [
    {
     "name": "stdout",
     "output_type": "stream",
     "text": [
      "training set =  82\n",
      "testing set =  18\n"
     ]
    }
   ],
   "source": [
    "## TODO :  Split the data into 80% training and 20% test sets \n",
    "## Hint :  0.8,   0.2\n",
    "(training, test) =  feature_vector.randomSplit([.8,   .2])\n",
    "#(training, test) =  feature_vector.randomSplit([???,   ???], seed=123)  # seed can be any number\n",
    "print(\"training set = \" , training.count())\n",
    "print(\"testing set = \" , test.count())"
   ]
  },
  {
   "cell_type": "markdown",
   "metadata": {},
   "source": [
    "## Step 5: Decision Tree"
   ]
  },
  {
   "cell_type": "markdown",
   "metadata": {},
   "source": [
    "### 5.1 Create tree"
   ]
  },
  {
   "cell_type": "code",
   "execution_count": 7,
   "metadata": {
    "collapsed": true
   },
   "outputs": [
    {
     "data": {
      "text/plain": [
       "DecisionTreeClassifier_45d5b6f91b025b6791ae"
      ]
     },
     "execution_count": 7,
     "metadata": {},
     "output_type": "execute_result"
    }
   ],
   "source": [
    "from pyspark.ml.classification import DecisionTreeClassifier\n",
    "\n",
    "## TODO : Create a DecisionTree model with maximum bins = 500\n",
    "## \n",
    "dt = DecisionTreeClassifier(labelCol=\"label\", featuresCol=\"features\", maxBins=500)\n",
    "\n",
    "\n",
    "dt"
   ]
  },
  {
   "cell_type": "markdown",
   "metadata": {},
   "source": [
    "### 5.2 Train Tree"
   ]
  },
  {
   "cell_type": "code",
   "execution_count": 8,
   "metadata": {
    "collapsed": true
   },
   "outputs": [
    {
     "name": "stdout",
     "output_type": "stream",
     "text": [
      "training starting...\n",
      "training done.\n",
      "CPU times: user 15.6 ms, sys: 4.57 ms, total: 20.2 ms\n",
      "Wall time: 863 ms\n"
     ]
    }
   ],
   "source": [
    "%%time\n",
    "\n",
    "## TODO : train model on training dataset\n",
    "## Hint : pass 'training' dataset name\n",
    "\n",
    "print(\"training starting...\")\n",
    "model = dt.fit(training)\n",
    "print(\"training done.\")\n",
    "\n"
   ]
  },
  {
   "cell_type": "markdown",
   "metadata": {},
   "source": [
    "### 5.3 Print Tree"
   ]
  },
  {
   "cell_type": "code",
   "execution_count": 9,
   "metadata": {
    "collapsed": true
   },
   "outputs": [
    {
     "name": "stdout",
     "output_type": "stream",
     "text": [
      "DecisionTreeClassificationModel (uid=DecisionTreeClassifier_45d5b6f91b025b6791ae) of depth 5 with 23 nodes\n",
      "\n",
      "DecisionTreeClassificationModel (uid=DecisionTreeClassifier_45d5b6f91b025b6791ae) of depth 5 with 23 nodes\n",
      "  If (feature 1 <= 610.0)\n",
      "   If (feature 1 <= 490.0)\n",
      "    Predict: 0.0\n",
      "   Else (feature 1 > 490.0)\n",
      "    If (feature 0 <= 3.125)\n",
      "     If (feature 0 <= 2.6950000000000003)\n",
      "      If (feature 0 <= 2.45)\n",
      "       Predict: 0.0\n",
      "      Else (feature 0 > 2.45)\n",
      "       Predict: 1.0\n",
      "     Else (feature 0 > 2.6950000000000003)\n",
      "      Predict: 0.0\n",
      "    Else (feature 0 > 3.125)\n",
      "     If (feature 0 <= 3.165)\n",
      "      Predict: 1.0\n",
      "     Else (feature 0 > 3.165)\n",
      "      If (feature 0 <= 3.395)\n",
      "       Predict: 0.0\n",
      "      Else (feature 0 > 3.395)\n",
      "       Predict: 0.0\n",
      "  Else (feature 1 > 610.0)\n",
      "   If (feature 0 <= 3.38)\n",
      "    If (feature 1 <= 750.0)\n",
      "     If (feature 2 <= 2.5)\n",
      "      If (feature 0 <= 3.075)\n",
      "       Predict: 0.0\n",
      "      Else (feature 0 > 3.075)\n",
      "       Predict: 1.0\n",
      "     Else (feature 2 > 2.5)\n",
      "      Predict: 0.0\n",
      "    Else (feature 1 > 750.0)\n",
      "     Predict: 1.0\n",
      "   Else (feature 0 > 3.38)\n",
      "    Predict: 1.0\n",
      "\n"
     ]
    }
   ],
   "source": [
    "\n",
    "## print the model\n",
    "print(model)\n",
    "print()\n",
    "print(model.toDebugString)"
   ]
  },
  {
   "cell_type": "markdown",
   "metadata": {},
   "source": [
    "## Step 6 : Get Predictions on Test"
   ]
  },
  {
   "cell_type": "code",
   "execution_count": 10,
   "metadata": {
    "collapsed": true
   },
   "outputs": [
    {
     "name": "stdout",
     "output_type": "stream",
     "text": [
      "+-----+---+----+----+----------------+-----+-------------+--------------------+----------+\n",
      "|admit|gre| gpa|rank|        features|label|rawPrediction|         probability|prediction|\n",
      "+-----+---+----+----+----------------+-----+-------------+--------------------+----------+\n",
      "|    0|400|3.08|   2|[3.08,400.0,2.0]|    0|   [13.0,0.0]|           [1.0,0.0]|       0.0|\n",
      "|    0|400|3.65|   2|[3.65,400.0,2.0]|    0|   [13.0,0.0]|           [1.0,0.0]|       0.0|\n",
      "|    0|480|3.39|   4|[3.39,480.0,4.0]|    0|   [13.0,0.0]|           [1.0,0.0]|       0.0|\n",
      "|    0|480|3.44|   3|[3.44,480.0,3.0]|    0|   [13.0,0.0]|           [1.0,0.0]|       0.0|\n",
      "|    0|500|3.17|   3|[3.17,500.0,3.0]|    0|    [8.0,1.0]|[0.88888888888888...|       0.0|\n",
      "|    0|580| 4.0|   2| [4.0,580.0,2.0]|    0|    [6.0,4.0]|           [0.6,0.4]|       0.0|\n",
      "|    0|620| 3.3|   1| [3.3,620.0,1.0]|    0|    [1.0,3.0]|         [0.25,0.75]|       1.0|\n",
      "|    0|640|3.52|   4|[3.52,640.0,4.0]|    0|   [0.0,21.0]|           [0.0,1.0]|       1.0|\n",
      "|    0|640|3.86|   3|[3.86,640.0,3.0]|    0|   [0.0,21.0]|           [0.0,1.0]|       1.0|\n",
      "|    0|640| 4.0|   3| [4.0,640.0,3.0]|    0|   [0.0,21.0]|           [0.0,1.0]|       1.0|\n",
      "|    1|460|3.45|   3|[3.45,460.0,3.0]|    1|   [13.0,0.0]|           [1.0,0.0]|       0.0|\n",
      "|    1|620| 4.0|   1| [4.0,620.0,1.0]|    1|   [0.0,21.0]|           [0.0,1.0]|       1.0|\n",
      "|    1|700|3.28|   1|[3.28,700.0,1.0]|    1|    [1.0,3.0]|         [0.25,0.75]|       1.0|\n",
      "|    1|720| 4.0|   3| [4.0,720.0,3.0]|    1|   [0.0,21.0]|           [0.0,1.0]|       1.0|\n",
      "|    1|760|3.35|   3|[3.35,760.0,3.0]|    1|    [0.0,3.0]|           [0.0,1.0]|       1.0|\n",
      "|    1|800|3.75|   2|[3.75,800.0,2.0]|    1|   [0.0,21.0]|           [0.0,1.0]|       1.0|\n",
      "|    1|800| 4.0|   3| [4.0,800.0,3.0]|    1|   [0.0,21.0]|           [0.0,1.0]|       1.0|\n",
      "|    1|800| 4.0|   3| [4.0,800.0,3.0]|    1|   [0.0,21.0]|           [0.0,1.0]|       1.0|\n",
      "+-----+---+----+----+----------------+-----+-------------+--------------------+----------+\n",
      "\n",
      "+-----+---+----+----+----------------+-----+-------------+--------------------+----------+\n",
      "|admit|gre| gpa|rank|        features|label|rawPrediction|         probability|prediction|\n",
      "+-----+---+----+----+----------------+-----+-------------+--------------------+----------+\n",
      "|    0|500|3.17|   3|[3.17,500.0,3.0]|    0|    [8.0,1.0]|[0.88888888888888...|       0.0|\n",
      "|    0|580| 4.0|   2| [4.0,580.0,2.0]|    0|    [6.0,4.0]|           [0.6,0.4]|       0.0|\n",
      "|    0|620| 3.3|   1| [3.3,620.0,1.0]|    0|    [1.0,3.0]|         [0.25,0.75]|       1.0|\n",
      "|    0|640| 4.0|   3| [4.0,640.0,3.0]|    0|   [0.0,21.0]|           [0.0,1.0]|       1.0|\n",
      "|    1|620| 4.0|   1| [4.0,620.0,1.0]|    1|   [0.0,21.0]|           [0.0,1.0]|       1.0|\n",
      "|    1|700|3.28|   1|[3.28,700.0,1.0]|    1|    [1.0,3.0]|         [0.25,0.75]|       1.0|\n",
      "|    1|720| 4.0|   3| [4.0,720.0,3.0]|    1|   [0.0,21.0]|           [0.0,1.0]|       1.0|\n",
      "|    1|760|3.35|   3|[3.35,760.0,3.0]|    1|    [0.0,3.0]|           [0.0,1.0]|       1.0|\n",
      "+-----+---+----+----+----------------+-----+-------------+--------------------+----------+\n",
      "\n"
     ]
    }
   ],
   "source": [
    "## TODO : Get predictions on test data\n",
    "## Hint : 'test' set name\n",
    "predictions_test = model.transform(test)\n",
    "predictions_test.show()\n",
    "\n",
    "## do a sample label\n",
    "predictions_test.sampleBy(col=\"label\", fractions={0: 0.5, 1: 0.5}, seed=123).show()"
   ]
  },
  {
   "cell_type": "markdown",
   "metadata": {},
   "source": [
    "## Step 7: Evaluate the model.\n",
    "\n",
    "Let us check to see how the model did, using accuracy as a measure."
   ]
  },
  {
   "cell_type": "code",
   "execution_count": 11,
   "metadata": {},
   "outputs": [],
   "source": [
    "predictions_test = model.transform(test)\n",
    "predictions_train = model.transform(training)"
   ]
  },
  {
   "cell_type": "markdown",
   "metadata": {},
   "source": [
    "### 7.1 Model Accuracy"
   ]
  },
  {
   "cell_type": "code",
   "execution_count": 12,
   "metadata": {
    "collapsed": true
   },
   "outputs": [
    {
     "name": "stdout",
     "output_type": "stream",
     "text": [
      "Training set accuracy =  0.926829268292683\n",
      "Test set accuracy =  0.7222222222222222\n"
     ]
    }
   ],
   "source": [
    "from pyspark.ml.evaluation import MulticlassClassificationEvaluator\n",
    "\n",
    "evaluator = MulticlassClassificationEvaluator(labelCol=\"label\", predictionCol=\"prediction\",\n",
    "                                              metricName=\"accuracy\")\n",
    "\n",
    "print(\"Training set accuracy = \" , evaluator.evaluate(predictions_train))\n",
    "print(\"Test set accuracy = \" , evaluator.evaluate(predictions_test))"
   ]
  },
  {
   "cell_type": "markdown",
   "metadata": {},
   "source": [
    "### 7.2 Confusion Matrix"
   ]
  },
  {
   "cell_type": "code",
   "execution_count": 13,
   "metadata": {
    "collapsed": true
   },
   "outputs": [
    {
     "name": "stdout",
     "output_type": "stream",
     "text": [
      "+-----+---+---+\n",
      "|admit|  0|  1|\n",
      "+-----+---+---+\n",
      "|    0|  6|  4|\n",
      "|    1|  1|  7|\n",
      "+-----+---+---+\n",
      "\n"
     ]
    }
   ],
   "source": [
    "## Group by 'admit' \n",
    "cm = predictions_test.groupBy('admit').pivot('prediction', [0,1]).count().na.fill(0).orderBy('admit')\n",
    "cm.show()"
   ]
  },
  {
   "cell_type": "code",
   "execution_count": 15,
   "metadata": {},
   "outputs": [
    {
     "data": {
      "text/plain": [
       "[]"
      ]
     },
     "execution_count": 15,
     "metadata": {},
     "output_type": "execute_result"
    },
    {
     "data": {
      "image/png": "[encoded data removed]",
      "text/plain": [
       "<Figure size 432x288 with 2 Axes>"
      ]
     },
     "metadata": {},
     "output_type": "display_data"
    }
   ],
   "source": [
    "import seaborn as sns\n",
    "\n",
    "cm_pd = cm.toPandas()\n",
    "cm_pd.set_index(\"admit\", inplace=True)\n",
    "# print(cm_pd)\n",
    "\n",
    "# colormaps : cmap=\"YlGnBu\" , cmap=\"Greens\", cmap=\"Blues\",  cmap=\"Reds\"\n",
    "sns.heatmap(cm_pd, annot=True, fmt=',', cmap=\"Blues\").plot()"
   ]
  },
  {
   "cell_type": "markdown",
   "metadata": {},
   "source": [
    "## Step 8: Do a Few Runs\n",
    "- Click 'Cell --> Run All'\n",
    "- Observe how the 'accuracy' output changes above\n",
    "- Why?  Can we get the same accuracy all the times?\n",
    "\n",
    "To get 'consistant' split for testing and random data you can set the seed variable\n",
    "\n",
    "```python\n",
    "(training, test) =  feature_vector.randomSplit([0.7,   0.3], seed=123)\n",
    "```"
   ]
  }
 ],
 "metadata": {
  "anaconda-cloud": {},
  "kernelspec": {
   "display_name": "Python 3",
   "language": "python",
   "name": "python3"
  },
  "language_info": {
   "codemirror_mode": {
    "name": "ipython",
    "version": 3
   },
   "file_extension": ".py",
   "mimetype": "text/x-python",
   "name": "python",
   "nbconvert_exporter": "python",
   "pygments_lexer": "ipython3",
   "version": "3.6.6"
  }
 },
 "nbformat": 4,
 "nbformat_minor": 2
}
