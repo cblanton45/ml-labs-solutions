{
 "cells": [
  {
   "cell_type": "markdown",
   "metadata": {},
   "source": [
    "# Feature Engineering: Presidential Contributions\n",
    "\n",
    "Let's clean up the presidential contributions dataset by feature engineering."
   ]
  },
  {
   "cell_type": "code",
   "execution_count": 1,
   "metadata": {},
   "outputs": [
    {
     "name": "stdout",
     "output_type": "stream",
     "text": [
      "Initializing Spark...\n",
      "Spark found in :  /Users/sujee/spark\n",
      "Spark config:\n",
      "\t spark.app.name=TestApp\n",
      "\tspark.master=local[*]\n",
      "\texecutor.memory=2g\n",
      "\tspark.sql.warehouse.dir=/var/folders/lp/qm_skljd2hl4xtps5vw0tdgm0000gn/T/tmp8wckefoa\n",
      "\tsome_property=some_value\n",
      "Spark UI running on port 4040\n"
     ]
    },
    {
     "data": {
      "text/html": [
       "\n",
       "            <div>\n",
       "                <p><b>SparkSession - in-memory</b></p>\n",
       "                \n",
       "        <div>\n",
       "            <p><b>SparkContext</b></p>\n",
       "\n",
       "            <p><a href=\"http://localhost:4040\">Spark UI</a></p>\n",
       "\n",
       "            <dl>\n",
       "              <dt>Version</dt>\n",
       "                <dd><code>v2.3.0</code></dd>\n",
       "              <dt>Master</dt>\n",
       "                <dd><code>local[*]</code></dd>\n",
       "              <dt>AppName</dt>\n",
       "                <dd><code>TestApp</code></dd>\n",
       "            </dl>\n",
       "        </div>\n",
       "        \n",
       "            </div>\n",
       "        "
      ],
      "text/plain": [
       "<pyspark.sql.session.SparkSession at 0x10d22afd0>"
      ]
     },
     "execution_count": 1,
     "metadata": {},
     "output_type": "execute_result"
    }
   ],
   "source": [
    "# initialize Spark Session\n",
    "import os\n",
    "import sys\n",
    "top_dir = os.path.abspath(os.path.join(os.getcwd(), \"../\"))\n",
    "if top_dir not in sys.path:\n",
    "    sys.path.append(top_dir)\n",
    "\n",
    "from init_spark import init_spark\n",
    "spark = init_spark()\n",
    "spark"
   ]
  },
  {
   "cell_type": "code",
   "execution_count": 2,
   "metadata": {},
   "outputs": [],
   "source": [
    "%matplotlib inline\n",
    "import time\n",
    "from pyspark.sql.functions import isnan, when, count, col, split, trim, countDistinct, abs \n",
    "from pyspark.sql.types import IntegerType\n",
    "import pyspark.sql.functions"
   ]
  },
  {
   "cell_type": "markdown",
   "metadata": {},
   "source": [
    "## About the data\n",
    "In US contributions to elections are public record published by Federal Election Commission (FEC).   \n",
    "Here we have a sample of 10k for 2016 contributions.  \n",
    "\n",
    "Optionally, To download the full dataset, you can execute the **download-data.sh**"
   ]
  },
  {
   "cell_type": "markdown",
   "metadata": {},
   "source": [
    "## Step 1: Load the data"
   ]
  },
  {
   "cell_type": "code",
   "execution_count": 3,
   "metadata": {},
   "outputs": [
    {
     "name": "stdout",
     "output_type": "stream",
     "text": [
      "read 100,000 records in 3,785.15 ms\n",
      "CPU times: user 3.71 ms, sys: 2.19 ms, total: 5.9 ms\n",
      "Wall time: 4.73 s\n"
     ]
    }
   ],
   "source": [
    "%%time\n",
    "t1 = time.perf_counter()\n",
    "#Load presidential contrib data\n",
    "contribs = spark.read.csv(\"/data/presidential_election_contribs/2016/2016-100k.csv.gz\",\\\n",
    "                          header=True, inferSchema=True)\n",
    "t2 = time.perf_counter()\n",
    "print(\"read {:,} records in {:,.2f} ms\".format(contribs.count(), (t2-t1)*1000))\n",
    "\n"
   ]
  },
  {
   "cell_type": "code",
   "execution_count": 16,
   "metadata": {},
   "outputs": [
    {
     "name": "stdout",
     "output_type": "stream",
     "text": [
      "root\n",
      " |-- CMTE_ID: string (nullable = true)\n",
      " |-- CAND_ID: string (nullable = true)\n",
      " |-- CAND_NM: string (nullable = true)\n",
      " |-- CONTBR_NM: string (nullable = true)\n",
      " |-- CONTBR_CITY: string (nullable = true)\n",
      " |-- CONTBR_ST: string (nullable = true)\n",
      " |-- CONTBR_ZIP: string (nullable = true)\n",
      " |-- CONTBR_EMPLOYER: string (nullable = true)\n",
      " |-- CONTBR_OCCUPATION: string (nullable = true)\n",
      " |-- CONTB_RECEIPT_AMT: double (nullable = true)\n",
      " |-- CONTB_RECEIPT_DT: string (nullable = true)\n",
      " |-- RECEIPT_DESC: string (nullable = true)\n",
      " |-- MEMO_CD: string (nullable = true)\n",
      " |-- MEMO_TEXT: string (nullable = true)\n",
      " |-- FORM_TP: string (nullable = true)\n",
      " |-- FILE_NUM: integer (nullable = true)\n",
      " |-- TRAN_ID: string (nullable = true)\n",
      " |-- ELECTION_TP: string (nullable = true)\n",
      "\n",
      "count  100000\n"
     ]
    },
    {
     "data": {
      "text/html": [
       "<div>\n",
       "<style scoped>\n",
       "    .dataframe tbody tr th:only-of-type {\n",
       "        vertical-align: middle;\n",
       "    }\n",
       "\n",
       "    .dataframe tbody tr th {\n",
       "        vertical-align: top;\n",
       "    }\n",
       "\n",
       "    .dataframe thead th {\n",
       "        text-align: right;\n",
       "    }\n",
       "</style>\n",
       "<table border=\"1\" class=\"dataframe\">\n",
       "  <thead>\n",
       "    <tr style=\"text-align: right;\">\n",
       "      <th></th>\n",
       "      <th>CMTE_ID</th>\n",
       "      <th>CAND_ID</th>\n",
       "      <th>CAND_NM</th>\n",
       "      <th>CONTBR_NM</th>\n",
       "      <th>CONTBR_CITY</th>\n",
       "      <th>CONTBR_ST</th>\n",
       "      <th>CONTBR_ZIP</th>\n",
       "      <th>CONTBR_EMPLOYER</th>\n",
       "      <th>CONTBR_OCCUPATION</th>\n",
       "      <th>CONTB_RECEIPT_AMT</th>\n",
       "      <th>CONTB_RECEIPT_DT</th>\n",
       "      <th>RECEIPT_DESC</th>\n",
       "      <th>MEMO_CD</th>\n",
       "      <th>MEMO_TEXT</th>\n",
       "      <th>FORM_TP</th>\n",
       "      <th>FILE_NUM</th>\n",
       "      <th>TRAN_ID</th>\n",
       "      <th>ELECTION_TP</th>\n",
       "    </tr>\n",
       "  </thead>\n",
       "  <tbody>\n",
       "    <tr>\n",
       "      <th>0</th>\n",
       "      <td>C00605568</td>\n",
       "      <td>P20002671</td>\n",
       "      <td>Johnson, Gary</td>\n",
       "      <td>SMITH, PAUL</td>\n",
       "      <td>SAN DIEGO</td>\n",
       "      <td>CA</td>\n",
       "      <td>92117</td>\n",
       "      <td>SELF</td>\n",
       "      <td>RETIRED</td>\n",
       "      <td>150.00</td>\n",
       "      <td>16-SEP-16</td>\n",
       "      <td>None</td>\n",
       "      <td>None</td>\n",
       "      <td>None</td>\n",
       "      <td>SA17A</td>\n",
       "      <td>1112281</td>\n",
       "      <td>SA17A.66792</td>\n",
       "      <td>G2016</td>\n",
       "    </tr>\n",
       "    <tr>\n",
       "      <th>1</th>\n",
       "      <td>C00574624</td>\n",
       "      <td>P60006111</td>\n",
       "      <td>Cruz, Rafael Edward 'Ted'</td>\n",
       "      <td>BROWNE, THOMAS JOHN</td>\n",
       "      <td>WHITESBORO</td>\n",
       "      <td>NY</td>\n",
       "      <td>134921106</td>\n",
       "      <td>RETIRED</td>\n",
       "      <td>RETIRED</td>\n",
       "      <td>35.00</td>\n",
       "      <td>30-APR-15</td>\n",
       "      <td>None</td>\n",
       "      <td>None</td>\n",
       "      <td>None</td>\n",
       "      <td>SA17A</td>\n",
       "      <td>1024046</td>\n",
       "      <td>SA17.279055</td>\n",
       "      <td>P2016</td>\n",
       "    </tr>\n",
       "    <tr>\n",
       "      <th>2</th>\n",
       "      <td>C00580100</td>\n",
       "      <td>P80001571</td>\n",
       "      <td>Trump, Donald J.</td>\n",
       "      <td>RISENHOOVER, LINDSEY</td>\n",
       "      <td>TULSA</td>\n",
       "      <td>OK</td>\n",
       "      <td>74133</td>\n",
       "      <td>INFORMATION REQUESTED</td>\n",
       "      <td>INFORMATION REQUESTED</td>\n",
       "      <td>73.59</td>\n",
       "      <td>09-NOV-16</td>\n",
       "      <td>None</td>\n",
       "      <td>X</td>\n",
       "      <td>None</td>\n",
       "      <td>SA18</td>\n",
       "      <td>1146165</td>\n",
       "      <td>SA18.136964</td>\n",
       "      <td>G2016</td>\n",
       "    </tr>\n",
       "    <tr>\n",
       "      <th>3</th>\n",
       "      <td>C00575795</td>\n",
       "      <td>P00003392</td>\n",
       "      <td>Clinton, Hillary Rodham</td>\n",
       "      <td>RUIZ, GIULIANNA</td>\n",
       "      <td>NEW YORK</td>\n",
       "      <td>NY</td>\n",
       "      <td>100025651</td>\n",
       "      <td>TRILANTIC CAPITAL MANAGEMENT L.P.</td>\n",
       "      <td>CHIEF COMPLIANCE OFFICER &amp; COUNSEL</td>\n",
       "      <td>500.00</td>\n",
       "      <td>19-SEP-16</td>\n",
       "      <td>None</td>\n",
       "      <td>X</td>\n",
       "      <td>* HILLARY VICTORY FUND</td>\n",
       "      <td>SA18</td>\n",
       "      <td>1137625</td>\n",
       "      <td>C11919741</td>\n",
       "      <td>G2016</td>\n",
       "    </tr>\n",
       "    <tr>\n",
       "      <th>4</th>\n",
       "      <td>C00575795</td>\n",
       "      <td>P00003392</td>\n",
       "      <td>Clinton, Hillary Rodham</td>\n",
       "      <td>BRIGGS, AMY</td>\n",
       "      <td>BROOKLYN</td>\n",
       "      <td>NY</td>\n",
       "      <td>112314003</td>\n",
       "      <td>SAP, INC</td>\n",
       "      <td>PARTNER</td>\n",
       "      <td>38.00</td>\n",
       "      <td>29-JUN-16</td>\n",
       "      <td>None</td>\n",
       "      <td>None</td>\n",
       "      <td>None</td>\n",
       "      <td>SA17A</td>\n",
       "      <td>1099613</td>\n",
       "      <td>C6305101</td>\n",
       "      <td>P2016</td>\n",
       "    </tr>\n",
       "  </tbody>\n",
       "</table>\n",
       "</div>"
      ],
      "text/plain": [
       "     CMTE_ID    CAND_ID                    CAND_NM             CONTBR_NM  \\\n",
       "0  C00605568  P20002671              Johnson, Gary           SMITH, PAUL   \n",
       "1  C00574624  P60006111  Cruz, Rafael Edward 'Ted'   BROWNE, THOMAS JOHN   \n",
       "2  C00580100  P80001571           Trump, Donald J.  RISENHOOVER, LINDSEY   \n",
       "3  C00575795  P00003392    Clinton, Hillary Rodham       RUIZ, GIULIANNA   \n",
       "4  C00575795  P00003392    Clinton, Hillary Rodham           BRIGGS, AMY   \n",
       "\n",
       "  CONTBR_CITY CONTBR_ST CONTBR_ZIP                    CONTBR_EMPLOYER  \\\n",
       "0   SAN DIEGO        CA      92117                               SELF   \n",
       "1  WHITESBORO        NY  134921106                            RETIRED   \n",
       "2       TULSA        OK      74133              INFORMATION REQUESTED   \n",
       "3    NEW YORK        NY  100025651  TRILANTIC CAPITAL MANAGEMENT L.P.   \n",
       "4    BROOKLYN        NY  112314003                           SAP, INC   \n",
       "\n",
       "                    CONTBR_OCCUPATION  CONTB_RECEIPT_AMT CONTB_RECEIPT_DT  \\\n",
       "0                             RETIRED             150.00        16-SEP-16   \n",
       "1                             RETIRED              35.00        30-APR-15   \n",
       "2               INFORMATION REQUESTED              73.59        09-NOV-16   \n",
       "3  CHIEF COMPLIANCE OFFICER & COUNSEL             500.00        19-SEP-16   \n",
       "4                             PARTNER              38.00        29-JUN-16   \n",
       "\n",
       "  RECEIPT_DESC MEMO_CD               MEMO_TEXT FORM_TP  FILE_NUM      TRAN_ID  \\\n",
       "0         None    None                    None   SA17A   1112281  SA17A.66792   \n",
       "1         None    None                    None   SA17A   1024046  SA17.279055   \n",
       "2         None       X                    None    SA18   1146165  SA18.136964   \n",
       "3         None       X  * HILLARY VICTORY FUND    SA18   1137625    C11919741   \n",
       "4         None    None                    None   SA17A   1099613     C6305101   \n",
       "\n",
       "  ELECTION_TP  \n",
       "0       G2016  \n",
       "1       P2016  \n",
       "2       G2016  \n",
       "3       G2016  \n",
       "4       P2016  "
      ]
     },
     "execution_count": 16,
     "metadata": {},
     "output_type": "execute_result"
    }
   ],
   "source": [
    "\n",
    "## TODO: display all columns\n",
    "contribs.printSchema()\n",
    "\n",
    "## TODO : how many records do we have?\n",
    "print (\"count \", contribs.count())\n",
    "\n",
    "## TODO : see some sample data\n",
    "contribs.limit(5).toPandas()\n",
    "#contribs.limit(5).toPandas().T"
   ]
  },
  {
   "cell_type": "markdown",
   "metadata": {},
   "source": [
    "## Step 2 : Select fields to analyze\n"
   ]
  },
  {
   "cell_type": "code",
   "execution_count": 5,
   "metadata": {},
   "outputs": [
    {
     "name": "stdout",
     "output_type": "stream",
     "text": [
      "count  100000\n",
      "+-------------------------+-------------------------+----------------------------------+----------+-----------------+\n",
      "|CAND_NM                  |CONTBR_NM                |CONTBR_OCCUPATION                 |CONTBR_ZIP|CONTB_RECEIPT_AMT|\n",
      "+-------------------------+-------------------------+----------------------------------+----------+-----------------+\n",
      "|Johnson, Gary            |SMITH, PAUL              |RETIRED                           |92117     |150.0            |\n",
      "|Cruz, Rafael Edward 'Ted'|BROWNE, THOMAS JOHN      |RETIRED                           |134921106 |35.0             |\n",
      "|Trump, Donald J.         |RISENHOOVER, LINDSEY     |INFORMATION REQUESTED             |74133     |73.59            |\n",
      "|Clinton, Hillary Rodham  |RUIZ, GIULIANNA          |CHIEF COMPLIANCE OFFICER & COUNSEL|100025651 |500.0            |\n",
      "|Clinton, Hillary Rodham  |BRIGGS, AMY              |PARTNER                           |112314003 |38.0             |\n",
      "|Clinton, Hillary Rodham  |BLAND, EDWARD            |MANUFACTURER                      |280526251 |19.0             |\n",
      "|Rubio, Marco             |SACK, ROGER D. MR.       |RETIRED                           |922703416 |110.0            |\n",
      "|Sanders, Bernard         |CHURCH, MARY LOU LOU     |RETIRED                           |812013057 |60.0             |\n",
      "|Sanders, Bernard         |PORST, MR. DANIEL J      |PAINTER                           |600073332 |15.0             |\n",
      "|Clinton, Hillary Rodham  |SIEGFRIED, EDWARD        |NOT EMPLOYED                      |024782920 |250.0            |\n",
      "|Clinton, Hillary Rodham  |WYATT, JOAN              |DECORATOR                         |782092803 |10.0             |\n",
      "|Clinton, Hillary Rodham  |SOLLIDAY, LOUISE         |RETIRED                           |973909600 |56.3             |\n",
      "|Clinton, Hillary Rodham  |NORRIS, JO ANN           |RETIRED                           |276076505 |25.0             |\n",
      "|Sanders, Bernard         |OLSON, SARAH             |NOT EMPLOYED                      |681022923 |50.0             |\n",
      "|Clinton, Hillary Rodham  |GRIEBE, SANDRA           |TEACHER                           |481671701 |25.0             |\n",
      "|Sanders, Bernard         |NORTHRUP, ANGELA         |NURSING PROFESSOR                 |109903034 |55.96            |\n",
      "|Clinton, Hillary Rodham  |GRIFFITH, JUSTIN         |CEO                               |152021018 |25.0             |\n",
      "|Sanders, Bernard         |POMEROY, BRANDON         |PHYSICIAN                         |662061433 |58.65            |\n",
      "|Clinton, Hillary Rodham  |BROWN, THOMAS            |ASTROPHYSICIST                    |210455314 |50.0             |\n",
      "|Rubio, Marco             |NEIMETH, CLIFFORD      E.|SENIOR LAW PARTNER                |850162132 |250.0            |\n",
      "+-------------------------+-------------------------+----------------------------------+----------+-----------------+\n",
      "only showing top 20 rows\n",
      "\n"
     ]
    }
   ],
   "source": [
    "## TODO : extract the following fields\n",
    "##    - Candidate Name : 'CAND_NM\n",
    "##    - Contributor Name : 'CONTBR_NM'\n",
    "##    - Contributor Occupation : ????\n",
    "##    - COntribution Amount : ????\n",
    "##    - contribution zip code : ???\n",
    "\n",
    "contribs2 = contribs.select([ 'CAND_NM', 'CONTBR_NM', 'CONTBR_OCCUPATION', 'CONTBR_ZIP', 'CONTB_RECEIPT_AMT'])\n",
    "print(\"count \", contribs2.count())\n",
    "contribs2.show(20, False)"
   ]
  },
  {
   "cell_type": "markdown",
   "metadata": {},
   "source": [
    "## Step 3 : Register as SQL Tables"
   ]
  },
  {
   "cell_type": "code",
   "execution_count": 6,
   "metadata": {},
   "outputs": [
    {
     "data": {
      "text/plain": [
       "[Table(name='contribs', database=None, description=None, tableType='TEMPORARY', isTemporary=True),\n",
       " Table(name='contribs2', database=None, description=None, tableType='TEMPORARY', isTemporary=True)]"
      ]
     },
     "execution_count": 6,
     "metadata": {},
     "output_type": "execute_result"
    }
   ],
   "source": [
    "contribs.createOrReplaceTempView(\"contribs\")\n",
    "contribs2.createOrReplaceTempView(\"contribs2\")\n",
    "\n",
    "## list tables\n",
    "spark.catalog.listTables()"
   ]
  },
  {
   "cell_type": "markdown",
   "metadata": {},
   "source": [
    "## Step 4: Negative Contributions ??!??\n",
    "\n",
    "As a cleanup, let us check for contribution amounts less than zero, and fix if necessary."
   ]
  },
  {
   "cell_type": "code",
   "execution_count": 7,
   "metadata": {},
   "outputs": [
    {
     "name": "stdout",
     "output_type": "stream",
     "text": [
      "1388\n",
      "+-------------------------+---------------------------+-----------------+----------+-----------------+\n",
      "|CAND_NM                  |CONTBR_NM                  |CONTBR_OCCUPATION|CONTBR_ZIP|CONTB_RECEIPT_AMT|\n",
      "+-------------------------+---------------------------+-----------------+----------+-----------------+\n",
      "|Clinton, Hillary Rodham  |AZAM, MARIE                |null             |900682432 |-250.0           |\n",
      "|Trump, Donald J.         |KEARNS, AIMEE              |RETIRED          |89149     |-78.05           |\n",
      "|Carson, Benjamin S.      |AHTEN, HILDA               |null             |61554     |-500.0           |\n",
      "|Clinton, Hillary Rodham  |CHARLES, MARTHE            |null             |330253825 |-50.0            |\n",
      "|Clinton, Hillary Rodham  |LINDY, CATHY               |null             |341456344 |-500.0           |\n",
      "|Cruz, Rafael Edward 'Ted'|HOLGUIN, CHENO             |ELECTRICIAN      |98662     |-59.0            |\n",
      "|Clinton, Hillary Rodham  |HORWITZ, LAURA             |null             |631052278 |-250.0           |\n",
      "|Cruz, Rafael Edward 'Ted'|JOHNSTON, JOSEPH F. MR. JR.|RETIRED          |223143007 |-350.0           |\n",
      "|Trump, Donald J.         |SIMMONDS, HOPE             |RETIRED          |98040     |-80.0            |\n",
      "|Clinton, Hillary Rodham  |DEITCH, SANDRA             |null             |875017015 |-1000.0          |\n",
      "+-------------------------+---------------------------+-----------------+----------+-----------------+\n",
      "only showing top 10 rows\n",
      "\n",
      "+--------------------+--------------------+--------------------+----------+-----------------+\n",
      "|             CAND_NM|           CONTBR_NM|   CONTBR_OCCUPATION|CONTBR_ZIP|CONTB_RECEIPT_AMT|\n",
      "+--------------------+--------------------+--------------------+----------+-----------------+\n",
      "|Clinton, Hillary ...|         AZAM, MARIE|                null| 900682432|           -250.0|\n",
      "|    Trump, Donald J.|       KEARNS, AIMEE|             RETIRED|     89149|           -78.05|\n",
      "| Carson, Benjamin S.|        AHTEN, HILDA|                null|     61554|           -500.0|\n",
      "|Clinton, Hillary ...|     CHARLES, MARTHE|                null| 330253825|            -50.0|\n",
      "|Clinton, Hillary ...|        LINDY, CATHY|                null| 341456344|           -500.0|\n",
      "|Cruz, Rafael Edwa...|      HOLGUIN, CHENO|         ELECTRICIAN|     98662|            -59.0|\n",
      "|Clinton, Hillary ...|      HORWITZ, LAURA|                null| 631052278|           -250.0|\n",
      "|Cruz, Rafael Edwa...|JOHNSTON, JOSEPH ...|             RETIRED| 223143007|           -350.0|\n",
      "|    Trump, Donald J.|      SIMMONDS, HOPE|             RETIRED|     98040|            -80.0|\n",
      "|Clinton, Hillary ...|      DEITCH, SANDRA|                null| 875017015|          -1000.0|\n",
      "|Clinton, Hillary ...|      ANDERS, EDWARD|                null| 944014165|          -1000.0|\n",
      "|        Rubio, Marco|   EZRALOW, MARC MR.|REAL ESTATE INVES...| 913021509|          -2700.0|\n",
      "|Clinton, Hillary ...|      SACKS, MARLENE|                null| 334147962|            -25.0|\n",
      "|    Trump, Donald J.|   SHERIDAN, WILLIAM|             RETIRED|     10983|           -300.0|\n",
      "|    Trump, Donald J.|MEINARDUS, KAREN ...|            ATTORNEY|     77437|            -28.0|\n",
      "|    Sanders, Bernard|       STAHRE, GRACE|                null| 981222801|            -37.6|\n",
      "|    Sanders, Bernard|    GILBREATH, JULIA|                null| 982618661|          -217.14|\n",
      "|      Fiorina, Carly|       MOWBRAY, KYLE|                null|     77077|          -2300.0|\n",
      "|    Trump, Donald J.|       MULKEY, LORNA|                R.N.|     97703|            -20.0|\n",
      "|Clinton, Hillary ...|       RYAN, WILLIAM|                null| 106033229|            -19.0|\n",
      "+--------------------+--------------------+--------------------+----------+-----------------+\n",
      "only showing top 20 rows\n",
      "\n"
     ]
    }
   ],
   "source": [
    "# Contribution receipt less than zero?\n",
    "negative_contrib = contribs2.filter(' CONTB_RECEIPT_AMT < 0 ')\n",
    "\n",
    "## TODO : how many negative contributions do we have?\n",
    "print(negative_contrib.count())\n",
    "\n",
    "## TODO : print some sample data\n",
    "negative_contrib.show(10, False)\n",
    "\n",
    "## SQL Query\n",
    "spark.sql(\"select * from contribs2 where CONTB_RECEIPT_AMT < 0\").show()"
   ]
  },
  {
   "cell_type": "markdown",
   "metadata": {},
   "source": [
    "## Step 5 : Extract data that only has positive contribution amount"
   ]
  },
  {
   "cell_type": "code",
   "execution_count": 8,
   "metadata": {},
   "outputs": [
    {
     "name": "stdout",
     "output_type": "stream",
     "text": [
      "98608\n"
     ]
    }
   ],
   "source": [
    "## TODO : \n",
    "pos_contribs = contribs2.filter(' CONTB_RECEIPT_AMT > 0 ')\n",
    "\n",
    "print(pos_contribs.count())"
   ]
  },
  {
   "cell_type": "code",
   "execution_count": 9,
   "metadata": {},
   "outputs": [
    {
     "name": "stdout",
     "output_type": "stream",
     "text": [
      "+--------------------+--------------------+--------------------+----------+-----------------+\n",
      "|             CAND_NM|           CONTBR_NM|   CONTBR_OCCUPATION|CONTBR_ZIP|CONTB_RECEIPT_AMT|\n",
      "+--------------------+--------------------+--------------------+----------+-----------------+\n",
      "|       Johnson, Gary|         SMITH, PAUL|             RETIRED|     92117|            150.0|\n",
      "|Cruz, Rafael Edwa...| BROWNE, THOMAS JOHN|             RETIRED| 134921106|             35.0|\n",
      "|    Trump, Donald J.|RISENHOOVER, LINDSEY|INFORMATION REQUE...|     74133|            73.59|\n",
      "|Clinton, Hillary ...|     RUIZ, GIULIANNA|CHIEF COMPLIANCE ...| 100025651|            500.0|\n",
      "|Clinton, Hillary ...|         BRIGGS, AMY|             PARTNER| 112314003|             38.0|\n",
      "|Clinton, Hillary ...|       BLAND, EDWARD|        MANUFACTURER| 280526251|             19.0|\n",
      "|        Rubio, Marco|  SACK, ROGER D. MR.|             RETIRED| 922703416|            110.0|\n",
      "|    Sanders, Bernard|CHURCH, MARY LOU LOU|             RETIRED| 812013057|             60.0|\n",
      "|    Sanders, Bernard| PORST, MR. DANIEL J|             PAINTER| 600073332|             15.0|\n",
      "|Clinton, Hillary ...|   SIEGFRIED, EDWARD|        NOT EMPLOYED| 024782920|            250.0|\n",
      "|Clinton, Hillary ...|         WYATT, JOAN|           DECORATOR| 782092803|             10.0|\n",
      "|Clinton, Hillary ...|    SOLLIDAY, LOUISE|             RETIRED| 973909600|             56.3|\n",
      "|Clinton, Hillary ...|      NORRIS, JO ANN|             RETIRED| 276076505|             25.0|\n",
      "|    Sanders, Bernard|        OLSON, SARAH|        NOT EMPLOYED| 681022923|             50.0|\n",
      "|Clinton, Hillary ...|      GRIEBE, SANDRA|             TEACHER| 481671701|             25.0|\n",
      "|    Sanders, Bernard|    NORTHRUP, ANGELA|   NURSING PROFESSOR| 109903034|            55.96|\n",
      "|Clinton, Hillary ...|    GRIFFITH, JUSTIN|                 CEO| 152021018|             25.0|\n",
      "|    Sanders, Bernard|    POMEROY, BRANDON|           PHYSICIAN| 662061433|            58.65|\n",
      "|Clinton, Hillary ...|       BROWN, THOMAS|      ASTROPHYSICIST| 210455314|             50.0|\n",
      "|        Rubio, Marco|NEIMETH, CLIFFORD...|  SENIOR LAW PARTNER| 850162132|            250.0|\n",
      "+--------------------+--------------------+--------------------+----------+-----------------+\n",
      "only showing top 20 rows\n",
      "\n",
      "+--------+\n",
      "|count(1)|\n",
      "+--------+\n",
      "|   98608|\n",
      "+--------+\n",
      "\n"
     ]
    }
   ],
   "source": [
    "## TODO : in SQL\n",
    "pos_contribs2 = spark.sql(\"select * from contribs2 where CONTB_RECEIPT_AMT > 0 \")\n",
    "pos_contribs2.show()\n",
    "\n",
    "## now register this as a new table\n",
    "pos_contribs2.createOrReplaceTempView(\"pos_contribs\")\n",
    "\n",
    "spark.sql(\"select count(*) from pos_contribs\").show()"
   ]
  },
  {
   "cell_type": "markdown",
   "metadata": {},
   "source": [
    "## Step 6: Split up name into first name and last name"
   ]
  },
  {
   "cell_type": "code",
   "execution_count": 10,
   "metadata": {},
   "outputs": [
    {
     "name": "stdout",
     "output_type": "stream",
     "text": [
      "+--------------------+--------------------+--------------------+----------+-----------------+-----------+----------------+\n",
      "|             CAND_NM|           CONTBR_NM|   CONTBR_OCCUPATION|CONTBR_ZIP|CONTB_RECEIPT_AMT|   LASTNAME|       FIRSTNAME|\n",
      "+--------------------+--------------------+--------------------+----------+-----------------+-----------+----------------+\n",
      "|       Johnson, Gary|         SMITH, PAUL|             RETIRED|     92117|            150.0|      SMITH|            PAUL|\n",
      "|Cruz, Rafael Edwa...| BROWNE, THOMAS JOHN|             RETIRED| 134921106|             35.0|     BROWNE|     THOMAS JOHN|\n",
      "|    Trump, Donald J.|RISENHOOVER, LINDSEY|INFORMATION REQUE...|     74133|            73.59|RISENHOOVER|         LINDSEY|\n",
      "|Clinton, Hillary ...|     RUIZ, GIULIANNA|CHIEF COMPLIANCE ...| 100025651|            500.0|       RUIZ|       GIULIANNA|\n",
      "|Clinton, Hillary ...|         BRIGGS, AMY|             PARTNER| 112314003|             38.0|     BRIGGS|             AMY|\n",
      "|Clinton, Hillary ...|       BLAND, EDWARD|        MANUFACTURER| 280526251|             19.0|      BLAND|          EDWARD|\n",
      "|        Rubio, Marco|  SACK, ROGER D. MR.|             RETIRED| 922703416|            110.0|       SACK|    ROGER D. MR.|\n",
      "|    Sanders, Bernard|CHURCH, MARY LOU LOU|             RETIRED| 812013057|             60.0|     CHURCH|    MARY LOU LOU|\n",
      "|    Sanders, Bernard| PORST, MR. DANIEL J|             PAINTER| 600073332|             15.0|      PORST|    MR. DANIEL J|\n",
      "|Clinton, Hillary ...|   SIEGFRIED, EDWARD|        NOT EMPLOYED| 024782920|            250.0|  SIEGFRIED|          EDWARD|\n",
      "|Clinton, Hillary ...|         WYATT, JOAN|           DECORATOR| 782092803|             10.0|      WYATT|            JOAN|\n",
      "|Clinton, Hillary ...|    SOLLIDAY, LOUISE|             RETIRED| 973909600|             56.3|   SOLLIDAY|          LOUISE|\n",
      "|Clinton, Hillary ...|      NORRIS, JO ANN|             RETIRED| 276076505|             25.0|     NORRIS|          JO ANN|\n",
      "|    Sanders, Bernard|        OLSON, SARAH|        NOT EMPLOYED| 681022923|             50.0|      OLSON|           SARAH|\n",
      "|Clinton, Hillary ...|      GRIEBE, SANDRA|             TEACHER| 481671701|             25.0|     GRIEBE|          SANDRA|\n",
      "|    Sanders, Bernard|    NORTHRUP, ANGELA|   NURSING PROFESSOR| 109903034|            55.96|   NORTHRUP|          ANGELA|\n",
      "|Clinton, Hillary ...|    GRIFFITH, JUSTIN|                 CEO| 152021018|             25.0|   GRIFFITH|          JUSTIN|\n",
      "|    Sanders, Bernard|    POMEROY, BRANDON|           PHYSICIAN| 662061433|            58.65|    POMEROY|         BRANDON|\n",
      "|Clinton, Hillary ...|       BROWN, THOMAS|      ASTROPHYSICIST| 210455314|             50.0|      BROWN|          THOMAS|\n",
      "|        Rubio, Marco|NEIMETH, CLIFFORD...|  SENIOR LAW PARTNER| 850162132|            250.0|    NEIMETH|CLIFFORD      E.|\n",
      "+--------------------+--------------------+--------------------+----------+-----------------+-----------+----------------+\n",
      "only showing top 20 rows\n",
      "\n"
     ]
    }
   ],
   "source": [
    "split_col = split(contribs2['CONTBR_NM'], ',')\n",
    "first_last_name = pos_contribs.withColumn('LASTNAME', trim(split_col.getItem(0)))\n",
    "first_last_name = first_last_name.withColumn('FIRSTNAME', trim(split_col.getItem(1)))\n",
    "\n",
    "first_last_name.show()\n",
    "\n",
    "## register as sql table\n",
    "first_last_name.createOrReplaceTempView(\"contribs3\")"
   ]
  },
  {
   "cell_type": "markdown",
   "metadata": {},
   "source": [
    "## Step 7: Analyze data\n",
    "We can use Dataframe DSL language or SQL queries to perform analysis.  \n",
    "Practice both.   \n",
    "We will give you hints along the way."
   ]
  },
  {
   "cell_type": "markdown",
   "metadata": {},
   "source": [
    "### 7.1 - Count contributions per candidate"
   ]
  },
  {
   "cell_type": "code",
   "execution_count": 11,
   "metadata": {},
   "outputs": [
    {
     "name": "stdout",
     "output_type": "stream",
     "text": [
      "+--------------------+-----+\n",
      "|             CAND_NM|count|\n",
      "+--------------------+-----+\n",
      "|        Rubio, Marco| 1332|\n",
      "|      Fiorina, Carly|  378|\n",
      "|Christie, Christo...|   78|\n",
      "|       Jindal, Bobby|   11|\n",
      "|         Stein, Jill|  135|\n",
      "|Gilmore, James S III|    3|\n",
      "|    Sanders, Bernard|27427|\n",
      "|      McMullin, Evan|   39|\n",
      "|      Huckabee, Mike|   93|\n",
      "|       Walker, Scott|   95|\n",
      "|  Graham, Lindsey O.|   50|\n",
      "|O'Malley, Martin ...|   86|\n",
      "|     Kasich, John R.|  354|\n",
      "|Santorum, Richard J.|   28|\n",
      "| Carson, Benjamin S.| 3322|\n",
      "|Webb, James Henry...|    6|\n",
      "|    Lessig, Lawrence|   15|\n",
      "|          Paul, Rand|  451|\n",
      "|   Pataki, George E.|    5|\n",
      "|       Johnson, Gary|  197|\n",
      "+--------------------+-----+\n",
      "only showing top 20 rows\n",
      "\n",
      "+--------------------+--------------+--------------------+\n",
      "|             CAND_NM|total_contribs|total_contrib_amount|\n",
      "+--------------------+--------------+--------------------+\n",
      "|Clinton, Hillary ...|         46622|   5797228.599999974|\n",
      "|    Trump, Donald J.|         10213|  1693116.0099999933|\n",
      "|    Sanders, Bernard|         27427|  1294080.8999999994|\n",
      "|Cruz, Rafael Edwa...|          7278|   932522.8099999999|\n",
      "|        Rubio, Marco|          1332|            615511.2|\n",
      "|           Bush, Jeb|           376|           469010.88|\n",
      "| Carson, Benjamin S.|          3322|  419052.87999999995|\n",
      "|     Kasich, John R.|           354|            187814.5|\n",
      "|Christie, Christo...|            78|           114105.38|\n",
      "|       Walker, Scott|            95|            99619.07|\n",
      "|      Fiorina, Carly|           378|            89578.66|\n",
      "|O'Malley, Martin ...|            86|             86395.0|\n",
      "|          Paul, Rand|           451|   77365.03000000013|\n",
      "|  Graham, Lindsey O.|            50|             61751.0|\n",
      "|       Johnson, Gary|           197|            42346.29|\n",
      "|         Stein, Jill|           135|             36619.3|\n",
      "|Santorum, Richard J.|            28|  24720.989999999998|\n",
      "|      Huckabee, Mike|            93|             24169.0|\n",
      "|       Jindal, Bobby|            11|             17200.0|\n",
      "|Perry, James R. (...|            14|             15600.0|\n",
      "+--------------------+--------------+--------------------+\n",
      "only showing top 20 rows\n",
      "\n",
      "CPU times: user 4.56 ms, sys: 1.97 ms, total: 6.54 ms\n",
      "Wall time: 2.53 s\n"
     ]
    }
   ],
   "source": [
    "%%time\n",
    "\n",
    "## TODO : What is the breakdown by candidate name?\n",
    "## Hint : groupBy(\"name\").count()\n",
    "\n",
    "pos_contribs.groupBy(\"CAND_NM\").count().show()\n",
    "\n",
    "## SQL\n",
    "s=\"\"\"\n",
    "select CAND_NM, count(*) as total_contribs, \n",
    "SUM(CONTB_RECEIPT_AMT) as total_contrib_amount\n",
    "from pos_contribs\n",
    "group by CAND_NM\n",
    "order by total_contrib_amount DESC\n",
    "\"\"\"\n",
    "\n",
    "spark.sql(s).show()"
   ]
  },
  {
   "cell_type": "markdown",
   "metadata": {},
   "source": [
    "### 7.2 - Calculate AVG, MIN, MAX contributions per candidate\n",
    "For this we can easily use SQL"
   ]
  },
  {
   "cell_type": "code",
   "execution_count": 12,
   "metadata": {},
   "outputs": [
    {
     "name": "stdout",
     "output_type": "stream",
     "text": [
      "+-------------------------+--------------+------------------+-----------+-----------+\n",
      "|CAND_NM                  |total_contribs|avg_contrib       |max_contrib|min_contrib|\n",
      "+-------------------------+--------------+------------------+-----------+-----------+\n",
      "|Clinton, Hillary Rodham  |46622         |124.34534340011096|5000.0     |0.15       |\n",
      "|Sanders, Bernard         |27427         |47.18273599008275 |5000.0     |1.0        |\n",
      "|Trump, Donald J.         |10213         |165.78047684323835|5400.0     |0.8        |\n",
      "|Cruz, Rafael Edward 'Ted'|7278          |128.12899285517997|10800.0    |1.0        |\n",
      "|Carson, Benjamin S.      |3322          |126.14475617098132|10000.0    |0.89       |\n",
      "|Rubio, Marco             |1332          |462.09549549549547|10000.0    |3.0        |\n",
      "|Paul, Rand               |451           |171.54108647450138|2700.0     |1.0        |\n",
      "|Fiorina, Carly           |378           |236.98058201058203|3000.0     |3.0        |\n",
      "|Bush, Jeb                |376           |1247.3693617021277|5400.0     |1.0        |\n",
      "|Kasich, John R.          |354           |530.5494350282486 |2700.0     |10.0       |\n",
      "|Johnson, Gary            |197           |214.95578680203047|2700.0     |1.0        |\n",
      "|Stein, Jill              |135           |271.2540740740741 |2700.0     |10.0       |\n",
      "|Walker, Scott            |95            |1048.6217894736842|5400.0     |1.07       |\n",
      "|Huckabee, Mike           |93            |259.8817204301075 |2700.0     |1.0        |\n",
      "|O'Malley, Martin Joseph  |86            |1004.5930232558139|5400.0     |5.0        |\n",
      "|Christie, Christopher J. |78            |1462.8894871794873|2700.0     |25.0       |\n",
      "|Graham, Lindsey O.       |50            |1235.02           |5400.0     |25.0       |\n",
      "|McMullin, Evan           |39            |192.37179487179486|1500.0     |5.0        |\n",
      "|Santorum, Richard J.     |28            |882.8924999999999 |5400.0     |25.0       |\n",
      "|Lessig, Lawrence         |15            |500.3433333333333 |2700.0     |5.0        |\n",
      "+-------------------------+--------------+------------------+-----------+-----------+\n",
      "only showing top 20 rows\n",
      "\n",
      "CPU times: user 1.61 ms, sys: 1.48 ms, total: 3.09 ms\n",
      "Wall time: 1.24 s\n"
     ]
    }
   ],
   "source": [
    "%%time \n",
    "\n",
    "s=\"\"\"\n",
    "select CAND_NM, \n",
    "count(*) as total_contribs,\n",
    "AVG(CONTB_RECEIPT_AMT)  as avg_contrib , \n",
    "MAX(CONTB_RECEIPT_AMT) as max_contrib, \n",
    "MIN(CONTB_RECEIPT_AMT) as min_contrib \n",
    "from pos_contribs\n",
    "group by CAND_NM \n",
    "order by total_contribs desc, avg_contrib  DESC\n",
    "\"\"\"\n",
    "\n",
    "\n",
    "avg_per_candidate = spark.sql(s)\n",
    "avg_per_candidate.show(20, False)"
   ]
  },
  {
   "cell_type": "markdown",
   "metadata": {},
   "source": [
    "### 7.3 - Calculate AVG contribution by Occupation\n",
    "If you are political consultants, which people you might try to solicit money?"
   ]
  },
  {
   "cell_type": "code",
   "execution_count": 13,
   "metadata": {
    "collapsed": true
   },
   "outputs": [],
   "source": [
    "## TODO \n",
    "#avg_per_occupation = spark.sql(\"\")"
   ]
  },
  {
   "cell_type": "markdown",
   "metadata": {},
   "source": [
    "### 7.4 - Find Zipcodes that give more money"
   ]
  },
  {
   "cell_type": "code",
   "execution_count": 14,
   "metadata": {},
   "outputs": [
    {
     "name": "stdout",
     "output_type": "stream",
     "text": [
      "+-----+------------------+---+\n",
      "|  zip|      avg_contribs|cnt|\n",
      "+-----+------------------+---+\n",
      "|29641|            5400.0|  1|\n",
      "|84133|            5400.0|  1|\n",
      "|32340|            5400.0|  1|\n",
      "|80544|            5000.0|  1|\n",
      "|76437|2783.3333333333335|  3|\n",
      "|21057|2733.3333333333335|  3|\n",
      "|98464|            2725.0|  2|\n",
      "|36502|            2712.5|  2|\n",
      "|75935|2708.3333333333335|  3|\n",
      "|45883|            2700.0|  1|\n",
      "|79901|            2700.0|  1|\n",
      "|91522|            2700.0|  1|\n",
      "|60075|            2700.0|  1|\n",
      "|23218|            2700.0|  1|\n",
      "|22106|            2700.0|  1|\n",
      "|48120|            2700.0|  1|\n",
      "|27114|            2700.0|  1|\n",
      "|34266|            2700.0|  1|\n",
      "|07417|            2700.0|  1|\n",
      "|15331|            2700.0|  1|\n",
      "+-----+------------------+---+\n",
      "only showing top 20 rows\n",
      "\n",
      "CPU times: user 1.22 ms, sys: 1.15 ms, total: 2.37 ms\n",
      "Wall time: 1.32 s\n"
     ]
    }
   ],
   "source": [
    "%%time \n",
    "\n",
    "s=\"\"\"\n",
    "select  substring(CONTBR_ZIP, 0, 5) as zip, AVG(CONTB_RECEIPT_AMT) as avg_contribs, COUNT(*) as cnt  \n",
    "from pos_contribs \n",
    "group by zip \n",
    "-- having cnt > 10\n",
    "order by avg_contribs DESC\n",
    "\"\"\"\n",
    "\n",
    "spark.sql(s).show()"
   ]
  },
  {
   "cell_type": "markdown",
   "metadata": {},
   "source": [
    "## Class Discussion\n",
    "Now that we have done some feature engineering, waht other attributes we can extract and analyze?"
   ]
  }
 ],
 "metadata": {
  "anaconda-cloud": {},
  "kernelspec": {
   "display_name": "Python 3",
   "language": "python",
   "name": "python3"
  },
  "language_info": {
   "codemirror_mode": {
    "name": "ipython",
    "version": 3
   },
   "file_extension": ".py",
   "mimetype": "text/x-python",
   "name": "python",
   "nbconvert_exporter": "python",
   "pygments_lexer": "ipython3",
   "version": "3.6.6"
  }
 },
 "nbformat": 4,
 "nbformat_minor": 2
}
