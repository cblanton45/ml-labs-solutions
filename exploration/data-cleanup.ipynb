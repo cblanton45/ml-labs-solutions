{
 "cells": [
  {
   "cell_type": "markdown",
   "metadata": {},
   "source": [
    "# Dealing with unclean data\n",
    "\n",
    "We're going to look at data that may require some cleansing."
   ]
  },
  {
   "cell_type": "code",
   "execution_count": 1,
   "metadata": {
    "collapsed": true
   },
   "outputs": [
    {
     "name": "stdout",
     "output_type": "stream",
     "text": [
      "Initializing Spark...\n",
      "Spark found in :  /Users/sujee/spark\n",
      "Spark config:\n",
      "\t spark.app.name=TestApp\n",
      "\tspark.master=local[*]\n",
      "\texecutor.memory=2g\n",
      "\tspark.sql.warehouse.dir=/var/folders/lp/qm_skljd2hl4xtps5vw0tdgm0000gn/T/tmpd544opvp\n",
      "\tsome_property=some_value\n",
      "Spark UI running on port 4040\n"
     ]
    },
    {
     "data": {
      "text/html": [
       "\n",
       "            <div>\n",
       "                <p><b>SparkSession - in-memory</b></p>\n",
       "                \n",
       "        <div>\n",
       "            <p><b>SparkContext</b></p>\n",
       "\n",
       "            <p><a href=\"http://localhost:4040\">Spark UI</a></p>\n",
       "\n",
       "            <dl>\n",
       "              <dt>Version</dt>\n",
       "                <dd><code>v2.3.0</code></dd>\n",
       "              <dt>Master</dt>\n",
       "                <dd><code>local[*]</code></dd>\n",
       "              <dt>AppName</dt>\n",
       "                <dd><code>TestApp</code></dd>\n",
       "            </dl>\n",
       "        </div>\n",
       "        \n",
       "            </div>\n",
       "        "
      ],
      "text/plain": [
       "<pyspark.sql.session.SparkSession at 0x10ab7afd0>"
      ]
     },
     "execution_count": 1,
     "metadata": {},
     "output_type": "execute_result"
    }
   ],
   "source": [
    "# initialize Spark Session\n",
    "import os\n",
    "import sys\n",
    "top_dir = os.path.abspath(os.path.join(os.getcwd(), \"../\"))\n",
    "if top_dir not in sys.path:\n",
    "    sys.path.append(top_dir)\n",
    "\n",
    "from init_spark import init_spark\n",
    "spark = init_spark()\n",
    "spark"
   ]
  },
  {
   "cell_type": "markdown",
   "metadata": {},
   "source": [
    "## Step 1: Read the admissions data that is not so clean"
   ]
  },
  {
   "cell_type": "code",
   "execution_count": 2,
   "metadata": {
    "collapsed": true
   },
   "outputs": [
    {
     "name": "stdout",
     "output_type": "stream",
     "text": [
      "count  20\n"
     ]
    }
   ],
   "source": [
    "admissions = spark.read.csv(\"/data/college-admissions/admission-data-dirty.csv\", \\\n",
    "                            header=True, inferSchema=True)\n",
    "print(\"count \", admissions.count())\n"
   ]
  },
  {
   "cell_type": "markdown",
   "metadata": {},
   "source": [
    "## Step 2: Print out the schema and see the data"
   ]
  },
  {
   "cell_type": "code",
   "execution_count": 3,
   "metadata": {
    "collapsed": true
   },
   "outputs": [
    {
     "name": "stdout",
     "output_type": "stream",
     "text": [
      "root\n",
      " |-- admit: integer (nullable = true)\n",
      " |-- gre: integer (nullable = true)\n",
      " |-- gpa: double (nullable = true)\n",
      " |-- rank: string (nullable = true)\n",
      "\n",
      "+-----+----+----+----+\n",
      "|admit| gre| gpa|rank|\n",
      "+-----+----+----+----+\n",
      "|    1| 400|3.23|   4|\n",
      "|    1| 700|3.56|   1|\n",
      "|    1| 800| 4.0|   2|\n",
      "|    0| 500|3.53|   4|\n",
      "|    0| 560|3.78|   2|\n",
      "|    0|null|3.35|null|\n",
      "|    1| 520|null|   3|\n",
      "|    0| 440|3.17|   2|\n",
      "|    1| 760| 3.0|   2|\n",
      "| null| 600|2.82|   4|\n",
      "|    1| 500| 3.6|   3|\n",
      "|    0| 500|3.95|   4|\n",
      "| null| 680|3.27|   2|\n",
      "|    1| 560|3.59|   2|\n",
      "|    0| 700|3.65|   2|\n",
      "|    0| 520|2.98|   2|\n",
      "|    0| 700|3.92|   2|\n",
      "|    1| 620| 4.0|   x|\n",
      "|    0| 640|3.51|   2|\n",
      "|    1| 600|3.58|   1|\n",
      "+-----+----+----+----+\n",
      "\n"
     ]
    }
   ],
   "source": [
    "admissions.printSchema()\n",
    "admissions.show(20)"
   ]
  },
  {
   "cell_type": "markdown",
   "metadata": {},
   "source": [
    "## Step 3: Get Summary\n",
    "See what we get.  It will skip null values"
   ]
  },
  {
   "cell_type": "code",
   "execution_count": 4,
   "metadata": {
    "collapsed": true
   },
   "outputs": [
    {
     "name": "stdout",
     "output_type": "stream",
     "text": [
      "+-------+------------------+-----------------+------------------+------------------+\n",
      "|summary|             admit|              gre|               gpa|              rank|\n",
      "+-------+------------------+-----------------+------------------+------------------+\n",
      "|  count|                18|               19|                19|                19|\n",
      "|   mean|               0.5|594.7368421052631| 3.499473684210527|2.4444444444444446|\n",
      "| stddev|0.5144957554275265| 109.309368361984|0.3534665422514952|0.9835244081556432|\n",
      "|    min|                 0|              400|              2.82|                 1|\n",
      "|    max|                 1|              800|               4.0|                 x|\n",
      "+-------+------------------+-----------------+------------------+------------------+\n",
      "\n"
     ]
    }
   ],
   "source": [
    "admissions.describe().show()"
   ]
  },
  {
   "cell_type": "code",
   "execution_count": 5,
   "metadata": {
    "collapsed": true
   },
   "outputs": [
    {
     "name": "stdout",
     "output_type": "stream",
     "text": [
      "+-------+-----------------+\n",
      "|summary|              gre|\n",
      "+-------+-----------------+\n",
      "|  count|               19|\n",
      "|   mean|594.7368421052631|\n",
      "| stddev| 109.309368361984|\n",
      "|    min|              400|\n",
      "|    max|              800|\n",
      "+-------+-----------------+\n",
      "\n"
     ]
    }
   ],
   "source": [
    "## Describe one column\n",
    "admissions.describe(['gre']).show()"
   ]
  },
  {
   "cell_type": "code",
   "execution_count": 6,
   "metadata": {
    "collapsed": true
   },
   "outputs": [
    {
     "name": "stdout",
     "output_type": "stream",
     "text": [
      "+-------+-----------------+------------------+\n",
      "|summary|              gre|               gpa|\n",
      "+-------+-----------------+------------------+\n",
      "|  count|               19|                19|\n",
      "|   mean|594.7368421052631| 3.499473684210527|\n",
      "| stddev| 109.309368361984|0.3534665422514952|\n",
      "|    min|              400|              2.82|\n",
      "|    max|              800|               4.0|\n",
      "+-------+-----------------+------------------+\n",
      "\n"
     ]
    }
   ],
   "source": [
    "## TODO : Describe more than one column : gre and gpa\n",
    "## Hint : add 'gpa' column\n",
    "admissions.describe(['gre', 'gpa']).show()"
   ]
  },
  {
   "cell_type": "markdown",
   "metadata": {},
   "source": [
    "## Step 4: Drop all null values"
   ]
  },
  {
   "cell_type": "code",
   "execution_count": 7,
   "metadata": {
    "collapsed": true
   },
   "outputs": [
    {
     "name": "stdout",
     "output_type": "stream",
     "text": [
      "raw data count  20\n",
      "after drop count  16\n",
      "+-----+---+----+----+\n",
      "|admit|gre| gpa|rank|\n",
      "+-----+---+----+----+\n",
      "|    1|400|3.23|   4|\n",
      "|    1|700|3.56|   1|\n",
      "|    1|800| 4.0|   2|\n",
      "|    0|500|3.53|   4|\n",
      "|    0|560|3.78|   2|\n",
      "|    0|440|3.17|   2|\n",
      "|    1|760| 3.0|   2|\n",
      "|    1|500| 3.6|   3|\n",
      "|    0|500|3.95|   4|\n",
      "|    1|560|3.59|   2|\n",
      "|    0|700|3.65|   2|\n",
      "|    0|520|2.98|   2|\n",
      "|    0|700|3.92|   2|\n",
      "|    1|620| 4.0|   x|\n",
      "|    0|640|3.51|   2|\n",
      "|    1|600|3.58|   1|\n",
      "+-----+---+----+----+\n",
      "\n"
     ]
    }
   ],
   "source": [
    "print(\"raw data count \", admissions.count())\n",
    "dropped_na = admissions.na.drop()\n",
    "print(\"after drop count \", dropped_na.count())\n",
    "dropped_na.show()\n"
   ]
  },
  {
   "cell_type": "code",
   "execution_count": 8,
   "metadata": {
    "collapsed": true
   },
   "outputs": [
    {
     "name": "stdout",
     "output_type": "stream",
     "text": [
      "raw data count  20\n",
      "after drop count  17\n",
      "+-----+---+----+----+\n",
      "|admit|gre| gpa|rank|\n",
      "+-----+---+----+----+\n",
      "|    1|400|3.23|   4|\n",
      "|    1|700|3.56|   1|\n",
      "|    1|800| 4.0|   2|\n",
      "|    0|500|3.53|   4|\n",
      "|    0|560|3.78|   2|\n",
      "|    1|520|null|   3|\n",
      "|    0|440|3.17|   2|\n",
      "|    1|760| 3.0|   2|\n",
      "|    1|500| 3.6|   3|\n",
      "|    0|500|3.95|   4|\n",
      "|    1|560|3.59|   2|\n",
      "|    0|700|3.65|   2|\n",
      "|    0|520|2.98|   2|\n",
      "|    0|700|3.92|   2|\n",
      "|    1|620| 4.0|   x|\n",
      "|    0|640|3.51|   2|\n",
      "|    1|600|3.58|   1|\n",
      "+-----+---+----+----+\n",
      "\n"
     ]
    }
   ],
   "source": [
    "# only drop nulls from admit & gre column\n",
    "print(\"raw data count \", admissions.count())\n",
    "dropped2 = admissions.na.drop(subset=['admit', 'gre'])\n",
    "print(\"after drop count \", dropped2.count())\n",
    "dropped2.show()"
   ]
  },
  {
   "cell_type": "markdown",
   "metadata": {},
   "source": [
    "## Step 5: Fill in the values"
   ]
  },
  {
   "cell_type": "code",
   "execution_count": 9,
   "metadata": {
    "collapsed": true
   },
   "outputs": [
    {
     "name": "stdout",
     "output_type": "stream",
     "text": [
      "+-----+---+----+----+\n",
      "|admit|gre| gpa|rank|\n",
      "+-----+---+----+----+\n",
      "|    1|400|3.23|   4|\n",
      "|    1|700|3.56|   1|\n",
      "|    1|800| 4.0|   2|\n",
      "|    0|500|3.53|   4|\n",
      "|    0|560|3.78|   2|\n",
      "|    0|  0|3.35|null|\n",
      "|    1|520| 0.0|   3|\n",
      "|    0|440|3.17|   2|\n",
      "|    1|760| 3.0|   2|\n",
      "|    0|600|2.82|   4|\n",
      "|    1|500| 3.6|   3|\n",
      "|    0|500|3.95|   4|\n",
      "|    0|680|3.27|   2|\n",
      "|    1|560|3.59|   2|\n",
      "|    0|700|3.65|   2|\n",
      "|    0|520|2.98|   2|\n",
      "|    0|700|3.92|   2|\n",
      "|    1|620| 4.0|   x|\n",
      "|    0|640|3.51|   2|\n",
      "|    1|600|3.58|   1|\n",
      "+-----+---+----+----+\n",
      "\n"
     ]
    }
   ],
   "source": [
    "# fill every thing with zero\n",
    "zero_fill = admissions.na.fill(0)\n",
    "zero_fill.show()\n"
   ]
  },
  {
   "cell_type": "code",
   "execution_count": 10,
   "metadata": {
    "collapsed": true
   },
   "outputs": [
    {
     "name": "stdout",
     "output_type": "stream",
     "text": [
      "+-----+----+----+----+\n",
      "|admit| gre| gpa|rank|\n",
      "+-----+----+----+----+\n",
      "|    1| 400|3.23|   4|\n",
      "|    1| 700|3.56|   1|\n",
      "|    1| 800| 4.0|   2|\n",
      "|    0| 500|3.53|   4|\n",
      "|    0| 560|3.78|   2|\n",
      "|    0|-100|3.35|  10|\n",
      "|    1| 520|-1.0|   3|\n",
      "|    0| 440|3.17|   2|\n",
      "|    1| 760| 3.0|   2|\n",
      "|    2| 600|2.82|   4|\n",
      "|    1| 500| 3.6|   3|\n",
      "|    0| 500|3.95|   4|\n",
      "|    2| 680|3.27|   2|\n",
      "|    1| 560|3.59|   2|\n",
      "|    0| 700|3.65|   2|\n",
      "|    0| 520|2.98|   2|\n",
      "|    0| 700|3.92|   2|\n",
      "|    1| 620| 4.0|   x|\n",
      "|    0| 640|3.51|   2|\n",
      "|    1| 600|3.58|   1|\n",
      "+-----+----+----+----+\n",
      "\n"
     ]
    }
   ],
   "source": [
    "# or we can specify per column default value\n",
    "## TODO : specify different default values per column\n",
    "##        default value for gre = -100\n",
    "fill2 = admissions.na.fill({'admit': 2, 'gre': -100 , 'gpa':-1, 'rank':10})\n",
    "fill2.show()"
   ]
  },
  {
   "cell_type": "markdown",
   "metadata": {},
   "source": [
    "## Step 6: Replace values"
   ]
  },
  {
   "cell_type": "code",
   "execution_count": 11,
   "metadata": {
    "collapsed": true
   },
   "outputs": [
    {
     "name": "stdout",
     "output_type": "stream",
     "text": [
      "+-----+----+----+----+\n",
      "|admit| gre| gpa|rank|\n",
      "+-----+----+----+----+\n",
      "|    1| 400|3.23|   4|\n",
      "|    1| 700|3.56|   1|\n",
      "|    1|1000| 4.0|   2|\n",
      "|    0| 500|3.53|   4|\n",
      "|    0| 560|3.78|   2|\n",
      "|    0|null|3.35|null|\n",
      "|    1| 520|null|   3|\n",
      "|    0| 440|3.17|   2|\n",
      "|    1| 760| 3.0|   2|\n",
      "| null| 600|2.82|   4|\n",
      "|    1| 500| 3.6|   3|\n",
      "|    0| 500|3.95|   4|\n",
      "| null| 680|3.27|   2|\n",
      "|    1| 560|3.59|   2|\n",
      "|    0| 700|3.65|   2|\n",
      "|    0| 520|2.98|   2|\n",
      "|    0| 700|3.92|   2|\n",
      "|    1| 620| 4.0|   x|\n",
      "|    0| 640|3.51|   2|\n",
      "|    1| 600|3.58|   1|\n",
      "+-----+----+----+----+\n",
      "\n"
     ]
    }
   ],
   "source": [
    "# replace all 800 gre into 1000\n",
    "admissions.na.replace(800, 1000, ['gre']).show()"
   ]
  },
  {
   "cell_type": "code",
   "execution_count": 12,
   "metadata": {
    "collapsed": true
   },
   "outputs": [
    {
     "name": "stdout",
     "output_type": "stream",
     "text": [
      "+-----+----+----+----+\n",
      "|admit| gre| gpa|rank|\n",
      "+-----+----+----+----+\n",
      "|    1| 400|3.23|   4|\n",
      "|    1| 700|3.56|   1|\n",
      "|    1| 800| 4.0|   2|\n",
      "|    0| 500|3.53|   4|\n",
      "|    0| 560|3.78|   2|\n",
      "|    0|null|3.35|null|\n",
      "|    1| 520|null|   3|\n",
      "|    0| 440|3.17|   2|\n",
      "|    1| 760| 3.0|   2|\n",
      "| null| 600|2.82|   4|\n",
      "|    1| 500| 3.6|   3|\n",
      "|    0| 500|3.95|   4|\n",
      "| null| 680|3.27|   2|\n",
      "|    1| 560|3.59|   2|\n",
      "|    0| 700|3.65|   2|\n",
      "|    0| 520|2.98|   2|\n",
      "|    0| 700|3.92|   2|\n",
      "|    1| 620| 4.0|   x|\n",
      "|    0| 640|3.51|   2|\n",
      "|    1| 600|3.58|   1|\n",
      "+-----+----+----+----+\n",
      "\n"
     ]
    }
   ],
   "source": [
    "# replace all rank 4 into rank 5\n",
    "admissions.na.replace(4,5, ['rank']).show()\n",
    "\n",
    "# why is this not working?\n",
    "# Hint : print(admissions.schema)"
   ]
  },
  {
   "cell_type": "markdown",
   "metadata": {},
   "source": [
    "## Step 7: Filter out dirty data"
   ]
  },
  {
   "cell_type": "code",
   "execution_count": 13,
   "metadata": {
    "collapsed": true
   },
   "outputs": [
    {
     "name": "stdout",
     "output_type": "stream",
     "text": [
      "raw data count  20\n",
      "cleaned count  19\n",
      "+-----+---+----+----+\n",
      "|admit|gre| gpa|rank|\n",
      "+-----+---+----+----+\n",
      "|    1|400|3.23|   4|\n",
      "|    1|700|3.56|   1|\n",
      "|    1|800| 4.0|   2|\n",
      "|    0|500|3.53|   4|\n",
      "|    0|560|3.78|   2|\n",
      "|    1|520|null|   3|\n",
      "|    0|440|3.17|   2|\n",
      "|    1|760| 3.0|   2|\n",
      "| null|600|2.82|   4|\n",
      "|    1|500| 3.6|   3|\n",
      "|    0|500|3.95|   4|\n",
      "| null|680|3.27|   2|\n",
      "|    1|560|3.59|   2|\n",
      "|    0|700|3.65|   2|\n",
      "|    0|520|2.98|   2|\n",
      "|    0|700|3.92|   2|\n",
      "|    1|620| 4.0|   x|\n",
      "|    0|640|3.51|   2|\n",
      "|    1|600|3.58|   1|\n",
      "+-----+---+----+----+\n",
      "\n",
      "19\n"
     ]
    }
   ],
   "source": [
    "print(\"raw data count \", admissions.count())\n",
    "a = admissions.filter(admissions.rank.isNotNull())\n",
    "print(\"cleaned count \", a.count())\n",
    "a.show()\n",
    "print(a.count())"
   ]
  },
  {
   "cell_type": "code",
   "execution_count": 14,
   "metadata": {
    "collapsed": true
   },
   "outputs": [
    {
     "name": "stdout",
     "output_type": "stream",
     "text": [
      "raw data count  20\n",
      "clean count   18\n",
      "+-----+---+----+----+\n",
      "|admit|gre| gpa|rank|\n",
      "+-----+---+----+----+\n",
      "|    1|400|3.23|   4|\n",
      "|    1|700|3.56|   1|\n",
      "|    1|800| 4.0|   2|\n",
      "|    0|500|3.53|   4|\n",
      "|    0|560|3.78|   2|\n",
      "|    1|520|null|   3|\n",
      "|    0|440|3.17|   2|\n",
      "|    1|760| 3.0|   2|\n",
      "| null|600|2.82|   4|\n",
      "|    1|500| 3.6|   3|\n",
      "|    0|500|3.95|   4|\n",
      "| null|680|3.27|   2|\n",
      "|    1|560|3.59|   2|\n",
      "|    0|700|3.65|   2|\n",
      "|    0|520|2.98|   2|\n",
      "|    0|700|3.92|   2|\n",
      "|    0|640|3.51|   2|\n",
      "|    1|600|3.58|   1|\n",
      "+-----+---+----+----+\n",
      "\n"
     ]
    }
   ],
   "source": [
    "print(\"raw data count \", admissions.count())\n",
    "b = admissions.filter(admissions.rank.isin([1,2,3,4]))\n",
    "print(\"clean count  \", b.count())\n",
    "b.show()\n"
   ]
  }
 ],
 "metadata": {
  "kernelspec": {
   "display_name": "Python 3",
   "language": "python",
   "name": "python3"
  },
  "language_info": {
   "codemirror_mode": {
    "name": "ipython",
    "version": 3
   },
   "file_extension": ".py",
   "mimetype": "text/x-python",
   "name": "python",
   "nbconvert_exporter": "python",
   "pygments_lexer": "ipython3",
   "version": "3.6.6"
  }
 },
 "nbformat": 4,
 "nbformat_minor": 2
}
