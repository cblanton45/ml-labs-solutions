{
 "cells": [
  {
   "cell_type": "markdown",
   "metadata": {},
   "source": [
    "# Explore House Sales Data\n",
    "\n",
    "Let's explore the house sales data."
   ]
  },
  {
   "cell_type": "code",
   "execution_count": 1,
   "metadata": {},
   "outputs": [
    {
     "name": "stdout",
     "output_type": "stream",
     "text": [
      "Initializing Spark...\n",
      "Spark found in :  /Users/sujee/spark\n",
      "Spark config:\n",
      "\t spark.app.name=TestApp\n",
      "\tspark.master=local[*]\n",
      "\texecutor.memory=2g\n",
      "\tspark.sql.warehouse.dir=/var/folders/lp/qm_skljd2hl4xtps5vw0tdgm0000gn/T/tmpbq5e0ty3\n",
      "\tsome_property=some_value\n",
      "Spark UI running on port 4040\n"
     ]
    },
    {
     "data": {
      "text/html": [
       "\n",
       "            <div>\n",
       "                <p><b>SparkSession - in-memory</b></p>\n",
       "                \n",
       "        <div>\n",
       "            <p><b>SparkContext</b></p>\n",
       "\n",
       "            <p><a href=\"http://10.102.12.80:4040\">Spark UI</a></p>\n",
       "\n",
       "            <dl>\n",
       "              <dt>Version</dt>\n",
       "                <dd><code>v2.3.0</code></dd>\n",
       "              <dt>Master</dt>\n",
       "                <dd><code>local[*]</code></dd>\n",
       "              <dt>AppName</dt>\n",
       "                <dd><code>TestApp</code></dd>\n",
       "            </dl>\n",
       "        </div>\n",
       "        \n",
       "            </div>\n",
       "        "
      ],
      "text/plain": [
       "<pyspark.sql.session.SparkSession at 0x114a8cfd0>"
      ]
     },
     "execution_count": 1,
     "metadata": {},
     "output_type": "execute_result"
    }
   ],
   "source": [
    "# initialize Spark Session\n",
    "import os\n",
    "import sys\n",
    "top_dir = os.path.abspath(os.path.join(os.getcwd(), \"../\"))\n",
    "if top_dir not in sys.path:\n",
    "    sys.path.append(top_dir)\n",
    "\n",
    "from init_spark import init_spark\n",
    "spark = init_spark()\n",
    "spark"
   ]
  },
  {
   "cell_type": "code",
   "execution_count": 2,
   "metadata": {},
   "outputs": [],
   "source": [
    "import numpy as np\n",
    "import pandas as pd\n",
    "import matplotlib.pyplot as plt\n",
    "import seaborn as sns \n",
    "%matplotlib inline"
   ]
  },
  {
   "cell_type": "markdown",
   "metadata": {},
   "source": [
    "## Step 1: Read and Display data\n",
    "\n",
    "We will also start profiling out code."
   ]
  },
  {
   "cell_type": "markdown",
   "metadata": {},
   "source": [
    "#### 1.1 - Using perf_counter() for timing -- this is universal,  works on python and jupyter"
   ]
  },
  {
   "cell_type": "code",
   "execution_count": 3,
   "metadata": {},
   "outputs": [
    {
     "name": "stdout",
     "output_type": "stream",
     "text": [
      "read 27,063 records in 3,307.29 ms\n"
     ]
    }
   ],
   "source": [
    "import time\n",
    "\n",
    "t1 = time.perf_counter()\n",
    "house_prices = spark.read.csv(\"/data/house-prices/house-sales-simplified.csv\", \\\n",
    "                              header=True, inferSchema=True)\n",
    "t2 = time.perf_counter()\n",
    "print(\"read {:,} records in {:,.2f} ms\".format(house_prices.count(), (t2-t1)*1000))"
   ]
  },
  {
   "cell_type": "markdown",
   "metadata": {},
   "source": [
    "#### 1.2 - using %%time magic function -- only works in Jupyter notebook"
   ]
  },
  {
   "cell_type": "code",
   "execution_count": 4,
   "metadata": {},
   "outputs": [
    {
     "name": "stdout",
     "output_type": "stream",
     "text": [
      "CPU times: user 1.98 ms, sys: 1.67 ms, total: 3.66 ms\n",
      "Wall time: 263 ms\n"
     ]
    }
   ],
   "source": [
    "%%time\n",
    "house_prices = spark.read.csv(\"/data/house-prices/house-sales-simplified.csv\", \\\n",
    "                              header=True, inferSchema=True)"
   ]
  },
  {
   "cell_type": "code",
   "execution_count": 5,
   "metadata": {},
   "outputs": [
    {
     "name": "stdout",
     "output_type": "stream",
     "text": [
      "number of records read  27063\n"
     ]
    }
   ],
   "source": [
    "print (\"number of records read \", house_prices.count())"
   ]
  },
  {
   "cell_type": "markdown",
   "metadata": {},
   "source": [
    "## Step 2: See schema and data"
   ]
  },
  {
   "cell_type": "code",
   "execution_count": 6,
   "metadata": {},
   "outputs": [
    {
     "name": "stdout",
     "output_type": "stream",
     "text": [
      "root\n",
      " |-- ID: integer (nullable = true)\n",
      " |-- Date: string (nullable = true)\n",
      " |-- SalePrice: integer (nullable = true)\n",
      " |-- PropertyID: long (nullable = true)\n",
      " |-- PropertyType: string (nullable = true)\n",
      " |-- Bedrooms: integer (nullable = true)\n",
      " |-- Bathrooms: double (nullable = true)\n",
      " |-- SqFtTotLiving: integer (nullable = true)\n",
      " |-- SqFtLot: integer (nullable = true)\n",
      " |-- YrBuilt: integer (nullable = true)\n",
      " |-- ZipCode: integer (nullable = true)\n",
      "\n",
      "+---+-------+---------+----------+-------------+--------+---------+-------------+-------+-------+-------+\n",
      "| ID|   Date|SalePrice|PropertyID| PropertyType|Bedrooms|Bathrooms|SqFtTotLiving|SqFtLot|YrBuilt|ZipCode|\n",
      "+---+-------+---------+----------+-------------+--------+---------+-------------+-------+-------+-------+\n",
      "|  1|9/16/14|   280000|   1000102|    Multiplex|       6|      3.0|         2400|   9373|   1991|  98002|\n",
      "|  2|6/16/06|  1000000|   1200013|Single Family|       4|     3.75|         3764|  20156|   2005|  98166|\n",
      "|  3|1/29/07|   745000|   1200019|Single Family|       4|     1.75|         2060|  26036|   1947|  98166|\n",
      "|  4|2/25/08|   425000|   2800016|Single Family|       5|     3.75|         3200|   8618|   1966|  98168|\n",
      "|  5|3/29/13|   240000|   2800024|Single Family|       4|     1.75|         1720|   8620|   1948|  98168|\n",
      "|  6|3/30/09|   349900|   3600090|    Townhouse|       2|      1.5|          930|   1012|   2008|  98144|\n",
      "|  7|8/28/13|   327500|   3800004|Single Family|       3|      1.5|         1750|  34465|   1961|  98178|\n",
      "|  8|5/24/07|   347000|   3800009|Single Family|       4|     1.75|         1860|  14659|   1963|  98178|\n",
      "|  9|9/22/06|   220400|   6600055|Single Family|       2|      1.0|          990|   5324|   1930|  98032|\n",
      "| 10|8/22/06|   437500|   7200080|    Multiplex|       4|      2.0|         1980|  10585|   1924|  98055|\n",
      "+---+-------+---------+----------+-------------+--------+---------+-------------+-------+-------+-------+\n",
      "only showing top 10 rows\n",
      "\n"
     ]
    }
   ],
   "source": [
    "house_prices.printSchema()\n",
    "house_prices.show(10)"
   ]
  },
  {
   "cell_type": "markdown",
   "metadata": {},
   "source": [
    "## Step 3: 'Summary' of data"
   ]
  },
  {
   "cell_type": "code",
   "execution_count": 7,
   "metadata": {},
   "outputs": [
    {
     "name": "stdout",
     "output_type": "stream",
     "text": [
      "+-------+-----------------+------+-----------------+--------------------+------------+------------------+------------------+-----------------+------------------+------------------+-----------------+\n",
      "|summary|               ID|  Date|        SalePrice|          PropertyID|PropertyType|          Bedrooms|         Bathrooms|    SqFtTotLiving|           SqFtLot|           YrBuilt|          ZipCode|\n",
      "+-------+-----------------+------+-----------------+--------------------+------------+------------------+------------------+-----------------+------------------+------------------+-----------------+\n",
      "|  count|            27063| 27063|            27063|               27063|       27063|             27063|             27063|            27063|             27063|             27063|            27063|\n",
      "|   mean|          13532.0|  null|511626.2031186491| 4.680324882081883E9|        null|  3.38015002032295|2.2555518604737097|2122.963160033995|10997.679747256401|1977.0868713742009| 82223.0382440971|\n",
      "| stddev|7812.559503773396|  null|342821.1687621066|2.8963509791501536E9|        null|0.8954474026731043|0.7711908718098446|939.8394756826191|28110.662009221247| 30.92149089181688|36106.66555930428|\n",
      "|    min|                1|1/1/07|             3000|             1000102|   Multiplex|                 0|               0.0|              370|               494|              1900|               -1|\n",
      "|    max|            27063|9/9/14|         11000000|          9906000035|   Townhouse|                33|               8.0|            10740|           1024068|              2016|            98354|\n",
      "+-------+-----------------+------+-----------------+--------------------+------------+------------------+------------------+-----------------+------------------+------------------+-----------------+\n",
      "\n"
     ]
    }
   ],
   "source": [
    "house_prices.describe().show()\n",
    "\n",
    "## this output is hard to read. "
   ]
  },
  {
   "cell_type": "code",
   "execution_count": 8,
   "metadata": {},
   "outputs": [
    {
     "data": {
      "text/html": [
       "<div>\n",
       "<style scoped>\n",
       "    .dataframe tbody tr th:only-of-type {\n",
       "        vertical-align: middle;\n",
       "    }\n",
       "\n",
       "    .dataframe tbody tr th {\n",
       "        vertical-align: top;\n",
       "    }\n",
       "\n",
       "    .dataframe thead th {\n",
       "        text-align: right;\n",
       "    }\n",
       "</style>\n",
       "<table border=\"1\" class=\"dataframe\">\n",
       "  <thead>\n",
       "    <tr style=\"text-align: right;\">\n",
       "      <th></th>\n",
       "      <th>summary</th>\n",
       "      <th>ID</th>\n",
       "      <th>Date</th>\n",
       "      <th>SalePrice</th>\n",
       "      <th>PropertyID</th>\n",
       "      <th>PropertyType</th>\n",
       "      <th>Bedrooms</th>\n",
       "      <th>Bathrooms</th>\n",
       "      <th>SqFtTotLiving</th>\n",
       "      <th>SqFtLot</th>\n",
       "      <th>YrBuilt</th>\n",
       "      <th>ZipCode</th>\n",
       "    </tr>\n",
       "  </thead>\n",
       "  <tbody>\n",
       "    <tr>\n",
       "      <th>0</th>\n",
       "      <td>count</td>\n",
       "      <td>27063</td>\n",
       "      <td>27063</td>\n",
       "      <td>27063</td>\n",
       "      <td>27063</td>\n",
       "      <td>27063</td>\n",
       "      <td>27063</td>\n",
       "      <td>27063</td>\n",
       "      <td>27063</td>\n",
       "      <td>27063</td>\n",
       "      <td>27063</td>\n",
       "      <td>27063</td>\n",
       "    </tr>\n",
       "    <tr>\n",
       "      <th>1</th>\n",
       "      <td>mean</td>\n",
       "      <td>13532.0</td>\n",
       "      <td>None</td>\n",
       "      <td>511626.2031186491</td>\n",
       "      <td>4.680324882081883E9</td>\n",
       "      <td>None</td>\n",
       "      <td>3.38015002032295</td>\n",
       "      <td>2.2555518604737097</td>\n",
       "      <td>2122.963160033995</td>\n",
       "      <td>10997.679747256401</td>\n",
       "      <td>1977.0868713742009</td>\n",
       "      <td>82223.0382440971</td>\n",
       "    </tr>\n",
       "    <tr>\n",
       "      <th>2</th>\n",
       "      <td>stddev</td>\n",
       "      <td>7812.559503773396</td>\n",
       "      <td>None</td>\n",
       "      <td>342821.1687621066</td>\n",
       "      <td>2.8963509791501536E9</td>\n",
       "      <td>None</td>\n",
       "      <td>0.8954474026731043</td>\n",
       "      <td>0.7711908718098446</td>\n",
       "      <td>939.8394756826191</td>\n",
       "      <td>28110.662009221247</td>\n",
       "      <td>30.92149089181688</td>\n",
       "      <td>36106.66555930428</td>\n",
       "    </tr>\n",
       "    <tr>\n",
       "      <th>3</th>\n",
       "      <td>min</td>\n",
       "      <td>1</td>\n",
       "      <td>1/1/07</td>\n",
       "      <td>3000</td>\n",
       "      <td>1000102</td>\n",
       "      <td>Multiplex</td>\n",
       "      <td>0</td>\n",
       "      <td>0.0</td>\n",
       "      <td>370</td>\n",
       "      <td>494</td>\n",
       "      <td>1900</td>\n",
       "      <td>-1</td>\n",
       "    </tr>\n",
       "    <tr>\n",
       "      <th>4</th>\n",
       "      <td>max</td>\n",
       "      <td>27063</td>\n",
       "      <td>9/9/14</td>\n",
       "      <td>11000000</td>\n",
       "      <td>9906000035</td>\n",
       "      <td>Townhouse</td>\n",
       "      <td>33</td>\n",
       "      <td>8.0</td>\n",
       "      <td>10740</td>\n",
       "      <td>1024068</td>\n",
       "      <td>2016</td>\n",
       "      <td>98354</td>\n",
       "    </tr>\n",
       "  </tbody>\n",
       "</table>\n",
       "</div>"
      ],
      "text/plain": [
       "  summary                 ID    Date          SalePrice            PropertyID  \\\n",
       "0   count              27063   27063              27063                 27063   \n",
       "1    mean            13532.0    None  511626.2031186491   4.680324882081883E9   \n",
       "2  stddev  7812.559503773396    None  342821.1687621066  2.8963509791501536E9   \n",
       "3     min                  1  1/1/07               3000               1000102   \n",
       "4     max              27063  9/9/14           11000000            9906000035   \n",
       "\n",
       "  PropertyType            Bedrooms           Bathrooms      SqFtTotLiving  \\\n",
       "0        27063               27063               27063              27063   \n",
       "1         None    3.38015002032295  2.2555518604737097  2122.963160033995   \n",
       "2         None  0.8954474026731043  0.7711908718098446  939.8394756826191   \n",
       "3    Multiplex                   0                 0.0                370   \n",
       "4    Townhouse                  33                 8.0              10740   \n",
       "\n",
       "              SqFtLot             YrBuilt            ZipCode  \n",
       "0               27063               27063              27063  \n",
       "1  10997.679747256401  1977.0868713742009   82223.0382440971  \n",
       "2  28110.662009221247   30.92149089181688  36106.66555930428  \n",
       "3                 494                1900                 -1  \n",
       "4             1024068                2016              98354  "
      ]
     },
     "execution_count": 8,
     "metadata": {},
     "output_type": "execute_result"
    }
   ],
   "source": [
    "## convert 'describe' output to Pandas for better display\n",
    "house_prices.describe().toPandas()"
   ]
  },
  {
   "cell_type": "code",
   "execution_count": 9,
   "metadata": {},
   "outputs": [
    {
     "data": {
      "text/html": [
       "<div>\n",
       "<style scoped>\n",
       "    .dataframe tbody tr th:only-of-type {\n",
       "        vertical-align: middle;\n",
       "    }\n",
       "\n",
       "    .dataframe tbody tr th {\n",
       "        vertical-align: top;\n",
       "    }\n",
       "\n",
       "    .dataframe thead th {\n",
       "        text-align: right;\n",
       "    }\n",
       "</style>\n",
       "<table border=\"1\" class=\"dataframe\">\n",
       "  <thead>\n",
       "    <tr style=\"text-align: right;\">\n",
       "      <th></th>\n",
       "      <th>0</th>\n",
       "      <th>1</th>\n",
       "      <th>2</th>\n",
       "      <th>3</th>\n",
       "      <th>4</th>\n",
       "    </tr>\n",
       "  </thead>\n",
       "  <tbody>\n",
       "    <tr>\n",
       "      <th>summary</th>\n",
       "      <td>count</td>\n",
       "      <td>mean</td>\n",
       "      <td>stddev</td>\n",
       "      <td>min</td>\n",
       "      <td>max</td>\n",
       "    </tr>\n",
       "    <tr>\n",
       "      <th>ID</th>\n",
       "      <td>27063</td>\n",
       "      <td>13532.0</td>\n",
       "      <td>7812.559503773396</td>\n",
       "      <td>1</td>\n",
       "      <td>27063</td>\n",
       "    </tr>\n",
       "    <tr>\n",
       "      <th>Date</th>\n",
       "      <td>27063</td>\n",
       "      <td>None</td>\n",
       "      <td>None</td>\n",
       "      <td>1/1/07</td>\n",
       "      <td>9/9/14</td>\n",
       "    </tr>\n",
       "    <tr>\n",
       "      <th>SalePrice</th>\n",
       "      <td>27063</td>\n",
       "      <td>511626.2031186491</td>\n",
       "      <td>342821.1687621066</td>\n",
       "      <td>3000</td>\n",
       "      <td>11000000</td>\n",
       "    </tr>\n",
       "    <tr>\n",
       "      <th>PropertyID</th>\n",
       "      <td>27063</td>\n",
       "      <td>4.680324882081883E9</td>\n",
       "      <td>2.8963509791501536E9</td>\n",
       "      <td>1000102</td>\n",
       "      <td>9906000035</td>\n",
       "    </tr>\n",
       "    <tr>\n",
       "      <th>PropertyType</th>\n",
       "      <td>27063</td>\n",
       "      <td>None</td>\n",
       "      <td>None</td>\n",
       "      <td>Multiplex</td>\n",
       "      <td>Townhouse</td>\n",
       "    </tr>\n",
       "    <tr>\n",
       "      <th>Bedrooms</th>\n",
       "      <td>27063</td>\n",
       "      <td>3.38015002032295</td>\n",
       "      <td>0.8954474026731043</td>\n",
       "      <td>0</td>\n",
       "      <td>33</td>\n",
       "    </tr>\n",
       "    <tr>\n",
       "      <th>Bathrooms</th>\n",
       "      <td>27063</td>\n",
       "      <td>2.2555518604737097</td>\n",
       "      <td>0.7711908718098446</td>\n",
       "      <td>0.0</td>\n",
       "      <td>8.0</td>\n",
       "    </tr>\n",
       "    <tr>\n",
       "      <th>SqFtTotLiving</th>\n",
       "      <td>27063</td>\n",
       "      <td>2122.963160033995</td>\n",
       "      <td>939.8394756826191</td>\n",
       "      <td>370</td>\n",
       "      <td>10740</td>\n",
       "    </tr>\n",
       "    <tr>\n",
       "      <th>SqFtLot</th>\n",
       "      <td>27063</td>\n",
       "      <td>10997.679747256401</td>\n",
       "      <td>28110.662009221247</td>\n",
       "      <td>494</td>\n",
       "      <td>1024068</td>\n",
       "    </tr>\n",
       "    <tr>\n",
       "      <th>YrBuilt</th>\n",
       "      <td>27063</td>\n",
       "      <td>1977.0868713742009</td>\n",
       "      <td>30.92149089181688</td>\n",
       "      <td>1900</td>\n",
       "      <td>2016</td>\n",
       "    </tr>\n",
       "    <tr>\n",
       "      <th>ZipCode</th>\n",
       "      <td>27063</td>\n",
       "      <td>82223.0382440971</td>\n",
       "      <td>36106.66555930428</td>\n",
       "      <td>-1</td>\n",
       "      <td>98354</td>\n",
       "    </tr>\n",
       "  </tbody>\n",
       "</table>\n",
       "</div>"
      ],
      "text/plain": [
       "                   0                    1                     2          3  \\\n",
       "summary        count                 mean                stddev        min   \n",
       "ID             27063              13532.0     7812.559503773396          1   \n",
       "Date           27063                 None                  None     1/1/07   \n",
       "SalePrice      27063    511626.2031186491     342821.1687621066       3000   \n",
       "PropertyID     27063  4.680324882081883E9  2.8963509791501536E9    1000102   \n",
       "PropertyType   27063                 None                  None  Multiplex   \n",
       "Bedrooms       27063     3.38015002032295    0.8954474026731043          0   \n",
       "Bathrooms      27063   2.2555518604737097    0.7711908718098446        0.0   \n",
       "SqFtTotLiving  27063    2122.963160033995     939.8394756826191        370   \n",
       "SqFtLot        27063   10997.679747256401    28110.662009221247        494   \n",
       "YrBuilt        27063   1977.0868713742009     30.92149089181688       1900   \n",
       "ZipCode        27063     82223.0382440971     36106.66555930428         -1   \n",
       "\n",
       "                        4  \n",
       "summary               max  \n",
       "ID                  27063  \n",
       "Date               9/9/14  \n",
       "SalePrice        11000000  \n",
       "PropertyID     9906000035  \n",
       "PropertyType    Townhouse  \n",
       "Bedrooms               33  \n",
       "Bathrooms             8.0  \n",
       "SqFtTotLiving       10740  \n",
       "SqFtLot           1024068  \n",
       "YrBuilt              2016  \n",
       "ZipCode             98354  "
      ]
     },
     "execution_count": 9,
     "metadata": {},
     "output_type": "execute_result"
    }
   ],
   "source": [
    "# you can also display vertically\n",
    "house_prices.describe().toPandas().T"
   ]
  },
  {
   "cell_type": "markdown",
   "metadata": {},
   "source": [
    "## Step 4: Get an idea of one or more attribute(s)"
   ]
  },
  {
   "cell_type": "code",
   "execution_count": 10,
   "metadata": {},
   "outputs": [
    {
     "name": "stdout",
     "output_type": "stream",
     "text": [
      "+-------+-----------------+\n",
      "|summary|        SalePrice|\n",
      "+-------+-----------------+\n",
      "|  count|            27063|\n",
      "|   mean|511626.2031186491|\n",
      "| stddev|342821.1687621066|\n",
      "|    min|             3000|\n",
      "|    max|         11000000|\n",
      "+-------+-----------------+\n",
      "\n"
     ]
    }
   ],
   "source": [
    "house_prices.describe(\"SalePrice\").show()\n"
   ]
  },
  {
   "cell_type": "code",
   "execution_count": 11,
   "metadata": {},
   "outputs": [
    {
     "name": "stdout",
     "output_type": "stream",
     "text": [
      "+-------+-----------------+------------------+\n",
      "|summary|        SalePrice|          Bedrooms|\n",
      "+-------+-----------------+------------------+\n",
      "|  count|            27063|             27063|\n",
      "|   mean|511626.2031186491|  3.38015002032295|\n",
      "| stddev|342821.1687621066|0.8954474026731043|\n",
      "|    min|             3000|                 0|\n",
      "|    max|         11000000|                33|\n",
      "+-------+-----------------+------------------+\n",
      "\n"
     ]
    }
   ],
   "source": [
    "house_prices.describe([\"SalePrice\", 'Bedrooms']).show()"
   ]
  },
  {
   "cell_type": "markdown",
   "metadata": {},
   "source": [
    "## Step 5: Report on Bedrooms vs Sales\n",
    "Let's calculte sales per bedrooms"
   ]
  },
  {
   "cell_type": "code",
   "execution_count": 12,
   "metadata": {},
   "outputs": [
    {
     "name": "stdout",
     "output_type": "stream",
     "text": [
      "+--------+-----+\n",
      "|Bedrooms|count|\n",
      "+--------+-----+\n",
      "|       1|  164|\n",
      "|      13|    1|\n",
      "|       6|  275|\n",
      "|       3|12074|\n",
      "|       5| 1872|\n",
      "|       9|    5|\n",
      "|       4| 9190|\n",
      "|       8|   10|\n",
      "|       7|   41|\n",
      "|      11|    3|\n",
      "|      33|    1|\n",
      "|       2| 3415|\n",
      "|       0|   12|\n",
      "+--------+-----+\n",
      "\n"
     ]
    }
   ],
   "source": [
    "## Hint : 'Bedrooms'\n",
    "bedroom_sales = house_prices.groupBy(\"Bedrooms\").count()\n",
    "bedroom_sales.show()"
   ]
  },
  {
   "cell_type": "code",
   "execution_count": 13,
   "metadata": {},
   "outputs": [
    {
     "name": "stdout",
     "output_type": "stream",
     "text": [
      "+--------+-----+\n",
      "|Bedrooms|count|\n",
      "+--------+-----+\n",
      "|       0|   12|\n",
      "|       1|  164|\n",
      "|       2| 3415|\n",
      "|       3|12074|\n",
      "|       4| 9190|\n",
      "|       5| 1872|\n",
      "|       6|  275|\n",
      "|       7|   41|\n",
      "|       8|   10|\n",
      "|       9|    5|\n",
      "|      11|    3|\n",
      "|      13|    1|\n",
      "|      33|    1|\n",
      "+--------+-----+\n",
      "\n"
     ]
    }
   ],
   "source": [
    "## order by bedrooms\n",
    "bedroom_sales.orderBy(\"Bedrooms\").show()"
   ]
  },
  {
   "cell_type": "code",
   "execution_count": 14,
   "metadata": {},
   "outputs": [
    {
     "data": {
      "image/png": "[encoded data removed]",
      "text/plain": [
       "<Figure size 432x288 with 1 Axes>"
      ]
     },
     "metadata": {},
     "output_type": "display_data"
    }
   ],
   "source": [
    "# quick plot\n",
    "pd_sales_by_bedrooms = bedroom_sales.toPandas()\n",
    "sns.barplot(x=\"Bedrooms\", y=\"count\",  data=pd_sales_by_bedrooms);"
   ]
  },
  {
   "cell_type": "code",
   "execution_count": 15,
   "metadata": {},
   "outputs": [
    {
     "name": "stdout",
     "output_type": "stream",
     "text": [
      "+--------+-----+\n",
      "|Bedrooms|count|\n",
      "+--------+-----+\n",
      "|      33|    1|\n",
      "|      13|    1|\n",
      "|      11|    3|\n",
      "|       9|    5|\n",
      "|       8|   10|\n",
      "|       7|   41|\n",
      "|       6|  275|\n",
      "|       5| 1872|\n",
      "|       4| 9190|\n",
      "|       3|12074|\n",
      "|       2| 3415|\n",
      "|       1|  164|\n",
      "|       0|   12|\n",
      "+--------+-----+\n",
      "\n"
     ]
    }
   ],
   "source": [
    "## order by count top to bottom\n",
    "bedroom_sales.orderBy(\"Bedrooms\", ascending=False).show()"
   ]
  },
  {
   "cell_type": "markdown",
   "metadata": {},
   "source": [
    "## Step 6 : Remove Outliers\n",
    "There are some outlier data.  \n",
    "For example, houses with large number of bedrooms (9, 33!).   \n",
    "Let's remove those.\n"
   ]
  },
  {
   "cell_type": "code",
   "execution_count": 16,
   "metadata": {},
   "outputs": [
    {
     "name": "stdout",
     "output_type": "stream",
     "text": [
      "raw data record count  27063\n",
      "less than 5br records count  26727\n",
      "+---+--------+---------+----------+-------------+--------+---------+-------------+-------+-------+-------+\n",
      "| ID|    Date|SalePrice|PropertyID| PropertyType|Bedrooms|Bathrooms|SqFtTotLiving|SqFtLot|YrBuilt|ZipCode|\n",
      "+---+--------+---------+----------+-------------+--------+---------+-------------+-------+-------+-------+\n",
      "|  2| 6/16/06|  1000000|   1200013|Single Family|       4|     3.75|         3764|  20156|   2005|  98166|\n",
      "|  3| 1/29/07|   745000|   1200019|Single Family|       4|     1.75|         2060|  26036|   1947|  98166|\n",
      "|  4| 2/25/08|   425000|   2800016|Single Family|       5|     3.75|         3200|   8618|   1966|  98168|\n",
      "|  5| 3/29/13|   240000|   2800024|Single Family|       4|     1.75|         1720|   8620|   1948|  98168|\n",
      "|  6| 3/30/09|   349900|   3600090|    Townhouse|       2|      1.5|          930|   1012|   2008|  98144|\n",
      "|  7| 8/28/13|   327500|   3800004|Single Family|       3|      1.5|         1750|  34465|   1961|  98178|\n",
      "|  8| 5/24/07|   347000|   3800009|Single Family|       4|     1.75|         1860|  14659|   1963|  98178|\n",
      "|  9| 9/22/06|   220400|   6600055|Single Family|       2|      1.0|          990|   5324|   1930|  98032|\n",
      "| 10| 8/22/06|   437500|   7200080|    Multiplex|       4|      2.0|         1980|  10585|   1924|  98055|\n",
      "| 11|10/16/14|   150000|   7200179|Single Family|       2|      1.0|          840|  12750|   1925|  98055|\n",
      "| 12| 1/14/10|   300000|   7400054|Single Family|       3|      1.0|         1750|   5200|   1958|  98118|\n",
      "| 13| 6/26/08|   292000|   7400062|Single Family|       2|      1.0|          790|   5240|   1925|  98118|\n",
      "| 14| 5/21/14|   299800|   7400062|Single Family|       2|      1.0|          790|   5240|   1925|  98118|\n",
      "| 15| 6/13/13|   370000|   7600065|    Townhouse|       3|     2.25|         1530|   1245|   2014|     -1|\n",
      "| 16| 9/25/06|   605000|   7600093|Single Family|       3|     2.75|         2120|   7320|   1901|  98122|\n",
      "| 17|  5/4/07|   475000|   7600136|    Townhouse|       2|      2.0|         1130|   1148|   2007|     -1|\n",
      "| 18| 2/24/07|   425000|   7600203|Single Family|       4|      1.5|         2620|   3485|   1920|  98122|\n",
      "| 19| 3/26/08|   357500|   7600218|    Townhouse|       2|      1.5|         1250|    924|   2007|     -1|\n",
      "| 20| 3/14/06|   455000|   9000210|Single Family|       3|     1.75|         1500|   5253|   1919|  98115|\n",
      "| 21| 11/9/07|   495000|  10000060|Single Family|       3|     2.25|         2070|   4600|   1909|  98116|\n",
      "+---+--------+---------+----------+-------------+--------+---------+-------------+-------+-------+-------+\n",
      "only showing top 20 rows\n",
      "\n"
     ]
    }
   ],
   "source": [
    "## TODO : filter data that is less than or equal to 5 bedrooms\n",
    "print(\"raw data record count \", house_prices.count())\n",
    "## Hint : 5\n",
    "x = house_prices.filter(\"Bedrooms <= 5\")\n",
    "print (\"less than 5br records count \", x.count())\n",
    "x.show()"
   ]
  },
  {
   "cell_type": "code",
   "execution_count": 17,
   "metadata": {},
   "outputs": [
    {
     "name": "stdout",
     "output_type": "stream",
     "text": [
      "+--------+-----+\n",
      "|Bedrooms|count|\n",
      "+--------+-----+\n",
      "|       0|   12|\n",
      "|       1|  164|\n",
      "|       2| 3415|\n",
      "|       3|12074|\n",
      "|       4| 9190|\n",
      "|       5| 1872|\n",
      "+--------+-----+\n",
      "\n"
     ]
    }
   ],
   "source": [
    "# do a summary on cleaned up data\n",
    "x.groupBy('Bedrooms').count().orderBy('Bedrooms').show()"
   ]
  },
  {
   "cell_type": "code",
   "execution_count": 18,
   "metadata": {},
   "outputs": [
    {
     "data": {
      "image/png": "[encoded data removed]",
      "text/plain": [
       "<Figure size 432x288 with 1 Axes>"
      ]
     },
     "metadata": {},
     "output_type": "display_data"
    }
   ],
   "source": [
    "## visualize\n",
    "pd_sales_by_bedrooms = x.groupBy('Bedrooms').count().orderBy('Bedrooms').toPandas()\n",
    "sns.barplot(x=\"Bedrooms\", y=\"count\",  data=pd_sales_by_bedrooms);"
   ]
  },
  {
   "cell_type": "markdown",
   "metadata": {},
   "source": [
    "## Step 7: Calculate some percentiles"
   ]
  },
  {
   "cell_type": "code",
   "execution_count": 19,
   "metadata": {},
   "outputs": [
    {
     "name": "stdout",
     "output_type": "stream",
     "text": [
      "(0.25, 0.5, 0.75, 0.9, 0.95)\n",
      "[329000.0, 425000.0, 590000.0, 820000.0, 1050000.0]\n"
     ]
    },
    {
     "data": {
      "text/html": [
       "<div>\n",
       "<style scoped>\n",
       "    .dataframe tbody tr th:only-of-type {\n",
       "        vertical-align: middle;\n",
       "    }\n",
       "\n",
       "    .dataframe tbody tr th {\n",
       "        vertical-align: top;\n",
       "    }\n",
       "\n",
       "    .dataframe thead th {\n",
       "        text-align: right;\n",
       "    }\n",
       "</style>\n",
       "<table border=\"1\" class=\"dataframe\">\n",
       "  <thead>\n",
       "    <tr style=\"text-align: right;\">\n",
       "      <th></th>\n",
       "      <th>percentile</th>\n",
       "      <th>price</th>\n",
       "    </tr>\n",
       "  </thead>\n",
       "  <tbody>\n",
       "    <tr>\n",
       "      <th>0</th>\n",
       "      <td>0.25</td>\n",
       "      <td>329000.0</td>\n",
       "    </tr>\n",
       "    <tr>\n",
       "      <th>1</th>\n",
       "      <td>0.50</td>\n",
       "      <td>425000.0</td>\n",
       "    </tr>\n",
       "    <tr>\n",
       "      <th>2</th>\n",
       "      <td>0.75</td>\n",
       "      <td>590000.0</td>\n",
       "    </tr>\n",
       "    <tr>\n",
       "      <th>3</th>\n",
       "      <td>0.90</td>\n",
       "      <td>820000.0</td>\n",
       "    </tr>\n",
       "    <tr>\n",
       "      <th>4</th>\n",
       "      <td>0.95</td>\n",
       "      <td>1050000.0</td>\n",
       "    </tr>\n",
       "  </tbody>\n",
       "</table>\n",
       "</div>"
      ],
      "text/plain": [
       "   percentile      price\n",
       "0        0.25   329000.0\n",
       "1        0.50   425000.0\n",
       "2        0.75   590000.0\n",
       "3        0.90   820000.0\n",
       "4        0.95  1050000.0"
      ]
     },
     "execution_count": 19,
     "metadata": {},
     "output_type": "execute_result"
    }
   ],
   "source": [
    "import pandas as pd\n",
    "\n",
    "percentiles = (0.25, 0.5, 0.75, 0.9, 0.95)\n",
    "prices = house_prices.stat.approxQuantile(\"SalePrice\", percentiles, 0.0)\n",
    "\n",
    "print(percentiles)\n",
    "print(prices)\n",
    "\n",
    "# get a Pandas dataframe for pretty print\n",
    "percentile_pricing_df = pd.DataFrame({\"percentile\": percentiles, \"price\": prices} )\n",
    "percentile_pricing_df"
   ]
  },
  {
   "cell_type": "markdown",
   "metadata": {},
   "source": [
    "### Visualize Prices per Bedrooms"
   ]
  },
  {
   "cell_type": "code",
   "execution_count": 20,
   "metadata": {},
   "outputs": [
    {
     "data": {
      "image/png": "[encoded data removed]",
      "text/plain": [
       "<Figure size 432x288 with 1 Axes>"
      ]
     },
     "metadata": {},
     "output_type": "display_data"
    }
   ],
   "source": [
    "pd_df = x.toPandas()\n",
    "# pd_df\n",
    "sns.boxplot(x=\"Bedrooms\", y=\"SalePrice\",  data=pd_df);"
   ]
  },
  {
   "cell_type": "markdown",
   "metadata": {},
   "source": [
    "### Better visualization, by removing outliers\n",
    "The above graph is not looking great (kinda squished).  Let's cleanup the data by removing outliers and try again."
   ]
  },
  {
   "cell_type": "code",
   "execution_count": 21,
   "metadata": {},
   "outputs": [
    {
     "data": {
      "text/plain": [
       "24108"
      ]
     },
     "execution_count": 21,
     "metadata": {},
     "output_type": "execute_result"
    }
   ],
   "source": [
    "# extract 90 percentile data\n",
    "ninety_percentile_data = x.filter( house_prices['SalePrice'] < prices[3])\n",
    "ninety_percentile_data.count()"
   ]
  },
  {
   "cell_type": "code",
   "execution_count": 22,
   "metadata": {},
   "outputs": [
    {
     "data": {
      "image/png": "[encoded data removed]",
      "text/plain": [
       "<Figure size 432x288 with 1 Axes>"
      ]
     },
     "metadata": {},
     "output_type": "display_data"
    }
   ],
   "source": [
    "sns.boxplot(x=\"Bedrooms\", y=\"SalePrice\",  data=ninety_percentile_data.toPandas());"
   ]
  },
  {
   "cell_type": "markdown",
   "metadata": {},
   "source": [
    "## Step 8: Explore Stat object in dataframe\n",
    "\n",
    "[API for pyspark.sql.DataFrameStatFunctions](http://spark.apache.org/docs/latest/api/python/pyspark.sql.html?highlight=dataframe#pyspark.sql.DataFrameStatFunctions)\n"
   ]
  },
  {
   "cell_type": "code",
   "execution_count": 23,
   "metadata": {},
   "outputs": [],
   "source": [
    "# hit the tab key after the dot(.)\n",
    "#house_prices.stat."
   ]
  },
  {
   "cell_type": "markdown",
   "metadata": {},
   "source": [
    "## Step 9: Covariance & Correlation\n",
    "\n",
    "Q1 : Calculate Covariance between \"SalePrice\"  and \"Bedrooms\"\n",
    "\n",
    "Q1 : Which attributes influences sale price more?  \n",
    "- Number of Bedrooms (\"Bedrooms\")\n",
    "- or size of the home (\"SqFtTotLiving\")\n",
    "\n",
    "Hint : calculate Correlation\n",
    "\n",
    "**Q=> Can you explain the result**"
   ]
  },
  {
   "cell_type": "code",
   "execution_count": 24,
   "metadata": {},
   "outputs": [
    {
     "name": "stdout",
     "output_type": "stream",
     "text": [
      "98160.81100123127\n",
      "0.3197646314392484\n",
      "0.6825731974206252\n"
     ]
    }
   ],
   "source": [
    "print (house_prices.stat.cov(\"SalePrice\", \"Bedrooms\"))\n",
    "\n",
    "print(house_prices.stat.corr(\"SalePrice\", \"Bedrooms\"))\n",
    "print(house_prices.stat.corr(\"SalePrice\", \"SqFtTotLiving\"))"
   ]
  },
  {
   "cell_type": "markdown",
   "metadata": {},
   "source": [
    "## Bonus Lab : Find the most expensive zip codes\n",
    "We have data from many zip codes.  \n",
    "To find the most expensive zip code, let's first calculate  **price per sqft**"
   ]
  },
  {
   "cell_type": "code",
   "execution_count": 25,
   "metadata": {},
   "outputs": [
    {
     "name": "stdout",
     "output_type": "stream",
     "text": [
      "+---------+-------------+------------------+-------+\n",
      "|SalePrice|SqFtTotLiving|    price_per_sqft|ZipCode|\n",
      "+---------+-------------+------------------+-------+\n",
      "|   280000|         2400|116.66666666666667|  98002|\n",
      "|  1000000|         3764| 265.6748140276302|  98166|\n",
      "|   745000|         2060| 361.6504854368932|  98166|\n",
      "|   425000|         3200|          132.8125|  98168|\n",
      "|   240000|         1720|139.53488372093022|  98168|\n",
      "|   349900|          930|376.23655913978496|  98144|\n",
      "|   327500|         1750|187.14285714285714|  98178|\n",
      "|   347000|         1860|186.55913978494624|  98178|\n",
      "|   220400|          990|222.62626262626262|  98032|\n",
      "|   437500|         1980|220.95959595959596|  98055|\n",
      "|   150000|          840|178.57142857142858|  98055|\n",
      "|   300000|         1750|171.42857142857142|  98118|\n",
      "|   292000|          790|369.62025316455697|  98118|\n",
      "|   299800|          790|379.49367088607596|  98118|\n",
      "|   370000|         1530|241.83006535947712|     -1|\n",
      "|   605000|         2120|285.37735849056605|  98122|\n",
      "|   475000|         1130|  420.353982300885|     -1|\n",
      "|   425000|         2620|162.21374045801528|  98122|\n",
      "|   357500|         1250|             286.0|     -1|\n",
      "|   455000|         1500| 303.3333333333333|  98115|\n",
      "+---------+-------------+------------------+-------+\n",
      "only showing top 20 rows\n",
      "\n"
     ]
    }
   ],
   "source": [
    "## Step 1 : calculate price per sqft\n",
    "## TODO : do the math, divide  house_prices['SalePrice'] by  house_prices['SqFtTotLiving']\n",
    "a = house_prices.withColumn(\"price_per_sqft\", house_prices[\"SalePrice\"] / house_prices['SqFtTotLiving'])\n",
    "\n",
    "price_per_sqft = a.select('SalePrice', 'SqFtTotLiving', 'price_per_sqft' , 'ZipCode')\n",
    "price_per_sqft.show()"
   ]
  },
  {
   "cell_type": "code",
   "execution_count": 26,
   "metadata": {},
   "outputs": [
    {
     "name": "stdout",
     "output_type": "stream",
     "text": [
      "+-------+-------------------+\n",
      "|ZipCode|avg(price_per_sqft)|\n",
      "+-------+-------------------+\n",
      "|  98002|  181.5828525214933|\n",
      "|  98155| 237.84921059107273|\n",
      "|  98146| 218.89232817573816|\n",
      "|  98198| 191.22741747822306|\n",
      "|  98122|  320.6815725211949|\n",
      "|     -1|  235.3764122257653|\n",
      "|  98077| 233.05769777314418|\n",
      "|  98006|  268.4866402952162|\n",
      "|  98001| 168.24814266664526|\n",
      "|  98005| 286.50793439730745|\n",
      "|  98112| 380.41852745080325|\n",
      "|  98115| 299.89803001862515|\n",
      "|  98059| 209.53742406143147|\n",
      "|  98075| 242.95418518214333|\n",
      "|  98023|  168.4872527174277|\n",
      "|  98109|  352.8134904173672|\n",
      "|  98136|  295.0808917119422|\n",
      "|  98354| 163.41905749954958|\n",
      "|  98052| 252.81048887226137|\n",
      "|  98011| 215.92797902062244|\n",
      "+-------+-------------------+\n",
      "only showing top 20 rows\n",
      "\n",
      "+-------+-----+\n",
      "|ZipCode|count|\n",
      "+-------+-----+\n",
      "|  98002|  180|\n",
      "|  98155|  358|\n",
      "|  98146|  287|\n",
      "|  98198|  225|\n",
      "|  98122|  380|\n",
      "|     -1| 4374|\n",
      "|  98077|  204|\n",
      "|  98006|  460|\n",
      "|  98001|  358|\n",
      "|  98005|  133|\n",
      "|  98112|  357|\n",
      "|  98115|  620|\n",
      "|  98059|  513|\n",
      "|  98075|  388|\n",
      "|  98023|  455|\n",
      "|  98109|  149|\n",
      "|  98136|  310|\n",
      "|  98354|    9|\n",
      "|  98052|  614|\n",
      "|  98011|  163|\n",
      "+-------+-----+\n",
      "only showing top 20 rows\n",
      "\n"
     ]
    }
   ],
   "source": [
    "## Group data by zipcode and take the avg of price_per_sqft\n",
    "b  = price_per_sqft.groupBy(\"ZipCode\").avg(\"price_per_sqft\")\n",
    "b.show()\n",
    "\n",
    "## How many sales by zipcode\n",
    "price_per_sqft.groupBy(\"ZipCode\").count().show()"
   ]
  },
  {
   "cell_type": "code",
   "execution_count": 27,
   "metadata": {},
   "outputs": [
    {
     "name": "stdout",
     "output_type": "stream",
     "text": [
      "+-------+-------------------+\n",
      "|ZipCode|avg(price_per_sqft)|\n",
      "+-------+-------------------+\n",
      "|  98039| 492.26818503150423|\n",
      "|  98004|  412.8363048536279|\n",
      "|  98112| 380.41852745080325|\n",
      "|  98102| 368.57700362843156|\n",
      "|  98040| 366.69539951568635|\n",
      "|  98119| 357.56526212969436|\n",
      "|  98109|  352.8134904173672|\n",
      "|  98105|  337.1771925707948|\n",
      "|  98122|  320.6815725211949|\n",
      "|  98103|  319.9441238813941|\n",
      "|  98199| 319.44484048873926|\n",
      "|  98033|  315.5449272890348|\n",
      "|  98050|  314.0568031563766|\n",
      "|  98107|  312.3686803938808|\n",
      "|  98117| 311.34980205209126|\n",
      "|  98116|  302.5782663533247|\n",
      "|  98115| 299.89803001862515|\n",
      "|  98136|  295.0808917119422|\n",
      "|  98070| 291.51827563742177|\n",
      "|  98068|  288.0794701986755|\n",
      "+-------+-------------------+\n",
      "only showing top 20 rows\n",
      "\n"
     ]
    }
   ],
   "source": [
    "## Now sort by avg price\n",
    "b.orderBy('avg(price_per_sqft)', ascending=False).show()"
   ]
  },
  {
   "cell_type": "markdown",
   "metadata": {},
   "source": [
    "## Bonus Lab 2 : Pre-Post Bubble data\n",
    "The sales data we have spans the housing bubble (year 2004 - 2006) and post bubble (year 2008 +). \n",
    "You may want to separate the data into 2 segments - pre/post bubble to get better results."
   ]
  },
  {
   "cell_type": "code",
   "execution_count": null,
   "metadata": {},
   "outputs": [],
   "source": []
  }
 ],
 "metadata": {
  "kernelspec": {
   "display_name": "Python 3",
   "language": "python",
   "name": "python3"
  },
  "language_info": {
   "codemirror_mode": {
    "name": "ipython",
    "version": 3
   },
   "file_extension": ".py",
   "mimetype": "text/x-python",
   "name": "python",
   "nbconvert_exporter": "python",
   "pygments_lexer": "ipython3",
   "version": "3.6.6"
  }
 },
 "nbformat": 4,
 "nbformat_minor": 2
}
