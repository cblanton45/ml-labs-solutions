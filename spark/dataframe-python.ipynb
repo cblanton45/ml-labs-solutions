{
 "cells": [
  {
   "cell_type": "markdown",
   "metadata": {},
   "source": [
    "[<< back to main index](../README.md) \n",
    "\n",
    "# Lab : Spark Dataframes\n",
    "\n",
    "\n",
    "### Overview\n",
    "First look at Spark Dataframes\n",
    "\n",
    "### Depends On \n",
    "None\n",
    "\n",
    "### Run time\n",
    "20-30 mins\n"
   ]
  },
  {
   "cell_type": "code",
   "execution_count": 1,
   "metadata": {
    "collapsed": true
   },
   "outputs": [
    {
     "name": "stdout",
     "output_type": "stream",
     "text": [
      "Initializing Spark...\n",
      "Spark found in :  /Users/sujee/spark\n",
      "Spark config:\n",
      "\t spark.app.name=TestApp\n",
      "\tspark.master=local[*]\n",
      "\texecutor.memory=2g\n",
      "\tspark.sql.warehouse.dir=/var/folders/lp/qm_skljd2hl4xtps5vw0tdgm0000gn/T/tmp6vmgwg88\n",
      "\tsome_property=some_value\n",
      "Spark UI running on port 4040\n"
     ]
    },
    {
     "data": {
      "text/html": [
       "\n",
       "            <div>\n",
       "                <p><b>SparkSession - in-memory</b></p>\n",
       "                \n",
       "        <div>\n",
       "            <p><b>SparkContext</b></p>\n",
       "\n",
       "            <p><a href=\"http://localhost:4040\">Spark UI</a></p>\n",
       "\n",
       "            <dl>\n",
       "              <dt>Version</dt>\n",
       "                <dd><code>v2.3.0</code></dd>\n",
       "              <dt>Master</dt>\n",
       "                <dd><code>local[*]</code></dd>\n",
       "              <dt>AppName</dt>\n",
       "                <dd><code>TestApp</code></dd>\n",
       "            </dl>\n",
       "        </div>\n",
       "        \n",
       "            </div>\n",
       "        "
      ],
      "text/plain": [
       "<pyspark.sql.session.SparkSession at 0x111142f28>"
      ]
     },
     "execution_count": 1,
     "metadata": {},
     "output_type": "execute_result"
    }
   ],
   "source": [
    "# initialize Spark Session\n",
    "import os\n",
    "import sys\n",
    "top_dir = os.path.abspath(os.path.join(os.getcwd(), \"../\"))\n",
    "if top_dir not in sys.path:\n",
    "    sys.path.append(top_dir)\n",
    "\n",
    "from init_spark import init_spark\n",
    "spark = init_spark()\n",
    "spark"
   ]
  },
  {
   "cell_type": "markdown",
   "metadata": {},
   "source": [
    "\n",
    "## STEP 1: Load Clickstream data"
   ]
  },
  {
   "cell_type": "code",
   "execution_count": 2,
   "metadata": {
    "attributes": {
     "classes": [
      "scala"
     ],
     "id": ""
    },
    "collapsed": true
   },
   "outputs": [
    {
     "name": "stdout",
     "output_type": "stream",
     "text": [
      "DataFrame[action: string, campaign: string, cost: bigint, domain: string, ip: string, session: string, timestamp: bigint, user: string]\n"
     ]
    }
   ],
   "source": [
    "clickstreamDF = spark.read.json(\"/data/click-stream/clickstream.json\")\n",
    "print(clickstreamDF)"
   ]
  },
  {
   "cell_type": "markdown",
   "metadata": {},
   "source": [
    "**==> Monitor Spark shell UI on port 4040**  \n",
    "You may see something like this:\n",
    "\n",
    "**==> Q : Why is Spark not lazy loading the JASON files? **\n",
    "\n",
    "<img src=\"../assets/images/5.1a.png\" style=\"border: 5px solid grey; max-width:100%;\" />\n",
    "\n",
    "\n",
    "\n",
    "\n",
    "## STEP 2 : Inspecting The Dataframe\n",
    "\n",
    "**==> Print the schema of data frame**     \n"
   ]
  },
  {
   "cell_type": "code",
   "execution_count": 3,
   "metadata": {
    "collapsed": true
   },
   "outputs": [
    {
     "name": "stdout",
     "output_type": "stream",
     "text": [
      "root\n",
      " |-- action: string (nullable = true)\n",
      " |-- campaign: string (nullable = true)\n",
      " |-- cost: long (nullable = true)\n",
      " |-- domain: string (nullable = true)\n",
      " |-- ip: string (nullable = true)\n",
      " |-- session: string (nullable = true)\n",
      " |-- timestamp: long (nullable = true)\n",
      " |-- user: string (nullable = true)\n",
      "\n"
     ]
    }
   ],
   "source": [
    "# TODO: Print the schema\n",
    "# Hint : `printSchema()`\n",
    "\n",
    "clickstreamDF.printSchema()"
   ]
  },
  {
   "cell_type": "markdown",
   "metadata": {},
   "source": [
    "Your output may look like this:\n",
    "\n",
    "```\n",
    "    root\n",
    "     |-- action: string (nullable = true)\n",
    "     |-- campaign: string (nullable = true)\n",
    "     |-- cost: long (nullable = true)\n",
    "     |-- domain: string (nullable = true)\n",
    "     |-- ip: string (nullable = true)\n",
    "     |-- session: string (nullable = true)\n",
    "     |-- timestamp: long (nullable = true)\n",
    "     |-- user: string (nullable = true)\n",
    "```\n",
    "\n",
    "**==> Print / Dump the data contained within dataframe**  "
   ]
  },
  {
   "cell_type": "code",
   "execution_count": 4,
   "metadata": {
    "collapsed": true
   },
   "outputs": [
    {
     "name": "stdout",
     "output_type": "stream",
     "text": [
      "+-------+-----------+----+-----------------+----+----------+-------------+------+\n",
      "| action|   campaign|cost|           domain|  ip|   session|    timestamp|  user|\n",
      "+-------+-----------+----+-----------------+----+----------+-------------+------+\n",
      "|clicked|campaign_19| 118|      youtube.com|ip_4|session_36|1420070400000|user_9|\n",
      "|blocked|campaign_12|   5|     facebook.com|ip_3|session_96|1420070400864|user_5|\n",
      "|clicked| campaign_3|  54|sf.craigslist.org|ip_9|session_61|1420070401728|user_8|\n",
      "|blocked|campaign_18| 110|    wikipedia.org|ip_5|session_55|1420070402592|user_6|\n",
      "|clicked| campaign_6|  15|comedycentral.com|ip_9|session_49|1420070403456|user_4|\n",
      "|blocked| campaign_9| 139|          cnn.com|ip_8|session_13|1420070404320|user_7|\n",
      "|blocked| campaign_4| 171|   funnyordie.com|ip_1|session_92|1420070405184|user_9|\n",
      "|blocked|campaign_17|  20|       amazon.com|ip_4|session_13|1420070406048|user_1|\n",
      "|blocked|campaign_20|  78|        zynga.com|ip_5|session_36|1420070406912|user_3|\n",
      "|blocked|campaign_19| 147|      nytimes.com|ip_2|session_65|1420070407776|user_6|\n",
      "| viewed| campaign_5|  50|    wikipedia.org|ip_5|session_10|1420070408640|user_6|\n",
      "|clicked|campaign_16| 141|    wikipedia.org|ip_1|session_57|1420070409504|user_1|\n",
      "| viewed|campaign_19|   0|sf.craigslist.org|ip_9|session_19|1420070410368|user_7|\n",
      "| viewed| campaign_1|  24|        yahoo.com|ip_4|session_60|1420070411232|user_8|\n",
      "|clicked| campaign_5|  74|       sfgate.com|ip_6|session_27|1420070412096|user_3|\n",
      "|blocked| campaign_2|   7|      youtube.com|ip_2|session_93|1420070412960|user_1|\n",
      "|blocked| campaign_9| 153|       google.com|ip_3|session_22|1420070413824|user_9|\n",
      "|blocked| campaign_8| 140|comedycentral.com|ip_8| session_4|1420070414688|user_2|\n",
      "|blocked|campaign_19|  23|       amazon.com|ip_5|session_85|1420070415552|user_7|\n",
      "| viewed|campaign_20| 133|       google.com|ip_9|session_69|1420070416416|user_7|\n",
      "+-------+-----------+----+-----------------+----+----------+-------------+------+\n",
      "\n"
     ]
    }
   ],
   "source": [
    "# TODO: Print/Dump the data\n",
    "# Hint : show()\n",
    "clickstreamDF.show()"
   ]
  },
  {
   "cell_type": "markdown",
   "metadata": {
    "attributes": {
     "classes": [
      "console"
     ],
     "id": ""
    }
   },
   "source": [
    "Your output may look like this:\n",
    "\n",
    "```\n",
    "+-------+-----------+----+-----------------+----+----------+-------------+------+\n",
    "| action|   campaign|cost|           domain|  ip|   session|    timestamp|  user|\n",
    "+-------+-----------+----+-----------------+----+----------+-------------+------+\n",
    "|clicked|campaign_19| 118|      youtube.com|ip_4|session_36|1420070400000|user_9|\n",
    "|blocked|campaign_12|   5|     facebook.com|ip_3|session_96|1420070400864|user_5|\n",
    "|clicked| campaign_3|  54|sf.craigslist.org|ip_9|session_61|1420070401728|user_8|\n",
    "...\n",
    "\n",
    "```"
   ]
  },
  {
   "cell_type": "markdown",
   "metadata": {},
   "source": [
    "**==> Explore methods available in Dataframe**  \n",
    "1) Here is the Dataframe API : \n",
    "[Scala](http://spark.apache.org/docs/latest/api/scala/index.html#org.apache.spark.sql.DataFrame)  /\n",
    "[Java](http://spark.apache.org/docs/latest/api/java/org/apache/spark/sql/DataFrame.html) / \n",
    "[Python](http://spark.apache.org/docs/latest/api/python/pyspark.sql.html?highlight=dataframe#pyspark.sql.DataFrame)\n"
   ]
  },
  {
   "cell_type": "markdown",
   "metadata": {},
   "source": [
    "\n",
    "## STEP 3 : Querying Dataframe\n",
    "\n",
    "**==> Show only click logs where the cost > 100**"
   ]
  },
  {
   "cell_type": "code",
   "execution_count": 5,
   "metadata": {
    "attributes": {
     "classes": [
      "scala"
     ],
     "id": ""
    },
    "collapsed": true,
    "scrolled": true
   },
   "outputs": [
    {
     "name": "stdout",
     "output_type": "stream",
     "text": [
      "+-------+-----------+----+-----------------+----+----------+-------------+------+\n",
      "| action|   campaign|cost|           domain|  ip|   session|    timestamp|  user|\n",
      "+-------+-----------+----+-----------------+----+----------+-------------+------+\n",
      "|clicked|campaign_19| 118|      youtube.com|ip_4|session_36|1420070400000|user_9|\n",
      "|blocked|campaign_18| 110|    wikipedia.org|ip_5|session_55|1420070402592|user_6|\n",
      "|blocked| campaign_9| 139|          cnn.com|ip_8|session_13|1420070404320|user_7|\n",
      "|blocked| campaign_4| 171|   funnyordie.com|ip_1|session_92|1420070405184|user_9|\n",
      "|blocked|campaign_19| 147|      nytimes.com|ip_2|session_65|1420070407776|user_6|\n",
      "|clicked|campaign_16| 141|    wikipedia.org|ip_1|session_57|1420070409504|user_1|\n",
      "|blocked| campaign_9| 153|       google.com|ip_3|session_22|1420070413824|user_9|\n",
      "|blocked| campaign_8| 140|comedycentral.com|ip_8| session_4|1420070414688|user_2|\n",
      "| viewed|campaign_20| 133|       google.com|ip_9|session_69|1420070416416|user_7|\n",
      "+-------+-----------+----+-----------------+----+----------+-------------+------+\n",
      "\n"
     ]
    }
   ],
   "source": [
    "clickstreamDF.filter(\"cost > 100\").show()"
   ]
  },
  {
   "cell_type": "code",
   "execution_count": 6,
   "metadata": {
    "collapsed": true
   },
   "outputs": [
    {
     "name": "stdout",
     "output_type": "stream",
     "text": [
      "+-------+-----------+----+-----------------+----+----------+-------------+------+\n",
      "| action|   campaign|cost|           domain|  ip|   session|    timestamp|  user|\n",
      "+-------+-----------+----+-----------------+----+----------+-------------+------+\n",
      "|clicked|campaign_19| 118|      youtube.com|ip_4|session_36|1420070400000|user_9|\n",
      "|blocked|campaign_18| 110|    wikipedia.org|ip_5|session_55|1420070402592|user_6|\n",
      "|blocked| campaign_9| 139|          cnn.com|ip_8|session_13|1420070404320|user_7|\n",
      "|blocked| campaign_4| 171|   funnyordie.com|ip_1|session_92|1420070405184|user_9|\n",
      "|blocked|campaign_19| 147|      nytimes.com|ip_2|session_65|1420070407776|user_6|\n",
      "|clicked|campaign_16| 141|    wikipedia.org|ip_1|session_57|1420070409504|user_1|\n",
      "|blocked| campaign_9| 153|       google.com|ip_3|session_22|1420070413824|user_9|\n",
      "|blocked| campaign_8| 140|comedycentral.com|ip_8| session_4|1420070414688|user_2|\n",
      "| viewed|campaign_20| 133|       google.com|ip_9|session_69|1420070416416|user_7|\n",
      "+-------+-----------+----+-----------------+----+----------+-------------+------+\n",
      "\n"
     ]
    }
   ],
   "source": [
    "#Same thing\n",
    "clickstreamDF.filter(clickstreamDF['cost'] > 100).show()\n"
   ]
  },
  {
   "cell_type": "markdown",
   "metadata": {
    "attributes": {
     "classes": [
      "console"
     ],
     "id": ""
    }
   },
   "source": [
    "Sample output\n",
    "\n",
    "```\n",
    "    +-------+-----------+----+-----------------+----+----------+-------------+------+\n",
    "    | action|   campaign|cost|           domain|  ip|   session|    timestamp|  user|\n",
    "    +-------+-----------+----+-----------------+----+----------+-------------+------+\n",
    "    |clicked|campaign_19| 118|      youtube.com|ip_4|session_36|1420070400000|user_9|\n",
    "    |blocked|campaign_18| 110|    wikipedia.org|ip_5|session_55|1420070402592|user_6|\n",
    "    |blocked| campaign_9| 139|          cnn.com|ip_8|session_13|1420070404320|user_7|\n",
    "```"
   ]
  },
  {
   "cell_type": "markdown",
   "metadata": {},
   "source": [
    "**==> Show the logs where action = clicked**  "
   ]
  },
  {
   "cell_type": "code",
   "execution_count": 7,
   "metadata": {
    "collapsed": true
   },
   "outputs": [
    {
     "data": {
      "text/plain": [
       "DataFrame[action: string, campaign: string, cost: bigint, domain: string, ip: string, session: string, timestamp: bigint, user: string]"
      ]
     },
     "execution_count": 7,
     "metadata": {},
     "output_type": "execute_result"
    }
   ],
   "source": [
    "# TODO: show the logs where action = clicked\n",
    "# Hint : clickstreamDF.filter(\"action == '???'\")\n",
    "clickstreamDF.filter (\"action == 'clicked'\")"
   ]
  },
  {
   "cell_type": "code",
   "execution_count": 8,
   "metadata": {
    "attributes": {
     "classes": [
      "scala"
     ],
     "id": ""
    },
    "collapsed": true,
    "scrolled": true
   },
   "outputs": [
    {
     "name": "stdout",
     "output_type": "stream",
     "text": [
      "+-------+-----------+----+-----------------+----+----------+-------------+------+\n",
      "| action|   campaign|cost|           domain|  ip|   session|    timestamp|  user|\n",
      "+-------+-----------+----+-----------------+----+----------+-------------+------+\n",
      "|clicked|campaign_19| 118|      youtube.com|ip_4|session_36|1420070400000|user_9|\n",
      "|clicked| campaign_3|  54|sf.craigslist.org|ip_9|session_61|1420070401728|user_8|\n",
      "|clicked| campaign_6|  15|comedycentral.com|ip_9|session_49|1420070403456|user_4|\n",
      "|clicked|campaign_16| 141|    wikipedia.org|ip_1|session_57|1420070409504|user_1|\n",
      "|clicked| campaign_5|  74|       sfgate.com|ip_6|session_27|1420070412096|user_3|\n",
      "+-------+-----------+----+-----------------+----+----------+-------------+------+\n",
      "\n"
     ]
    }
   ],
   "source": [
    "## TODO Another approach\n",
    "clickstreamDF.filter(clickstreamDF['action'] == 'clicked').show()"
   ]
  },
  {
   "cell_type": "markdown",
   "metadata": {},
   "source": [
    "## Step 5 : Count the number of visits from each domain\n",
    "\n",
    "Hint : `g = clickstreamDF.groupBy(\"column_name\")`  \n",
    "* Inspect methods on `g`  (use tab completion)  \n",
    "* Then do `count` on `g`  \n",
    "* Then do a show  \n",
    "* So `clickstreamDF.groupby().count.show`  "
   ]
  },
  {
   "cell_type": "code",
   "execution_count": 9,
   "metadata": {
    "collapsed": true
   },
   "outputs": [
    {
     "name": "stdout",
     "output_type": "stream",
     "text": [
      "+-----------------+-----+\n",
      "|           domain|count|\n",
      "+-----------------+-----+\n",
      "|      nytimes.com|    1|\n",
      "|      youtube.com|    2|\n",
      "|        zynga.com|    1|\n",
      "|       google.com|    2|\n",
      "|        yahoo.com|    1|\n",
      "|     facebook.com|    1|\n",
      "|          cnn.com|    1|\n",
      "|    wikipedia.org|    3|\n",
      "|       sfgate.com|    1|\n",
      "|       amazon.com|    2|\n",
      "|   funnyordie.com|    1|\n",
      "|sf.craigslist.org|    2|\n",
      "|comedycentral.com|    2|\n",
      "+-----------------+-----+\n",
      "\n"
     ]
    }
   ],
   "source": [
    "## TODO: \n",
    "g = clickstreamDF.groupBy(\"domain\")\n",
    "\n",
    "## TODO: do the count\n",
    "# g.???()\n",
    "\n",
    "## And finally show\n",
    "g.count().show()"
   ]
  },
  {
   "cell_type": "markdown",
   "metadata": {},
   "source": [
    "## STEP 6 : Joining Dataframes\n",
    "\n",
    "Let's load another data set `domain info`  \n",
    "The data is in   `/data/click-stream/domain-info.json`  \n",
    "The data looks like this:\n",
    "\n",
    "```json\n",
    "    {\"domain\":\"amazon.com\",\"category\":\"SHOPPING\"}\n",
    "    {\"domain\":\"bbc.co.uk\",\"category\":\"NEWS\"}\n",
    "    {\"domain\":\"facebook.com\",\"category\":\"SOCIAL\"}\n",
    "    ...\n",
    "```\n",
    "\n",
    "**==> Load the dataframe**"
   ]
  },
  {
   "cell_type": "code",
   "execution_count": 10,
   "metadata": {
    "attributes": {
     "classes": [
      "scala"
     ],
     "id": ""
    },
    "collapsed": true
   },
   "outputs": [
    {
     "name": "stdout",
     "output_type": "stream",
     "text": [
      "DataFrame[category: string, domain: string]\n"
     ]
    }
   ],
   "source": [
    "domainsDF = spark.read.json(\"/data/click-stream/domain-info.json\")\n",
    "print(domainsDF)\n"
   ]
  },
  {
   "cell_type": "code",
   "execution_count": 11,
   "metadata": {
    "collapsed": true
   },
   "outputs": [
    {
     "name": "stdout",
     "output_type": "stream",
     "text": [
      "+-----------+-----------------+\n",
      "|   category|           domain|\n",
      "+-----------+-----------------+\n",
      "|   SHOPPING|       amazon.com|\n",
      "|       NEWS|        bbc.co.uk|\n",
      "|     SOCIAL|     facebook.com|\n",
      "|      PHOTO|       flickr.com|\n",
      "|       NEWS|      foxnews.com|\n",
      "|     SEARCH|       google.com|\n",
      "|       NEWS|          npr.org|\n",
      "|       NEWS|      nytimes.com|\n",
      "|CLASSIFIEDS|sf.craigslist.org|\n",
      "|       NEWS|       sfgate.com|\n",
      "|     SOCIAL|      twitter.com|\n",
      "|       NEWS|     usatoday.com|\n",
      "|  REFERENCE|    wikipedia.org|\n",
      "|     SEARCH|        yahoo.com|\n",
      "|      VIDEO|      youtube.com|\n",
      "+-----------+-----------------+\n",
      "\n"
     ]
    }
   ],
   "source": [
    "## TODO display domains data\n",
    "## Hint : show()\n",
    "domainsDF.show()"
   ]
  },
  {
   "cell_type": "markdown",
   "metadata": {},
   "source": [
    "**==> Join both dataframes**"
   ]
  },
  {
   "cell_type": "code",
   "execution_count": 12,
   "metadata": {
    "attributes": {
     "classes": [
      "scala"
     ],
     "id": ""
    },
    "collapsed": true
   },
   "outputs": [
    {
     "name": "stdout",
     "output_type": "stream",
     "text": [
      "+-------+-----------+----+-----------------+----+----------+-------------+------+-----------+-----------------+\n",
      "| action|   campaign|cost|           domain|  ip|   session|    timestamp|  user|   category|           domain|\n",
      "+-------+-----------+----+-----------------+----+----------+-------------+------+-----------+-----------------+\n",
      "|clicked|campaign_19| 118|      youtube.com|ip_4|session_36|1420070400000|user_9|      VIDEO|      youtube.com|\n",
      "|blocked|campaign_12|   5|     facebook.com|ip_3|session_96|1420070400864|user_5|     SOCIAL|     facebook.com|\n",
      "|clicked| campaign_3|  54|sf.craigslist.org|ip_9|session_61|1420070401728|user_8|CLASSIFIEDS|sf.craigslist.org|\n",
      "|blocked|campaign_18| 110|    wikipedia.org|ip_5|session_55|1420070402592|user_6|  REFERENCE|    wikipedia.org|\n",
      "|blocked|campaign_17|  20|       amazon.com|ip_4|session_13|1420070406048|user_1|   SHOPPING|       amazon.com|\n",
      "|blocked|campaign_19| 147|      nytimes.com|ip_2|session_65|1420070407776|user_6|       NEWS|      nytimes.com|\n",
      "| viewed| campaign_5|  50|    wikipedia.org|ip_5|session_10|1420070408640|user_6|  REFERENCE|    wikipedia.org|\n",
      "|clicked|campaign_16| 141|    wikipedia.org|ip_1|session_57|1420070409504|user_1|  REFERENCE|    wikipedia.org|\n",
      "| viewed|campaign_19|   0|sf.craigslist.org|ip_9|session_19|1420070410368|user_7|CLASSIFIEDS|sf.craigslist.org|\n",
      "| viewed| campaign_1|  24|        yahoo.com|ip_4|session_60|1420070411232|user_8|     SEARCH|        yahoo.com|\n",
      "|clicked| campaign_5|  74|       sfgate.com|ip_6|session_27|1420070412096|user_3|       NEWS|       sfgate.com|\n",
      "|blocked| campaign_2|   7|      youtube.com|ip_2|session_93|1420070412960|user_1|      VIDEO|      youtube.com|\n",
      "|blocked| campaign_9| 153|       google.com|ip_3|session_22|1420070413824|user_9|     SEARCH|       google.com|\n",
      "|blocked|campaign_19|  23|       amazon.com|ip_5|session_85|1420070415552|user_7|   SHOPPING|       amazon.com|\n",
      "| viewed|campaign_20| 133|       google.com|ip_9|session_69|1420070416416|user_7|     SEARCH|       google.com|\n",
      "+-------+-----------+----+-----------------+----+----------+-------------+------+-----------+-----------------+\n",
      "\n"
     ]
    }
   ],
   "source": [
    "\n",
    "joined = clickstreamDF.join(domainsDF,  clickstreamDF[\"domain\"] == domainsDF[\"domain\"])\n",
    "    \n",
    "#see the results\n",
    "joined.show()"
   ]
  },
  {
   "cell_type": "markdown",
   "metadata": {
    "attributes": {
     "classes": [
      "console"
     ],
     "id": ""
    }
   },
   "source": [
    "**==> Inspect the results, here is a sample**\n",
    "\n",
    "```\n",
    "    +-------+-----------+----+-----------------+----+----------+-------------+------+-----------+-----------------+\n",
    "    | action|   campaign|cost|           domain|  ip|   session|    timestamp|  user|   category|           domain|\n",
    "    +-------+-----------+----+-----------------+----+----------+-------------+------+-----------+-----------------+\n",
    "    |clicked|campaign_19| 118|      youtube.com|ip_4|session_36|1420070400000|user_9|      VIDEO|      youtube.com|\n",
    "    |blocked| campaign_2|   7|      youtube.com|ip_2|session_93|1420070412960|user_1|      VIDEO|      youtube.com|\n",
    "    |blocked|campaign_17|  20|       amazon.com|ip_4|session_13|1420070406048|user_1|   SHOPPING|       amazon.com|\n",
    "```"
   ]
  },
  {
   "cell_type": "markdown",
   "metadata": {},
   "source": [
    "**==> Note some rows are missing.  Which ones?  Why?**\n",
    "\n",
    "**==> Do an outer join**    "
   ]
  },
  {
   "cell_type": "code",
   "execution_count": 13,
   "metadata": {
    "collapsed": true
   },
   "outputs": [
    {
     "name": "stdout",
     "output_type": "stream",
     "text": [
      "+-------+-----------+----+-------------+----+----------+-------------+------+---------+-------------+\n",
      "| action|   campaign|cost|       domain|  ip|   session|    timestamp|  user| category|       domain|\n",
      "+-------+-----------+----+-------------+----+----------+-------------+------+---------+-------------+\n",
      "|blocked|campaign_19| 147|  nytimes.com|ip_2|session_65|1420070407776|user_6|     NEWS|  nytimes.com|\n",
      "|clicked|campaign_19| 118|  youtube.com|ip_4|session_36|1420070400000|user_9|    VIDEO|  youtube.com|\n",
      "|blocked| campaign_2|   7|  youtube.com|ip_2|session_93|1420070412960|user_1|    VIDEO|  youtube.com|\n",
      "|blocked|campaign_20|  78|    zynga.com|ip_5|session_36|1420070406912|user_3|     null|         null|\n",
      "|blocked| campaign_9| 153|   google.com|ip_3|session_22|1420070413824|user_9|   SEARCH|   google.com|\n",
      "| viewed|campaign_20| 133|   google.com|ip_9|session_69|1420070416416|user_7|   SEARCH|   google.com|\n",
      "|   null|       null|null|         null|null|      null|         null|  null|     NEWS| usatoday.com|\n",
      "| viewed| campaign_1|  24|    yahoo.com|ip_4|session_60|1420070411232|user_8|   SEARCH|    yahoo.com|\n",
      "|blocked|campaign_12|   5| facebook.com|ip_3|session_96|1420070400864|user_5|   SOCIAL| facebook.com|\n",
      "|blocked| campaign_9| 139|      cnn.com|ip_8|session_13|1420070404320|user_7|     null|         null|\n",
      "|blocked|campaign_18| 110|wikipedia.org|ip_5|session_55|1420070402592|user_6|REFERENCE|wikipedia.org|\n",
      "| viewed| campaign_5|  50|wikipedia.org|ip_5|session_10|1420070408640|user_6|REFERENCE|wikipedia.org|\n",
      "|clicked|campaign_16| 141|wikipedia.org|ip_1|session_57|1420070409504|user_1|REFERENCE|wikipedia.org|\n",
      "|   null|       null|null|         null|null|      null|         null|  null|     NEWS|    bbc.co.uk|\n",
      "|   null|       null|null|         null|null|      null|         null|  null|     NEWS|  foxnews.com|\n",
      "|clicked| campaign_5|  74|   sfgate.com|ip_6|session_27|1420070412096|user_3|     NEWS|   sfgate.com|\n",
      "|   null|       null|null|         null|null|      null|         null|  null|     NEWS|      npr.org|\n",
      "|   null|       null|null|         null|null|      null|         null|  null|   SOCIAL|  twitter.com|\n",
      "|blocked|campaign_17|  20|   amazon.com|ip_4|session_13|1420070406048|user_1| SHOPPING|   amazon.com|\n",
      "|blocked|campaign_19|  23|   amazon.com|ip_5|session_85|1420070415552|user_7| SHOPPING|   amazon.com|\n",
      "+-------+-----------+----+-------------+----+----------+-------------+------+---------+-------------+\n",
      "only showing top 20 rows\n",
      "\n"
     ]
    }
   ],
   "source": [
    "\n",
    "joinedOuter = clickstreamDF.join(domainsDF,  clickstreamDF[\"domain\"] == domainsDF[\"domain\"], \"outer\")\n",
    "joinedOuter.show()"
   ]
  },
  {
   "cell_type": "markdown",
   "metadata": {
    "attributes": {
     "classes": [
      "console"
     ],
     "id": ""
    }
   },
   "source": [
    "**==> Inspect the output, might look like this**  \n",
    "**==> Can you explain the null values?**\n",
    "\n",
    "Output:\n",
    "\n",
    "```\n",
    "    +-------+-----------+----+-----------------+----+----------+-------------+------+-----------+-----------------+\n",
    "    | action|   campaign|cost|           domain|  ip|   session|    timestamp|  user|   category|           domain|\n",
    "    +-------+-----------+----+-----------------+----+----------+-------------+------+-----------+-----------------+\n",
    "    |blocked| campaign_9| 139|          cnn.com|ip_8|session_13|1420070404320|user_7|       null|             null|\n",
    "    |   null|       null|null|             null|null|      null|         null|  null|     SOCIAL|      twitter.com|\n",
    "    |clicked| campaign_6|  15|comedycentral.com|ip_9|session_49|1420070403456|user_4|       null|             null|\n",
    "```"
   ]
  },
  {
   "cell_type": "markdown",
   "metadata": {},
   "source": [
    "## Step 7: Understanding Query Execution\n",
    "We will use **explain** keyword"
   ]
  },
  {
   "cell_type": "code",
   "execution_count": 14,
   "metadata": {
    "collapsed": true
   },
   "outputs": [
    {
     "name": "stdout",
     "output_type": "stream",
     "text": [
      "== Parsed Logical Plan ==\n",
      "'Filter ('cost > 100)\n",
      "+- AnalysisBarrier\n",
      "      +- Relation[action#6,campaign#7,cost#8L,domain#9,ip#10,session#11,timestamp#12L,user#13] json\n",
      "\n",
      "== Analyzed Logical Plan ==\n",
      "action: string, campaign: string, cost: bigint, domain: string, ip: string, session: string, timestamp: bigint, user: string\n",
      "Filter (cost#8L > cast(100 as bigint))\n",
      "+- Relation[action#6,campaign#7,cost#8L,domain#9,ip#10,session#11,timestamp#12L,user#13] json\n",
      "\n",
      "== Optimized Logical Plan ==\n",
      "Filter (isnotnull(cost#8L) && (cost#8L > 100))\n",
      "+- Relation[action#6,campaign#7,cost#8L,domain#9,ip#10,session#11,timestamp#12L,user#13] json\n",
      "\n",
      "== Physical Plan ==\n",
      "*(1) Project [action#6, campaign#7, cost#8L, domain#9, ip#10, session#11, timestamp#12L, user#13]\n",
      "+- *(1) Filter (isnotnull(cost#8L) && (cost#8L > 100))\n",
      "   +- *(1) FileScan json [action#6,campaign#7,cost#8L,domain#9,ip#10,session#11,timestamp#12L,user#13] Batched: false, Format: JSON, Location: InMemoryFileIndex[file:/data/click-stream/clickstream.json], PartitionFilters: [], PushedFilters: [IsNotNull(cost), GreaterThan(cost,100)], ReadSchema: struct<action:string,campaign:string,cost:bigint,domain:string,ip:string,session:string,timestamp...\n"
     ]
    }
   ],
   "source": [
    "clickstreamDF.filter(\"cost > 100\").explain(extended=True)"
   ]
  },
  {
   "cell_type": "code",
   "execution_count": 15,
   "metadata": {
    "collapsed": true
   },
   "outputs": [
    {
     "name": "stdout",
     "output_type": "stream",
     "text": [
      "== Parsed Logical Plan ==\n",
      "Join Inner, (domain#9 = domain#192)\n",
      ":- Relation[action#6,campaign#7,cost#8L,domain#9,ip#10,session#11,timestamp#12L,user#13] json\n",
      "+- Relation[category#191,domain#192] json\n",
      "\n",
      "== Analyzed Logical Plan ==\n",
      "action: string, campaign: string, cost: bigint, domain: string, ip: string, session: string, timestamp: bigint, user: string, category: string, domain: string\n",
      "Join Inner, (domain#9 = domain#192)\n",
      ":- Relation[action#6,campaign#7,cost#8L,domain#9,ip#10,session#11,timestamp#12L,user#13] json\n",
      "+- Relation[category#191,domain#192] json\n",
      "\n",
      "== Optimized Logical Plan ==\n",
      "Join Inner, (domain#9 = domain#192)\n",
      ":- Filter isnotnull(domain#9)\n",
      ":  +- Relation[action#6,campaign#7,cost#8L,domain#9,ip#10,session#11,timestamp#12L,user#13] json\n",
      "+- Filter isnotnull(domain#192)\n",
      "   +- Relation[category#191,domain#192] json\n",
      "\n",
      "== Physical Plan ==\n",
      "*(2) BroadcastHashJoin [domain#9], [domain#192], Inner, BuildRight\n",
      ":- *(2) Project [action#6, campaign#7, cost#8L, domain#9, ip#10, session#11, timestamp#12L, user#13]\n",
      ":  +- *(2) Filter isnotnull(domain#9)\n",
      ":     +- *(2) FileScan json [action#6,campaign#7,cost#8L,domain#9,ip#10,session#11,timestamp#12L,user#13] Batched: false, Format: JSON, Location: InMemoryFileIndex[file:/data/click-stream/clickstream.json], PartitionFilters: [], PushedFilters: [IsNotNull(domain)], ReadSchema: struct<action:string,campaign:string,cost:bigint,domain:string,ip:string,session:string,timestamp...\n",
      "+- BroadcastExchange HashedRelationBroadcastMode(List(input[1, string, true]))\n",
      "   +- *(1) Project [category#191, domain#192]\n",
      "      +- *(1) Filter isnotnull(domain#192)\n",
      "         +- *(1) FileScan json [category#191,domain#192] Batched: false, Format: JSON, Location: InMemoryFileIndex[file:/data/click-stream/domain-info.json], PartitionFilters: [], PushedFilters: [IsNotNull(domain)], ReadSchema: struct<category:string,domain:string>\n"
     ]
    }
   ],
   "source": [
    "joined.explain(extended=True)"
   ]
  },
  {
   "cell_type": "code",
   "execution_count": 16,
   "metadata": {
    "collapsed": true
   },
   "outputs": [
    {
     "name": "stdout",
     "output_type": "stream",
     "text": [
      "== Parsed Logical Plan ==\n",
      "Join FullOuter, (domain#9 = domain#192)\n",
      ":- Relation[action#6,campaign#7,cost#8L,domain#9,ip#10,session#11,timestamp#12L,user#13] json\n",
      "+- Relation[category#191,domain#192] json\n",
      "\n",
      "== Analyzed Logical Plan ==\n",
      "action: string, campaign: string, cost: bigint, domain: string, ip: string, session: string, timestamp: bigint, user: string, category: string, domain: string\n",
      "Join FullOuter, (domain#9 = domain#192)\n",
      ":- Relation[action#6,campaign#7,cost#8L,domain#9,ip#10,session#11,timestamp#12L,user#13] json\n",
      "+- Relation[category#191,domain#192] json\n",
      "\n",
      "== Optimized Logical Plan ==\n",
      "Join FullOuter, (domain#9 = domain#192)\n",
      ":- Relation[action#6,campaign#7,cost#8L,domain#9,ip#10,session#11,timestamp#12L,user#13] json\n",
      "+- Relation[category#191,domain#192] json\n",
      "\n",
      "== Physical Plan ==\n",
      "SortMergeJoin [domain#9], [domain#192], FullOuter\n",
      ":- *(2) Sort [domain#9 ASC NULLS FIRST], false, 0\n",
      ":  +- Exchange hashpartitioning(domain#9, 200)\n",
      ":     +- *(1) FileScan json [action#6,campaign#7,cost#8L,domain#9,ip#10,session#11,timestamp#12L,user#13] Batched: false, Format: JSON, Location: InMemoryFileIndex[file:/data/click-stream/clickstream.json], PartitionFilters: [], PushedFilters: [], ReadSchema: struct<action:string,campaign:string,cost:bigint,domain:string,ip:string,session:string,timestamp...\n",
      "+- *(4) Sort [domain#192 ASC NULLS FIRST], false, 0\n",
      "   +- Exchange hashpartitioning(domain#192, 200)\n",
      "      +- *(3) FileScan json [category#191,domain#192] Batched: false, Format: JSON, Location: InMemoryFileIndex[file:/data/click-stream/domain-info.json], PartitionFilters: [], PushedFilters: [], ReadSchema: struct<category:string,domain:string>\n"
     ]
    }
   ],
   "source": [
    "joinedOuter.explain(extended=True)"
   ]
  }
 ],
 "metadata": {
  "kernelspec": {
   "display_name": "Python 3",
   "language": "python",
   "name": "python3"
  },
  "language_info": {
   "codemirror_mode": {
    "name": "ipython",
    "version": 3
   },
   "file_extension": ".py",
   "mimetype": "text/x-python",
   "name": "python",
   "nbconvert_exporter": "python",
   "pygments_lexer": "ipython3",
   "version": "3.6.6"
  }
 },
 "nbformat": 4,
 "nbformat_minor": 2
}
